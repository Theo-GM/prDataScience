{
 "cells": [
  {
   "cell_type": "markdown",
   "id": "5a698516-3487-4e9b-b98d-f9d6311bf226",
   "metadata": {},
   "source": [
    "LISTAS"
   ]
  },
  {
   "cell_type": "code",
   "execution_count": 1,
   "id": "cf82a2f7-0726-4cf2-a965-254818dd8b13",
   "metadata": {
    "ExecuteTime": {
     "end_time": "2023-08-02T14:49:05.371138Z",
     "start_time": "2023-08-02T14:49:05.345411Z"
    },
    "tags": []
   },
   "outputs": [
    {
     "data": {
      "text/plain": [
       "[1, 2, 3, 4, 5, 6, 7, 8, 9, 10]"
      ]
     },
     "execution_count": 1,
     "metadata": {},
     "output_type": "execute_result"
    }
   ],
   "source": [
    "# Crea una lista que contenga los números del 1 al 10\n",
    "lista_numeros = list(range(1, 11))\n",
    "lista_numeros"
   ]
  },
  {
   "cell_type": "code",
   "execution_count": 35,
   "id": "b2fd9a8d-b97c-4545-ac16-2f955148d8b5",
   "metadata": {
    "tags": []
   },
   "outputs": [
    {
     "name": "stdout",
     "output_type": "stream",
     "text": [
      "[10, 9, 8, 7, 6, 5, 4, 3, 2, 1]\n"
     ]
    }
   ],
   "source": [
    "# Imprime la lista al revés\n",
    "lista_al_reves = lista_numeros[::-1]\n",
    "print(lista_al_reves)"
   ]
  },
  {
   "cell_type": "code",
   "execution_count": 36,
   "id": "13ed551d-768a-4738-963a-f5da4af817d0",
   "metadata": {
    "tags": []
   },
   "outputs": [
    {
     "name": "stdout",
     "output_type": "stream",
     "text": [
      "[1, 2, 3, 4, 5, 6, 7, 8, 9, 10]\n"
     ]
    }
   ],
   "source": [
    "# Ordena la lista de menor a mayor\n",
    "lista_numeros.sort()\n",
    "print(lista_numeros)"
   ]
  },
  {
   "cell_type": "code",
   "execution_count": 5,
   "id": "bfe7b258-92b6-45d9-b598-5e6183a165ff",
   "metadata": {
    "tags": []
   },
   "outputs": [
    {
     "name": "stdout",
     "output_type": "stream",
     "text": [
      "El número 5 se encuentra en la lista.\n"
     ]
    }
   ],
   "source": [
    "# Busca el número 5 en la lista\n",
    "if 5 in lista_numeros:\n",
    "    print(\"El número 5 se encuentra en la lista.\")\n",
    "else:\n",
    "    print(\"El número 5 no se encuentra en la lista.\")"
   ]
  },
  {
   "cell_type": "code",
   "execution_count": 37,
   "id": "7929d295-eecb-4304-8d18-cb6895c1e5ff",
   "metadata": {
    "tags": []
   },
   "outputs": [
    {
     "name": "stdout",
     "output_type": "stream",
     "text": [
      "[1, 2, 3, 4, 6, 7, 8, 9, 10]\n"
     ]
    }
   ],
   "source": [
    "# Elimina el número 5 de la lista\n",
    "if 5 in lista_numeros:\n",
    "    lista_numeros.remove(5)\n",
    "print(lista_numeros)"
   ]
  },
  {
   "cell_type": "code",
   "execution_count": 38,
   "id": "d2236736-3802-44b8-8dff-5b0396423247",
   "metadata": {
    "tags": []
   },
   "outputs": [
    {
     "name": "stdout",
     "output_type": "stream",
     "text": [
      "[1, 2, 3, 4, 6, 7, 8, 9, 10, 11]\n"
     ]
    }
   ],
   "source": [
    "# Añade el número 11 a la lista\n",
    "lista_numeros.append(11)\n",
    "print(lista_numeros)"
   ]
  },
  {
   "cell_type": "code",
   "execution_count": 42,
   "id": "47d64880-0910-489f-965c-d476fb998b51",
   "metadata": {
    "tags": []
   },
   "outputs": [
    {
     "name": "stdout",
     "output_type": "stream",
     "text": [
      "Hay 5 números pares\n"
     ]
    }
   ],
   "source": [
    "# Cuenta cuántos números pares hay en la lista\n",
    "numeros_pares = [num for num in lista_numeros if num % 2 == 0]\n",
    "print(\"Hay\", len(numeros_pares), \"números pares\")"
   ]
  },
  {
   "cell_type": "code",
   "execution_count": 43,
   "id": "82b09899-698c-4e5a-b82c-53c7edb513d2",
   "metadata": {
    "tags": []
   },
   "outputs": [
    {
     "name": "stdout",
     "output_type": "stream",
     "text": [
      "61\n"
     ]
    }
   ],
   "source": [
    "# Calcula la suma de todos los números de la lista\n",
    "suma_total = sum(lista_numeros)\n",
    "print(suma_total)"
   ]
  },
  {
   "cell_type": "code",
   "execution_count": 44,
   "id": "57688ba0-ac3a-45f3-942a-1e4298fc1b68",
   "metadata": {
    "tags": []
   },
   "outputs": [
    {
     "name": "stdout",
     "output_type": "stream",
     "text": [
      "[1, 4, 9, 16, 36, 49, 64, 81, 100, 121]\n"
     ]
    }
   ],
   "source": [
    "# Crea una nueva lista que contenga los cuadrados de los números de la lista original\n",
    "lista_cuadrados = [num**2 for num in lista_numeros]\n",
    "print(lista_cuadrados)"
   ]
  },
  {
   "cell_type": "code",
   "execution_count": 45,
   "id": "68043002-3820-42b8-a4be-616278f1dddd",
   "metadata": {
    "tags": []
   },
   "outputs": [
    {
     "name": "stdout",
     "output_type": "stream",
     "text": [
      "[1, 3, 5, 7, 9]\n"
     ]
    }
   ],
   "source": [
    "# Crea una nueva lista que contenga sólo los números impares de la lista original\n",
    "lista_numeros = list(range(1, 11))\n",
    "numeros_impares = [num for num in lista_numeros if num % 2 != 0]\n",
    "print(numeros_impares)"
   ]
  },
  {
   "cell_type": "code",
   "execution_count": null,
   "id": "095d0112-14a4-4bb1-8247-6d95d36211bb",
   "metadata": {},
   "outputs": [],
   "source": []
  },
  {
   "cell_type": "code",
   "execution_count": null,
   "id": "71ecb9db-d935-4a8e-9584-a0de59acd8ed",
   "metadata": {},
   "outputs": [],
   "source": [
    "TUPLAS"
   ]
  },
  {
   "cell_type": "code",
   "execution_count": 14,
   "id": "9e93abe0-8911-4171-9c5b-e9325891581f",
   "metadata": {
    "tags": []
   },
   "outputs": [
    {
     "data": {
      "text/plain": [
       "('Hola', 'mundo', 'Python')"
      ]
     },
     "execution_count": 14,
     "metadata": {},
     "output_type": "execute_result"
    }
   ],
   "source": [
    "# Crea una tupla que contenga las palabras \"Hola\", \"mundo\" y \"Python\"\n",
    "tupla_palabras = (\"Hola\", \"mundo\", \"Python\")\n",
    "tupla_palabras"
   ]
  },
  {
   "cell_type": "code",
   "execution_count": 46,
   "id": "390c9ecd-2a0b-417f-b17d-f7adb1daf1d0",
   "metadata": {
    "tags": []
   },
   "outputs": [
    {
     "name": "stdout",
     "output_type": "stream",
     "text": [
      "('Python', 'mundo', 'Hola')\n"
     ]
    }
   ],
   "source": [
    "# Imprime la tupla al revés\n",
    "tupla_al_reves = tuple(reversed(tupla_palabras))\n",
    "print(tupla_al_reves)"
   ]
  },
  {
   "cell_type": "code",
   "execution_count": 47,
   "id": "27f56310-4e2e-4d64-adfa-7bf39e464b6b",
   "metadata": {
    "tags": []
   },
   "outputs": [
    {
     "name": "stdout",
     "output_type": "stream",
     "text": [
      "('Hola', 'Python', 'mundo')\n"
     ]
    }
   ],
   "source": [
    "# Ordena la tupla alfabéticamente\n",
    "tupla_ordenada = tuple(sorted(tupla_palabras))\n",
    "print(tupla_ordenada)"
   ]
  },
  {
   "cell_type": "code",
   "execution_count": 17,
   "id": "98acd822-4b79-4a96-bde7-f0a02d8ce938",
   "metadata": {
    "tags": []
   },
   "outputs": [
    {
     "name": "stdout",
     "output_type": "stream",
     "text": [
      "La palabra 'mundo' se encuentra en la tupla.\n"
     ]
    }
   ],
   "source": [
    "# Busca la palabra \"mundo\" en la tupla\n",
    "if \"mundo\" in tupla_palabras:\n",
    "    print(\"La palabra 'mundo' se encuentra en la tupla.\")\n",
    "else:\n",
    "    print(\"La palabra 'mundo' no se encuentra en la tupla.\")"
   ]
  },
  {
   "cell_type": "code",
   "execution_count": 49,
   "id": "40b47c9b-9c40-4db8-9b02-5261d76d0431",
   "metadata": {
    "tags": []
   },
   "outputs": [
    {
     "name": "stdout",
     "output_type": "stream",
     "text": [
      "('Hola', 'Python')\n"
     ]
    }
   ],
   "source": [
    "# Elimina la palabra \"mundo\" de la tupla (creando una nueva tupla sin esa palabra)\n",
    "tupla_sin_mundo = tuple(word for word in tupla_palabras if word != \"mundo\")\n",
    "print(tupla_sin_mundo)"
   ]
  },
  {
   "cell_type": "code",
   "execution_count": 75,
   "id": "a1ad7e0d-24fa-4fcb-be56-008d9597962a",
   "metadata": {
    "tags": []
   },
   "outputs": [
    {
     "name": "stdout",
     "output_type": "stream",
     "text": [
      "Tupla con 'Hola': ('Hola', 'mundo', 'Python', 'Hola')\n"
     ]
    }
   ],
   "source": [
    "# Añade la palabra \"Hola\" a la tupla (creando una nueva tupla con la palabra añadida)\n",
    "tupla_con_hola = tupla_palabras + (\"Hola\",)\n",
    "print(tupla_con_hola)"
   ]
  },
  {
   "cell_type": "code",
   "execution_count": 76,
   "id": "caac93a0-98e3-4ea0-ab7e-6abd31699fa0",
   "metadata": {
    "tags": []
   },
   "outputs": [
    {
     "name": "stdout",
     "output_type": "stream",
     "text": [
      "3\n"
     ]
    }
   ],
   "source": [
    "# Cuenta cuántas palabras hay en la tupla\n",
    "cantidad_palabras = len(tupla_palabras)\n",
    "print(cantidad_palabras)"
   ]
  },
  {
   "cell_type": "code",
   "execution_count": 77,
   "id": "b873a56f-51b0-4295-9f15-69d095c9a579",
   "metadata": {
    "tags": []
   },
   "outputs": [
    {
     "name": "stdout",
     "output_type": "stream",
     "text": [
      "3\n"
     ]
    }
   ],
   "source": [
    "# Calcula la longitud de la tupl\n",
    "print(len(tupla_palabras))"
   ]
  },
  {
   "cell_type": "code",
   "execution_count": 22,
   "id": "1d5c479b-8d0a-4552-80b4-6b83723b3866",
   "metadata": {
    "tags": []
   },
   "outputs": [
    {
     "name": "stdout",
     "output_type": "stream",
     "text": [
      "Tupla con las primeras dos palabras: ('Hola', 'mundo')\n"
     ]
    }
   ],
   "source": [
    "# Crea una nueva tupla que contenga las primeras dos palabras de la tupla original\n",
    "print(tupla_palabras[:2])"
   ]
  },
  {
   "cell_type": "code",
   "execution_count": 23,
   "id": "ab187190-2813-42b2-ba72-681f0ba4898b",
   "metadata": {
    "tags": []
   },
   "outputs": [
    {
     "name": "stdout",
     "output_type": "stream",
     "text": [
      "Tupla con las últimas dos palabras: ('mundo', 'Python')\n"
     ]
    }
   ],
   "source": [
    "# Crea una nueva tupla que contenga las últimas dos palabras de la tupla original\n",
    "tupla_palabras = (\"Hola\", \"mundo\", \"Python\")\n",
    "print(tupla_palabras[-2:])"
   ]
  },
  {
   "cell_type": "code",
   "execution_count": null,
   "id": "e251deea-c1c2-4082-8a14-38800337d301",
   "metadata": {},
   "outputs": [],
   "source": []
  },
  {
   "cell_type": "markdown",
   "id": "b70e1591-96f1-4b63-a82c-eba0dd162fe1",
   "metadata": {},
   "source": [
    "CONJUNTOS"
   ]
  },
  {
   "cell_type": "code",
   "execution_count": 24,
   "id": "1831e442-ad0e-47f3-bb1b-bbbc09986844",
   "metadata": {
    "tags": []
   },
   "outputs": [],
   "source": [
    "# Crea un conjunto que contenga los números del 1 al 10\n",
    "conjunto_numeros = set(range(1, 11))"
   ]
  },
  {
   "cell_type": "code",
   "execution_count": 26,
   "id": "7ce74080-44dc-4a6d-8163-3acfaeff8f8b",
   "metadata": {
    "tags": []
   },
   "outputs": [
    {
     "name": "stdout",
     "output_type": "stream",
     "text": [
      "{1, 2, 3, 4, 5, 6, 7, 8, 9, 10}\n"
     ]
    }
   ],
   "source": [
    "# Imprime el conjunto\n",
    "print(conjunto_numeros)"
   ]
  },
  {
   "cell_type": "code",
   "execution_count": 80,
   "id": "c913dda0-2440-4475-b22a-68e45393c500",
   "metadata": {
    "tags": []
   },
   "outputs": [
    {
     "name": "stdout",
     "output_type": "stream",
     "text": [
      "{1, 2, 3, 4, 6, 7, 8, 9, 10, 11}\n"
     ]
    }
   ],
   "source": [
    "conjunto_numeros.add(11)\n",
    "print(conjunto_numeros)"
   ]
  },
  {
   "cell_type": "code",
   "execution_count": 81,
   "id": "549eb4c1-a10a-4d0a-98e2-af200eaa0c32",
   "metadata": {
    "tags": []
   },
   "outputs": [
    {
     "name": "stdout",
     "output_type": "stream",
     "text": [
      "{1, 2, 3, 4, 6, 7, 8, 9, 10, 11}\n"
     ]
    }
   ],
   "source": [
    "# Elimina el número 5 del conjunto\n",
    "conjunto_numeros.discard(5)\n",
    "print(conjunto_numeros)"
   ]
  },
  {
   "cell_type": "code",
   "execution_count": 82,
   "id": "a61229da-c234-401e-8598-c5342fa9b55f",
   "metadata": {
    "tags": []
   },
   "outputs": [
    {
     "name": "stdout",
     "output_type": "stream",
     "text": [
      "El número 5 no se encuentra en el conjunto.\n"
     ]
    },
    {
     "data": {
      "text/plain": [
       "False"
      ]
     },
     "execution_count": 82,
     "metadata": {},
     "output_type": "execute_result"
    }
   ],
   "source": [
    "# Busca el número 5 en el conjunto\n",
    "if 5 in conjunto_numeros:\n",
    "    print(\"El número 5 se encuentra en el conjunto.\")\n",
    "else:\n",
    "    print(\"El número 5 no se encuentra en el conjunto.\")"
   ]
  },
  {
   "cell_type": "code",
   "execution_count": 30,
   "id": "3ed8b775-c278-461a-b208-1a993ff61b90",
   "metadata": {
    "tags": []
   },
   "outputs": [
    {
     "name": "stdout",
     "output_type": "stream",
     "text": [
      "¿El número 5 está en el conjunto? False\n"
     ]
    }
   ],
   "source": [
    "# Comprueba si el número 5 está en el conjunto\n",
    "esta_en_conjunto = conjunto_numeros.__contains__(5)\n",
    "print(\"¿El número 5 está en el conjunto?\", esta_en_conjunto)"
   ]
  },
  {
   "cell_type": "code",
   "execution_count": 83,
   "id": "325596fd-b693-40ea-b6dc-11647f6fbc26",
   "metadata": {
    "tags": []
   },
   "outputs": [
    {
     "name": "stdout",
     "output_type": "stream",
     "text": [
      "10\n"
     ]
    }
   ],
   "source": [
    "# Cuenta cuántos números hay en el conjunto\n",
    "print(len(conjunto_numeros))"
   ]
  },
  {
   "cell_type": "code",
   "execution_count": 84,
   "id": "739f8dc4-331f-4503-b33d-712935afbea8",
   "metadata": {
    "tags": []
   },
   "outputs": [
    {
     "name": "stdout",
     "output_type": "stream",
     "text": [
      "61\n"
     ]
    }
   ],
   "source": [
    "# Calcula la suma de todos los números del conjunto\n",
    "print(sum(conjunto_numeros))"
   ]
  },
  {
   "cell_type": "code",
   "execution_count": 33,
   "id": "48d98128-74e7-41eb-82dd-c30b6d363fb3",
   "metadata": {
    "tags": []
   },
   "outputs": [
    {
     "name": "stdout",
     "output_type": "stream",
     "text": [
      "Conjunto de cuadrados: {64, 1, 4, 36, 100, 9, 16, 49, 81, 121}\n"
     ]
    }
   ],
   "source": [
    "# Crea un nuevo conjunto que contenga los cuadrados de los números del conjunto original\n",
    "conjunto_cuadrados = {num**2 for num in conjunto_numeros}\n",
    "print(\"Conjunto de cuadrados:\", conjunto_cuadrados)"
   ]
  },
  {
   "cell_type": "code",
   "execution_count": 34,
   "id": "8aa624ff-6f38-4c8e-abdf-d72f2a2358a9",
   "metadata": {
    "tags": []
   },
   "outputs": [
    {
     "name": "stdout",
     "output_type": "stream",
     "text": [
      "Conjunto de números impares: {1, 3, 7, 9, 11}\n"
     ]
    }
   ],
   "source": [
    "# Crea un nuevo conjunto que contenga sólo los números impares del conjunto original\n",
    "conjunto_impares = {num for num in conjunto_numeros if num % 2 != 0}\n",
    "print(\"Conjunto de números impares:\", conjunto_impares)"
   ]
  },
  {
   "cell_type": "code",
   "execution_count": null,
   "id": "3117f713-0127-4148-a470-da13b75aecad",
   "metadata": {},
   "outputs": [],
   "source": []
  },
  {
   "cell_type": "code",
   "execution_count": null,
   "id": "4584ba50-9263-4a91-931b-609fa8b172a3",
   "metadata": {},
   "outputs": [],
   "source": []
  },
  {
   "cell_type": "code",
   "execution_count": null,
   "id": "76fc559b-df15-4443-92ef-0ab082b0d5f6",
   "metadata": {},
   "outputs": [],
   "source": []
  }
 ],
 "metadata": {
  "kernelspec": {
   "display_name": "Python 3 (ipykernel)",
   "language": "python",
   "name": "python3"
  },
  "language_info": {
   "codemirror_mode": {
    "name": "ipython",
    "version": 3
   },
   "file_extension": ".py",
   "mimetype": "text/x-python",
   "name": "python",
   "nbconvert_exporter": "python",
   "pygments_lexer": "ipython3",
   "version": "3.11.4"
  }
 },
 "nbformat": 4,
 "nbformat_minor": 5
}
