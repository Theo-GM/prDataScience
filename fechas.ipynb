{
 "cells": [
  {
   "cell_type": "code",
   "execution_count": 54,
   "id": "4dbee201-6d61-4614-983a-b700bf2d674b",
   "metadata": {
    "tags": []
   },
   "outputs": [],
   "source": [
    "import datetime\n",
    "import calendar"
   ]
  },
  {
   "cell_type": "code",
   "execution_count": 32,
   "id": "3d908038-11f2-45b6-a99f-6155b9f4d5e1",
   "metadata": {
    "tags": []
   },
   "outputs": [
    {
     "name": "stdout",
     "output_type": "stream",
     "text": [
      "Current date and time: 2023-07-27 10:35:02.652263\n"
     ]
    }
   ],
   "source": [
    "# Print the current date and time\n",
    "now = datetime.datetime.now()\n",
    "print(\"Current date and time:\", now)"
   ]
  },
  {
   "cell_type": "code",
   "execution_count": 36,
   "id": "b671efff-ef6b-476e-ba3f-f63232d9a198",
   "metadata": {
    "tags": []
   },
   "outputs": [
    {
     "name": "stdout",
     "output_type": "stream",
     "text": [
      "Today is Thursday 4\n"
     ]
    }
   ],
   "source": [
    "# Print the day of the week with number and letters\n",
    "weekday_number = now.weekday()\n",
    "weekday_names = [\"Monday\", \"Tuesday\", \"Wednesday\", \"Thursday\", \"Friday\", \"Saturday\", \"Sunday\"]\n",
    "print(\"Today is\", weekday_names[weekday_number],weekday_number + 1)"
   ]
  },
  {
   "cell_type": "code",
   "execution_count": 43,
   "id": "e2e9f56a-17b6-4bc0-a849-5875e454ca31",
   "metadata": {
    "tags": []
   },
   "outputs": [
    {
     "name": "stdout",
     "output_type": "stream",
     "text": [
      "Difference between dates: 193 days\n"
     ]
    }
   ],
   "source": [
    "# Create two dates and give the difference between them\n",
    "date1 = datetime.date(2023, 1, 15)\n",
    "date2 = datetime.date(2023, 7, 27)\n",
    "date_diff = date2 - date1\n",
    "print(\"Difference between dates:\", date_diff.days, \"days\")"
   ]
  },
  {
   "cell_type": "code",
   "execution_count": 63,
   "id": "1625475f-2f49-49f8-b7dc-3b47ff830201",
   "metadata": {
    "tags": []
   },
   "outputs": [],
   "source": [
    "# Function that returns the number of days in a month\n",
    "def days_in_month(year, month):\n",
    "    next_month = month % 12 + 1 if month < 12 else 1\n",
    "    next_year = year + 1 if month == 12 else year\n",
    "    last_day_of_month = datetime.date(next_year, next_month, 1) - datetime.timedelta(days=1)\n",
    "    return last_day_of_month.day"
   ]
  },
  {
   "cell_type": "code",
   "execution_count": 56,
   "id": "35155e1c-edee-416e-b87f-6cb95f91ff63",
   "metadata": {
    "tags": []
   },
   "outputs": [
    {
     "data": {
      "text/plain": [
       "25"
      ]
     },
     "execution_count": 56,
     "metadata": {},
     "output_type": "execute_result"
    }
   ],
   "source": [
    "# Function to count leap years in a given century\n",
    "\n",
    "def count_leap_years(century):\n",
    "    start_year = (century - 1) * 100 + 1\n",
    "    end_year = century * 100\n",
    "    leap_years = [year for year in range(start_year, end_year + 1) if calendar.isleap(year)]\n",
    "    return len(leap_years)"
   ]
  },
  {
   "cell_type": "code",
   "execution_count": 60,
   "id": "c81431a7-be10-45d0-b61b-ab449cdcf19a",
   "metadata": {
    "tags": []
   },
   "outputs": [
    {
     "name": "stdout",
     "output_type": "stream",
     "text": [
      "2023-07-27 10:44:48\n"
     ]
    }
   ],
   "source": [
    "# Create a program that returns today's date and time in YYYYY-MM-DD HH:MM:SS format\n",
    "now = datetime.datetime.now()\n",
    "print(now.strftime(\"%Y-%m-%d %H:%M:%S\"))"
   ]
  },
  {
   "cell_type": "code",
   "execution_count": 67,
   "id": "69c8d990-d37c-48c2-abca-4b5ae9c66616",
   "metadata": {
    "tags": []
   },
   "outputs": [
    {
     "data": {
      "text/plain": [
       "'The first date and time is earlier than the second.'"
      ]
     },
     "execution_count": 67,
     "metadata": {},
     "output_type": "execute_result"
    }
   ],
   "source": [
    "# Create a program that compares two dates and times\n",
    "def compare_dates(date_time1, date_time2):\n",
    "    if date_time1 == date_time2:\n",
    "        return \"The dates and times are the same.\"\n",
    "    elif date_time1 < date_time2:\n",
    "        return \"The first date and time is earlier than the second.\"\n",
    "    else:\n",
    "        return \"The first date and time is later than the second.\"\n",
    "\n",
    "compare_dates(datetime.datetime.now(), datetime.datetime.now())"
   ]
  },
  {
   "cell_type": "code",
   "execution_count": null,
   "id": "cdeee19b-e4eb-4b26-8680-05816459ca85",
   "metadata": {},
   "outputs": [],
   "source": []
  },
  {
   "cell_type": "code",
   "execution_count": null,
   "id": "24797e38-b71d-464a-a168-158737fcc941",
   "metadata": {},
   "outputs": [],
   "source": []
  },
  {
   "cell_type": "code",
   "execution_count": null,
   "id": "e15964ce-fa83-418a-8c6b-d84c7faf9375",
   "metadata": {},
   "outputs": [],
   "source": []
  }
 ],
 "metadata": {
  "kernelspec": {
   "display_name": "Python 3 (ipykernel)",
   "language": "python",
   "name": "python3"
  },
  "language_info": {
   "codemirror_mode": {
    "name": "ipython",
    "version": 3
   },
   "file_extension": ".py",
   "mimetype": "text/x-python",
   "name": "python",
   "nbconvert_exporter": "python",
   "pygments_lexer": "ipython3",
   "version": "3.11.4"
  }
 },
 "nbformat": 4,
 "nbformat_minor": 5
}
