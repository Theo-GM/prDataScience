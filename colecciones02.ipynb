{
 "cells": [
  {
   "cell_type": "code",
   "execution_count": 1,
   "id": "587bcc98-0790-42c2-8787-1c55a6681bd9",
   "metadata": {
    "tags": []
   },
   "outputs": [],
   "source": [
    "# Diccionario para almacenar los vehículos disponibles en la flota\n",
    "flota_de_vehiculos = {}\n",
    "\n",
    "# Diccionario para almacenar los vehículos vendidos\n",
    "vehiculos_vendidos = {}\n",
    "\n",
    "# Función para registrar un vehículo en la flota\n",
    "def registrar(marca, modelo, año):\n",
    "    # Generamos un ID único para el vehículo basado en la marca, modelo y año\n",
    "    vehiculo_id = f\"{marca}_{modelo}_{año}\"\n",
    "\n",
    "    # Comprobamos si el vehículo ya está registrado en la flota\n",
    "    if vehiculo_id in flota_de_vehiculos:\n",
    "        print(\"El vehículo ya está registrado en la flota.\")\n",
    "    else:\n",
    "        # Registramos el vehículo en la flota con sus datos\n",
    "        flota_de_vehiculos[vehiculo_id] = {\n",
    "            \"marca\": marca,\n",
    "            \"modelo\": modelo,\n",
    "            \"año\": año\n",
    "        }\n",
    "        print(\"Vehículo registrado correctamente.\")"
   ]
  },
  {
   "cell_type": "code",
   "execution_count": 2,
   "id": "a43bd5f6-8aa7-429d-94f4-6527f9b40e60",
   "metadata": {
    "tags": []
   },
   "outputs": [],
   "source": [
    "# Función para consultar vehículos por marca, modelo o año\n",
    "def consultar(filtro):\n",
    "    vehiculos_filtrados = []\n",
    "    for vehiculo_id, datos in flota_de_vehiculos.items():\n",
    "        if filtro.lower() in datos[\"marca\"].lower() or \\\n",
    "           filtro.lower() in datos[\"modelo\"].lower() or \\\n",
    "           filtro == str(datos[\"año\"]):\n",
    "            vehiculos_filtrados.append(datos)\n",
    "    return vehiculos_filtrados"
   ]
  },
  {
   "cell_type": "code",
   "execution_count": 3,
   "id": "cf888e39-3d0a-4534-88a3-692ceb904b2a",
   "metadata": {
    "tags": []
   },
   "outputs": [],
   "source": [
    "\n",
    "# Función para vender un vehículo y moverlo de la flota a los vehículos vendidos\n",
    "def vender(vehiculo_id):\n",
    "    if vehiculo_id in flota_de_vehiculos:\n",
    "        vehiculo_vendido = flota_de_vehiculos.pop(vehiculo_id)\n",
    "        vehiculos_vendidos[vehiculo_id] = vehiculo_vendido\n",
    "        print(\"Vehículo vendido y movido a la lista de vehículos vendidos.\")\n",
    "    else:\n",
    "        print(\"El vehículo no está registrado en la flota.\")"
   ]
  },
  {
   "cell_type": "code",
   "execution_count": 4,
   "id": "e9c3f767-7e0c-4510-8219-a0c0d036ffe8",
   "metadata": {
    "tags": []
   },
   "outputs": [
    {
     "name": "stdout",
     "output_type": "stream",
     "text": [
      "Vehículo registrado correctamente.\n",
      "Vehículo registrado correctamente.\n",
      "Vehículo registrado correctamente.\n"
     ]
    }
   ],
   "source": [
    "# Ejemplo de uso:\n",
    "registrar(\"Toyota\", \"Corolla\", 2018)\n",
    "registrar(\"Honda\", \"Civic\", 2020)\n",
    "registrar(\"Ford\", \"Focus\", 2019)"
   ]
  },
  {
   "cell_type": "code",
   "execution_count": 5,
   "id": "cad095f2-8282-45ba-9f2a-db1cd4e0397d",
   "metadata": {
    "tags": []
   },
   "outputs": [
    {
     "name": "stdout",
     "output_type": "stream",
     "text": [
      "Resultados de la consulta: [{'marca': 'Toyota', 'modelo': 'Corolla', 'año': 2018}]\n"
     ]
    }
   ],
   "source": [
    "# Consultar vehículos por marca o modelo\n",
    "resultados_consulta = consultar(\"toyo\")\n",
    "print(\"Resultados de la consulta:\", resultados_consulta)"
   ]
  },
  {
   "cell_type": "code",
   "execution_count": 6,
   "id": "67ad3da9-d475-4907-ab46-6bf14dd1f106",
   "metadata": {
    "tags": []
   },
   "outputs": [
    {
     "name": "stdout",
     "output_type": "stream",
     "text": [
      "Vehículo vendido y movido a la lista de vehículos vendidos.\n"
     ]
    }
   ],
   "source": [
    "# Vender un vehículo por su ID\n",
    "vender(\"Toyota_Corolla_2018\")"
   ]
  },
  {
   "cell_type": "code",
   "execution_count": 9,
   "id": "38bd6418-6f79-4d7e-9938-0a07dff640e7",
   "metadata": {
    "tags": []
   },
   "outputs": [
    {
     "name": "stdout",
     "output_type": "stream",
     "text": [
      "Vehículos disponibles: {'Honda_Civic_2020': {'marca': 'Honda', 'modelo': 'Civic', 'año': 2020}, 'Ford_Focus_2019': {'marca': 'Ford', 'modelo': 'Focus', 'año': 2019}}\n",
      "Vehículos vendidos: {'Toyota_Corolla_2018': {'marca': 'Toyota', 'modelo': 'Corolla', 'año': 2018}}\n"
     ]
    }
   ],
   "source": [
    "# Mostrar la flota y los vehículos vendidos\n",
    "print(\"Vehículos disponibles:\", flota_de_vehiculos)\n",
    "print(\"Vehículos vendidos:\", vehiculos_vendidos)"
   ]
  },
  {
   "cell_type": "code",
   "execution_count": null,
   "id": "f9e1e30b-6237-48c5-b454-36ffcb82da37",
   "metadata": {},
   "outputs": [],
   "source": []
  },
  {
   "cell_type": "code",
   "execution_count": null,
   "id": "30063c8d-a70f-465c-be19-de0406970298",
   "metadata": {},
   "outputs": [],
   "source": []
  },
  {
   "cell_type": "code",
   "execution_count": null,
   "id": "995edaa0-5205-467a-97f9-f753ece60f97",
   "metadata": {},
   "outputs": [],
   "source": []
  },
  {
   "cell_type": "code",
   "execution_count": null,
   "id": "36130cb8-ae41-484b-9877-ad5f9ea9f1f6",
   "metadata": {},
   "outputs": [],
   "source": []
  }
 ],
 "metadata": {
  "kernelspec": {
   "display_name": "Python 3 (ipykernel)",
   "language": "python",
   "name": "python3"
  },
  "language_info": {
   "codemirror_mode": {
    "name": "ipython",
    "version": 3
   },
   "file_extension": ".py",
   "mimetype": "text/x-python",
   "name": "python",
   "nbconvert_exporter": "python",
   "pygments_lexer": "ipython3",
   "version": "3.11.3"
  }
 },
 "nbformat": 4,
 "nbformat_minor": 5
}
