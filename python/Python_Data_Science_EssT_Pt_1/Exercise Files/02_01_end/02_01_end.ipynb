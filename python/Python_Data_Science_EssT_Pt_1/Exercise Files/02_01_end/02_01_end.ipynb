{
 "cells": [
  {
   "cell_type": "markdown",
   "metadata": {},
   "source": [
    "# Chapter 2 - Data Preparation Basics\n",
    "## Segment 1 - Filtering and selecting data"
   ]
  },
  {
   "cell_type": "code",
   "execution_count": 1,
   "metadata": {
    "ExecuteTime": {
     "end_time": "2023-08-03T09:33:30.102582Z",
     "start_time": "2023-08-03T09:33:26.469508Z"
    }
   },
   "outputs": [],
   "source": [
    "import numpy as np\n",
    "import pandas as pd\n",
    "\n",
    "from pandas import Series, DataFrame"
   ]
  },
  {
   "cell_type": "markdown",
   "metadata": {},
   "source": [
    "### Selecting and retrieving data\n",
    "You can write an index value in two forms.\n",
    "- Label index or \n",
    "- Integer index"
   ]
  },
  {
   "cell_type": "code",
   "execution_count": 2,
   "metadata": {
    "ExecuteTime": {
     "end_time": "2023-08-03T09:34:30.802584Z",
     "start_time": "2023-08-03T09:34:30.778708Z"
    }
   },
   "outputs": [
    {
     "data": {
      "text/plain": "row 1    0\nrow 2    1\nrow 3    2\nrow 4    3\nrow 5    4\nrow 6    5\nrow 7    6\nrow 8    7\ndtype: int64"
     },
     "execution_count": 2,
     "metadata": {},
     "output_type": "execute_result"
    }
   ],
   "source": [
    "series_obj = Series(np.arange(8), index=['row 1', 'row 2', 'row 3', 'row 4', 'row 5', 'row 6','row 7', 'row 8'])\n",
    "series_obj"
   ]
  },
  {
   "cell_type": "code",
   "execution_count": 3,
   "metadata": {
    "ExecuteTime": {
     "end_time": "2023-08-03T09:34:50.459672Z",
     "start_time": "2023-08-03T09:34:50.420857Z"
    }
   },
   "outputs": [
    {
     "data": {
      "text/plain": "6"
     },
     "execution_count": 3,
     "metadata": {},
     "output_type": "execute_result"
    }
   ],
   "source": [
    "series_obj['row 7']"
   ]
  },
  {
   "cell_type": "code",
   "execution_count": 5,
   "metadata": {
    "scrolled": true,
    "ExecuteTime": {
     "end_time": "2023-08-03T09:35:09.263396Z",
     "start_time": "2023-08-03T09:35:09.247239Z"
    }
   },
   "outputs": [
    {
     "data": {
      "text/plain": "row 1    0\nrow 8    7\nrow 6    5\ndtype: int64"
     },
     "execution_count": 5,
     "metadata": {},
     "output_type": "execute_result"
    }
   ],
   "source": [
    "series_obj[[0, 7, 5]]"
   ]
  },
  {
   "cell_type": "code",
   "execution_count": 16,
   "metadata": {
    "ExecuteTime": {
     "end_time": "2023-08-03T09:38:38.433850Z",
     "start_time": "2023-08-03T09:38:38.416488Z"
    }
   },
   "outputs": [
    {
     "data": {
      "text/plain": "       column 1  column 2  column 3  column 4\nrow 1  0.294665  0.530587  0.191521  0.067900\nrow 2  0.786985  0.656334  0.637521  0.575603\nrow 3  0.039063  0.357814  0.945683  0.060045\nrow 4  0.864042  0.877291  0.051194  0.652419\nrow 5  0.551751  0.597513  0.483529  0.282988\nrow 6  0.297726  0.561509  0.396047  0.788701",
      "text/html": "<div>\n<style scoped>\n    .dataframe tbody tr th:only-of-type {\n        vertical-align: middle;\n    }\n\n    .dataframe tbody tr th {\n        vertical-align: top;\n    }\n\n    .dataframe thead th {\n        text-align: right;\n    }\n</style>\n<table border=\"1\" class=\"dataframe\">\n  <thead>\n    <tr style=\"text-align: right;\">\n      <th></th>\n      <th>column 1</th>\n      <th>column 2</th>\n      <th>column 3</th>\n      <th>column 4</th>\n    </tr>\n  </thead>\n  <tbody>\n    <tr>\n      <th>row 1</th>\n      <td>0.294665</td>\n      <td>0.530587</td>\n      <td>0.191521</td>\n      <td>0.067900</td>\n    </tr>\n    <tr>\n      <th>row 2</th>\n      <td>0.786985</td>\n      <td>0.656334</td>\n      <td>0.637521</td>\n      <td>0.575603</td>\n    </tr>\n    <tr>\n      <th>row 3</th>\n      <td>0.039063</td>\n      <td>0.357814</td>\n      <td>0.945683</td>\n      <td>0.060045</td>\n    </tr>\n    <tr>\n      <th>row 4</th>\n      <td>0.864042</td>\n      <td>0.877291</td>\n      <td>0.051194</td>\n      <td>0.652419</td>\n    </tr>\n    <tr>\n      <th>row 5</th>\n      <td>0.551751</td>\n      <td>0.597513</td>\n      <td>0.483529</td>\n      <td>0.282988</td>\n    </tr>\n    <tr>\n      <th>row 6</th>\n      <td>0.297726</td>\n      <td>0.561509</td>\n      <td>0.396047</td>\n      <td>0.788701</td>\n    </tr>\n  </tbody>\n</table>\n</div>"
     },
     "execution_count": 16,
     "metadata": {},
     "output_type": "execute_result"
    }
   ],
   "source": [
    "np.random.seed(17)\n",
    "DF_obj = DataFrame(np.random.rand(24).reshape((6,4)),\n",
    "                   index=['row 1', 'row 2', 'row 3', 'row 4','row 5','row 6'],\n",
    "                   columns=['column 1','column 2','column 3','column 4'])\n",
    "DF_obj"
   ]
  },
  {
   "cell_type": "code",
   "execution_count": 18,
   "metadata": {
    "scrolled": false,
    "ExecuteTime": {
     "end_time": "2023-08-03T09:39:12.901297Z",
     "start_time": "2023-08-03T09:39:12.879824Z"
    }
   },
   "outputs": [
    {
     "data": {
      "text/plain": "       column 4  column 2\nrow 2  0.575603  0.656334\nrow 5  0.282988  0.597513",
      "text/html": "<div>\n<style scoped>\n    .dataframe tbody tr th:only-of-type {\n        vertical-align: middle;\n    }\n\n    .dataframe tbody tr th {\n        vertical-align: top;\n    }\n\n    .dataframe thead th {\n        text-align: right;\n    }\n</style>\n<table border=\"1\" class=\"dataframe\">\n  <thead>\n    <tr style=\"text-align: right;\">\n      <th></th>\n      <th>column 4</th>\n      <th>column 2</th>\n    </tr>\n  </thead>\n  <tbody>\n    <tr>\n      <th>row 2</th>\n      <td>0.575603</td>\n      <td>0.656334</td>\n    </tr>\n    <tr>\n      <th>row 5</th>\n      <td>0.282988</td>\n      <td>0.597513</td>\n    </tr>\n  </tbody>\n</table>\n</div>"
     },
     "execution_count": 18,
     "metadata": {},
     "output_type": "execute_result"
    }
   ],
   "source": [
    "DF_obj.loc[['row 2', 'row 5'], ['column 4', 'column 2']]"
   ]
  },
  {
   "cell_type": "markdown",
   "metadata": {},
   "source": [
    "### Data slicing\n",
    "You can use slicing to select and return a slice of several values from a data set. Slicing uses index values so you can use the same square brackets when doing data slicing.\n",
    "\n",
    "How slicing differs, however, is that with slicing you pass in two index values that are separated by a colon. The index value on the left side of the colon should be the first value you want to select. On the right side of the colon, you write the index value for the last value you want to retrieve. When you execute the code, the indexer then simply finds the first record and the last record and returns every record in between them. "
   ]
  },
  {
   "cell_type": "code",
   "execution_count": 24,
   "metadata": {
    "ExecuteTime": {
     "end_time": "2023-08-03T09:39:37.000198Z",
     "start_time": "2023-08-03T09:39:36.988695Z"
    }
   },
   "outputs": [
    {
     "data": {
      "text/plain": "row 3    2\nrow 4    3\ndtype: int64"
     },
     "execution_count": 24,
     "metadata": {},
     "output_type": "execute_result"
    }
   ],
   "source": [
    "series_obj['row 3': 'row 4']"
   ]
  },
  {
   "cell_type": "markdown",
   "metadata": {},
   "source": [
    "### Comparing with scalars\n",
    "Now we're going to talk about comparison operators and scalar values. Just in case you don't know that a scalar value is, it's basically just a single numerical value. You can use comparison operators like greater than or less than to return true/false values for all records to indicate how each element compares to a scalar value."
   ]
  },
  {
   "cell_type": "code",
   "execution_count": 10,
   "metadata": {
    "scrolled": true
   },
   "outputs": [
    {
     "data": {
      "text/html": [
       "<div>\n",
       "<style scoped>\n",
       "    .dataframe tbody tr th:only-of-type {\n",
       "        vertical-align: middle;\n",
       "    }\n",
       "\n",
       "    .dataframe tbody tr th {\n",
       "        vertical-align: top;\n",
       "    }\n",
       "\n",
       "    .dataframe thead th {\n",
       "        text-align: right;\n",
       "    }\n",
       "</style>\n",
       "<table border=\"1\" class=\"dataframe\">\n",
       "  <thead>\n",
       "    <tr style=\"text-align: right;\">\n",
       "      <th></th>\n",
       "      <th>column 1</th>\n",
       "      <th>column 2</th>\n",
       "      <th>column 3</th>\n",
       "      <th>column 4</th>\n",
       "      <th>column 5</th>\n",
       "      <th>column 6</th>\n",
       "    </tr>\n",
       "  </thead>\n",
       "  <tbody>\n",
       "    <tr>\n",
       "      <th>row 1</th>\n",
       "      <td>False</td>\n",
       "      <td>False</td>\n",
       "      <td>False</td>\n",
       "      <td>True</td>\n",
       "      <td>False</td>\n",
       "      <td>True</td>\n",
       "    </tr>\n",
       "    <tr>\n",
       "      <th>row 2</th>\n",
       "      <td>False</td>\n",
       "      <td>False</td>\n",
       "      <td>False</td>\n",
       "      <td>False</td>\n",
       "      <td>False</td>\n",
       "      <td>True</td>\n",
       "    </tr>\n",
       "    <tr>\n",
       "      <th>row 3</th>\n",
       "      <td>False</td>\n",
       "      <td>False</td>\n",
       "      <td>True</td>\n",
       "      <td>False</td>\n",
       "      <td>False</td>\n",
       "      <td>False</td>\n",
       "    </tr>\n",
       "    <tr>\n",
       "      <th>row 4</th>\n",
       "      <td>False</td>\n",
       "      <td>False</td>\n",
       "      <td>False</td>\n",
       "      <td>False</td>\n",
       "      <td>False</td>\n",
       "      <td>False</td>\n",
       "    </tr>\n",
       "    <tr>\n",
       "      <th>row 5</th>\n",
       "      <td>False</td>\n",
       "      <td>False</td>\n",
       "      <td>True</td>\n",
       "      <td>False</td>\n",
       "      <td>False</td>\n",
       "      <td>False</td>\n",
       "    </tr>\n",
       "    <tr>\n",
       "      <th>row 6</th>\n",
       "      <td>False</td>\n",
       "      <td>False</td>\n",
       "      <td>False</td>\n",
       "      <td>False</td>\n",
       "      <td>False</td>\n",
       "      <td>False</td>\n",
       "    </tr>\n",
       "  </tbody>\n",
       "</table>\n",
       "</div>"
      ],
      "text/plain": [
       "       column 1  column 2  column 3  column 4  column 5  column 6\n",
       "row 1     False     False     False      True     False      True\n",
       "row 2     False     False     False     False     False      True\n",
       "row 3     False     False      True     False     False     False\n",
       "row 4     False     False     False     False     False     False\n",
       "row 5     False     False      True     False     False     False\n",
       "row 6     False     False     False     False     False     False"
      ]
     },
     "execution_count": 10,
     "metadata": {},
     "output_type": "execute_result"
    }
   ],
   "source": [
    "DF_obj < .2"
   ]
  },
  {
   "cell_type": "markdown",
   "metadata": {},
   "source": [
    "### Filtering with scalars"
   ]
  },
  {
   "cell_type": "code",
   "execution_count": 11,
   "metadata": {},
   "outputs": [
    {
     "data": {
      "text/plain": [
       "row 8    7\n",
       "dtype: int32"
      ]
     },
     "execution_count": 11,
     "metadata": {},
     "output_type": "execute_result"
    }
   ],
   "source": [
    "series_obj[series_obj > 6]"
   ]
  },
  {
   "cell_type": "markdown",
   "metadata": {},
   "source": [
    "### Setting values with scalars"
   ]
  },
  {
   "cell_type": "code",
   "execution_count": 12,
   "metadata": {},
   "outputs": [
    {
     "data": {
      "text/plain": [
       "row 1    8\n",
       "row 2    1\n",
       "row 3    2\n",
       "row 4    3\n",
       "row 5    8\n",
       "row 6    5\n",
       "row 7    6\n",
       "row 8    8\n",
       "dtype: int32"
      ]
     },
     "execution_count": 12,
     "metadata": {},
     "output_type": "execute_result"
    }
   ],
   "source": [
    "series_obj['row 1', 'row 5', 'row 8'] = 8\n",
    "series_obj"
   ]
  },
  {
   "cell_type": "markdown",
   "metadata": {},
   "source": [
    "Filtering and selecting using Pandas is one of the most fundamental things you'll do in data analysis. Make sure you know how to use indexing to select and retrieve records."
   ]
  }
 ],
 "metadata": {
  "anaconda-cloud": {},
  "celltoolbar": "Raw Cell Format",
  "kernelspec": {
   "display_name": "Python 3",
   "language": "python",
   "name": "python3"
  },
  "language_info": {
   "codemirror_mode": {
    "name": "ipython",
    "version": 3
   },
   "file_extension": ".py",
   "mimetype": "text/x-python",
   "name": "python",
   "nbconvert_exporter": "python",
   "pygments_lexer": "ipython3",
   "version": "3.7.3"
  }
 },
 "nbformat": 4,
 "nbformat_minor": 1
}
