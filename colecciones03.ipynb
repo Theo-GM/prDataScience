{
 "cells": [
  {
   "cell_type": "markdown",
   "id": "78a345e7-e9cc-417a-b291-9974d36d958b",
   "metadata": {},
   "source": [
    "#Ejercicio sobre colecciones 3\n",
    "\n",
    "- Tenemos una lista de facturas. Podemos registrar facturas, consultarlas y pasarlas a estado de pagadas.\n",
    "- De cada factura vamos a almacenar el nombre, la dirección, el id de cliente y la fecha de emisión. \n",
    "- Cada factura tendrá una cantidad (coste) y un estado de pagada o no pagada. \n",
    "- Al registrar una factura se introduce como no pagada. \n",
    "- Un cliente puede pagar la factura.\n",
    "- Necesito obtener las facturas impagadas por periodo y cliente"
   ]
  },
  {
   "cell_type": "code",
   "execution_count": 1,
   "id": "c36ef7c7-36ef-4969-8d6b-0ae005f58546",
   "metadata": {
    "tags": []
   },
   "outputs": [],
   "source": [
    "class Factura:\n",
    "    def __init__(self, nombre, direccion, id_cliente, fecha_emision, cantidad):\n",
    "        self.nombre = nombre\n",
    "        self.direccion = direccion\n",
    "        self.id_cliente = id_cliente\n",
    "        self.fecha_emision = fecha_emision\n",
    "        self.cantidad = cantidad\n",
    "        self.pagada = False"
   ]
  },
  {
   "cell_type": "code",
   "execution_count": 2,
   "id": "9b73ae52-9696-4e04-9985-285ab14dca80",
   "metadata": {
    "tags": []
   },
   "outputs": [],
   "source": [
    "class FacturaManager:\n",
    "    def __init__(self):\n",
    "        self.facturas = {}\n",
    "        self.numero_factura_actual = 1\n",
    "\n",
    "    def registrar_factura(self, factura):\n",
    "        numero_factura = self.numero_factura_actual\n",
    "        self.facturas[numero_factura] = factura\n",
    "        self.numero_factura_actual += 1\n",
    "\n",
    "    def consultar_facturas(self):\n",
    "        return self.facturas\n",
    "\n",
    "    def pagar_factura(self, numero_factura):\n",
    "        factura = self.facturas.get(numero_factura)\n",
    "        if factura:\n",
    "            factura.pagada = True\n",
    "            return True\n",
    "        return False\n",
    "\n",
    "    def obtener_facturas_impagadas(self, id_cliente, fecha_inicio, fecha_fin):\n",
    "        facturas_impagadas = []\n",
    "        for numero_factura, factura in self.facturas.items():\n",
    "            if (\n",
    "                factura.id_cliente == id_cliente\n",
    "                and fecha_inicio <= factura.fecha_emision <= fecha_fin\n",
    "                and not factura.pagada\n",
    "            ):\n",
    "                facturas_impagadas.append((numero_factura, factura))\n",
    "        return facturas_impagadas"
   ]
  },
  {
   "cell_type": "code",
   "execution_count": 3,
   "id": "52b12033-12d7-4dfa-bb45-e4d9e1d02b23",
   "metadata": {
    "tags": []
   },
   "outputs": [
    {
     "name": "stdout",
     "output_type": "stream",
     "text": [
      "Facturas impagadas del cliente 1: [(3, <__main__.Factura object at 0x112828210>)]\n"
     ]
    }
   ],
   "source": [
    "# Ejemplo de uso:\n",
    "if __name__ == \"__main__\":\n",
    "    manager = FacturaManager()\n",
    "\n",
    "    factura1 = Factura(\"Nombre1\", \"Direccion1\", 1, \"2023-07-25\", 100)\n",
    "    factura2 = Factura(\"Nombre2\", \"Direccion2\", 2, \"2023-07-26\", 150)\n",
    "    factura3 = Factura(\"Nombre3\", \"Direccion3\", 1, \"2023-07-26\", 200)\n",
    "\n",
    "    manager.registrar_factura(factura1)\n",
    "    manager.registrar_factura(factura2)\n",
    "    manager.registrar_factura(factura3)\n",
    "\n",
    "    manager.pagar_factura(1)  # Cliente 1 paga factura1\n",
    "\n",
    "    facturas_impagadas_cliente1 = manager.obtener_facturas_impagadas(1, \"2023-07-25\", \"2023-07-26\")\n",
    "    print(\"Facturas impagadas del cliente 1:\", facturas_impagadas_cliente1)"
   ]
  },
  {
   "cell_type": "code",
   "execution_count": null,
   "id": "397cf3a0-91f8-4050-8678-80f165cda18c",
   "metadata": {},
   "outputs": [],
   "source": []
  },
  {
   "cell_type": "code",
   "execution_count": null,
   "id": "fb6a00c7-1480-412e-9a3d-0a9e12887bc4",
   "metadata": {},
   "outputs": [],
   "source": []
  },
  {
   "cell_type": "code",
   "execution_count": null,
   "id": "831ad858-eb79-403a-95d1-17ee45616bc4",
   "metadata": {},
   "outputs": [],
   "source": []
  }
 ],
 "metadata": {
  "kernelspec": {
   "display_name": "Python 3 (ipykernel)",
   "language": "python",
   "name": "python3"
  },
  "language_info": {
   "codemirror_mode": {
    "name": "ipython",
    "version": 3
   },
   "file_extension": ".py",
   "mimetype": "text/x-python",
   "name": "python",
   "nbconvert_exporter": "python",
   "pygments_lexer": "ipython3",
   "version": "3.11.4"
  }
 },
 "nbformat": 4,
 "nbformat_minor": 5
}
