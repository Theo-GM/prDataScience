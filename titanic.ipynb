{
 "cells": [
  {
   "cell_type": "code",
   "execution_count": 6,
   "id": "initial_id",
   "metadata": {
    "collapsed": true,
    "ExecuteTime": {
     "end_time": "2023-08-10T17:11:36.987006Z",
     "start_time": "2023-08-10T17:11:36.976088Z"
    }
   },
   "outputs": [],
   "source": [
    "import pandas as pd"
   ]
  },
  {
   "cell_type": "code",
   "execution_count": 7,
   "outputs": [
    {
     "name": "stdout",
     "output_type": "stream",
     "text": [
      "<class 'pandas.core.frame.DataFrame'>\n",
      "RangeIndex: 1309 entries, 0 to 1308\n",
      "Data columns (total 14 columns):\n",
      " #   Column     Non-Null Count  Dtype  \n",
      "---  ------     --------------  -----  \n",
      " 0   pclass     1309 non-null   int64  \n",
      " 1   survived   1309 non-null   int64  \n",
      " 2   name       1309 non-null   object \n",
      " 3   sex        1309 non-null   object \n",
      " 4   age        1046 non-null   float64\n",
      " 5   sibsp      1309 non-null   int64  \n",
      " 6   parch      1309 non-null   int64  \n",
      " 7   ticket     1309 non-null   object \n",
      " 8   fare       1308 non-null   float64\n",
      " 9   cabin      295 non-null    object \n",
      " 10  embarked   1307 non-null   object \n",
      " 11  boat       486 non-null    object \n",
      " 12  body       121 non-null    float64\n",
      " 13  home.dest  745 non-null    object \n",
      "dtypes: float64(3), int64(4), object(7)\n",
      "memory usage: 143.3+ KB\n"
     ]
    }
   ],
   "source": [
    "titanic = pd.read_excel('titanic3.xls')\n",
    "titanic.info()"
   ],
   "metadata": {
    "collapsed": false,
    "ExecuteTime": {
     "end_time": "2023-08-10T17:11:39.682512Z",
     "start_time": "2023-08-10T17:11:39.518956Z"
    }
   },
   "id": "5e9afe6259925b2c"
  },
  {
   "cell_type": "code",
   "execution_count": 8,
   "outputs": [
    {
     "data": {
      "text/plain": "      name  age gender\n0     John   25      M\n1     Mike   30      M\n2     Sara   35      F\n3  Jessica   40      F",
      "text/html": "<div>\n<style scoped>\n    .dataframe tbody tr th:only-of-type {\n        vertical-align: middle;\n    }\n\n    .dataframe tbody tr th {\n        vertical-align: top;\n    }\n\n    .dataframe thead th {\n        text-align: right;\n    }\n</style>\n<table border=\"1\" class=\"dataframe\">\n  <thead>\n    <tr style=\"text-align: right;\">\n      <th></th>\n      <th>name</th>\n      <th>age</th>\n      <th>gender</th>\n    </tr>\n  </thead>\n  <tbody>\n    <tr>\n      <th>0</th>\n      <td>John</td>\n      <td>25</td>\n      <td>M</td>\n    </tr>\n    <tr>\n      <th>1</th>\n      <td>Mike</td>\n      <td>30</td>\n      <td>M</td>\n    </tr>\n    <tr>\n      <th>2</th>\n      <td>Sara</td>\n      <td>35</td>\n      <td>F</td>\n    </tr>\n    <tr>\n      <th>3</th>\n      <td>Jessica</td>\n      <td>40</td>\n      <td>F</td>\n    </tr>\n  </tbody>\n</table>\n</div>"
     },
     "execution_count": 8,
     "metadata": {},
     "output_type": "execute_result"
    }
   ],
   "source": [
    "df = pd.DataFrame({'name': ['John', 'Mike', 'Sara', 'Jessica'], 'age': [25, 30, 35, 40], 'gender': ['M','M', 'F', 'F']})\n",
    "df"
   ],
   "metadata": {
    "collapsed": false,
    "ExecuteTime": {
     "end_time": "2023-08-10T17:11:45.264587Z",
     "start_time": "2023-08-10T17:11:45.219602Z"
    }
   },
   "id": "b2bfc569c8a69478"
  },
  {
   "cell_type": "code",
   "execution_count": 9,
   "outputs": [
    {
     "name": "stdout",
     "output_type": "stream",
     "text": [
      "name      John\n",
      "age         25\n",
      "gender       M\n",
      "Name: 0, dtype: object\n"
     ]
    }
   ],
   "source": [
    "print(df.iloc[0])"
   ],
   "metadata": {
    "collapsed": false,
    "ExecuteTime": {
     "end_time": "2023-08-10T17:11:54.544743Z",
     "start_time": "2023-08-10T17:11:54.515311Z"
    }
   },
   "id": "78b62c0858714bff"
  },
  {
   "cell_type": "code",
   "execution_count": 11,
   "outputs": [
    {
     "name": "stdout",
     "output_type": "stream",
     "text": [
      "   name  age gender\n",
      "0  John   25      M\n",
      "1  Mike   30      M\n",
      "2  Sara   35      F\n"
     ]
    }
   ],
   "source": [
    "# Seleccionar las primeras dos filas del DataFramexexc\n",
    "print(df.iloc[:3])"
   ],
   "metadata": {
    "collapsed": false,
    "ExecuteTime": {
     "end_time": "2023-08-10T17:12:20.406640Z",
     "start_time": "2023-08-10T17:12:20.378553Z"
    }
   },
   "id": "3c728690649248fb"
  },
  {
   "cell_type": "code",
   "execution_count": 13,
   "outputs": [
    {
     "name": "stdout",
     "output_type": "stream",
     "text": [
      "M\n"
     ]
    }
   ],
   "source": [
    "# Seleccionar la primera fila y la segunda columna del DataFrame; gender de la primera persona\n",
    "print(df.iloc[0, 2])"
   ],
   "metadata": {
    "collapsed": false,
    "ExecuteTime": {
     "end_time": "2023-08-10T17:12:35.038006Z",
     "start_time": "2023-08-10T17:12:34.988403Z"
    }
   },
   "id": "aa4cc1f2c43dc514"
  },
  {
   "cell_type": "code",
   "execution_count": 14,
   "outputs": [
    {
     "data": {
      "text/plain": "      pclass  survived                                             name  \\\n5          1         1                              Anderson, Mr. Harry   \n6          1         1                Andrews, Miss. Kornelia Theodosia   \n7          1         0                           Andrews, Mr. Thomas Jr   \n8          1         1    Appleton, Mrs. Edward Dale (Charlotte Lamson)   \n9          1         0                          Artagaveytia, Mr. Ramon   \n...      ...       ...                                              ...   \n1286       3         1  Whabee, Mrs. George Joseph (Shawneene Abi-Saab)   \n1287       3         0                 Widegren, Mr. Carl/Charles Peter   \n1290       3         1                 Wilkes, Mrs. James (Ellen Needs)   \n1298       3         0                        Wittevrongel, Mr. Camille   \n1301       3         0                             Youseff, Mr. Gerious   \n\n         sex   age  sibsp  parch    ticket     fare cabin embarked boat  \\\n5       male  48.0      0      0     19952  26.5500   E12        S    3   \n6     female  63.0      1      0     13502  77.9583    D7        S   10   \n7       male  39.0      0      0    112050   0.0000   A36        S  NaN   \n8     female  53.0      2      0     11769  51.4792  C101        S    D   \n9       male  71.0      0      0  PC 17609  49.5042   NaN        C  NaN   \n...      ...   ...    ...    ...       ...      ...   ...      ...  ...   \n1286  female  38.0      0      0      2688   7.2292   NaN        C    C   \n1287    male  51.0      0      0    347064   7.7500   NaN        S  NaN   \n1290  female  47.0      1      0    363272   7.0000   NaN        S  NaN   \n1298    male  36.0      0      0    345771   9.5000   NaN        S  NaN   \n1301    male  45.5      0      0      2628   7.2250   NaN        C  NaN   \n\n       body            home.dest  \n5       NaN         New York, NY  \n6       NaN           Hudson, NY  \n7       NaN          Belfast, NI  \n8       NaN  Bayside, Queens, NY  \n9      22.0  Montevideo, Uruguay  \n...     ...                  ...  \n1286    NaN                  NaN  \n1287    NaN                  NaN  \n1290    NaN                  NaN  \n1298    NaN                  NaN  \n1301  312.0                  NaN  \n\n[437 rows x 14 columns]",
      "text/html": "<div>\n<style scoped>\n    .dataframe tbody tr th:only-of-type {\n        vertical-align: middle;\n    }\n\n    .dataframe tbody tr th {\n        vertical-align: top;\n    }\n\n    .dataframe thead th {\n        text-align: right;\n    }\n</style>\n<table border=\"1\" class=\"dataframe\">\n  <thead>\n    <tr style=\"text-align: right;\">\n      <th></th>\n      <th>pclass</th>\n      <th>survived</th>\n      <th>name</th>\n      <th>sex</th>\n      <th>age</th>\n      <th>sibsp</th>\n      <th>parch</th>\n      <th>ticket</th>\n      <th>fare</th>\n      <th>cabin</th>\n      <th>embarked</th>\n      <th>boat</th>\n      <th>body</th>\n      <th>home.dest</th>\n    </tr>\n  </thead>\n  <tbody>\n    <tr>\n      <th>5</th>\n      <td>1</td>\n      <td>1</td>\n      <td>Anderson, Mr. Harry</td>\n      <td>male</td>\n      <td>48.0</td>\n      <td>0</td>\n      <td>0</td>\n      <td>19952</td>\n      <td>26.5500</td>\n      <td>E12</td>\n      <td>S</td>\n      <td>3</td>\n      <td>NaN</td>\n      <td>New York, NY</td>\n    </tr>\n    <tr>\n      <th>6</th>\n      <td>1</td>\n      <td>1</td>\n      <td>Andrews, Miss. Kornelia Theodosia</td>\n      <td>female</td>\n      <td>63.0</td>\n      <td>1</td>\n      <td>0</td>\n      <td>13502</td>\n      <td>77.9583</td>\n      <td>D7</td>\n      <td>S</td>\n      <td>10</td>\n      <td>NaN</td>\n      <td>Hudson, NY</td>\n    </tr>\n    <tr>\n      <th>7</th>\n      <td>1</td>\n      <td>0</td>\n      <td>Andrews, Mr. Thomas Jr</td>\n      <td>male</td>\n      <td>39.0</td>\n      <td>0</td>\n      <td>0</td>\n      <td>112050</td>\n      <td>0.0000</td>\n      <td>A36</td>\n      <td>S</td>\n      <td>NaN</td>\n      <td>NaN</td>\n      <td>Belfast, NI</td>\n    </tr>\n    <tr>\n      <th>8</th>\n      <td>1</td>\n      <td>1</td>\n      <td>Appleton, Mrs. Edward Dale (Charlotte Lamson)</td>\n      <td>female</td>\n      <td>53.0</td>\n      <td>2</td>\n      <td>0</td>\n      <td>11769</td>\n      <td>51.4792</td>\n      <td>C101</td>\n      <td>S</td>\n      <td>D</td>\n      <td>NaN</td>\n      <td>Bayside, Queens, NY</td>\n    </tr>\n    <tr>\n      <th>9</th>\n      <td>1</td>\n      <td>0</td>\n      <td>Artagaveytia, Mr. Ramon</td>\n      <td>male</td>\n      <td>71.0</td>\n      <td>0</td>\n      <td>0</td>\n      <td>PC 17609</td>\n      <td>49.5042</td>\n      <td>NaN</td>\n      <td>C</td>\n      <td>NaN</td>\n      <td>22.0</td>\n      <td>Montevideo, Uruguay</td>\n    </tr>\n    <tr>\n      <th>...</th>\n      <td>...</td>\n      <td>...</td>\n      <td>...</td>\n      <td>...</td>\n      <td>...</td>\n      <td>...</td>\n      <td>...</td>\n      <td>...</td>\n      <td>...</td>\n      <td>...</td>\n      <td>...</td>\n      <td>...</td>\n      <td>...</td>\n      <td>...</td>\n    </tr>\n    <tr>\n      <th>1286</th>\n      <td>3</td>\n      <td>1</td>\n      <td>Whabee, Mrs. George Joseph (Shawneene Abi-Saab)</td>\n      <td>female</td>\n      <td>38.0</td>\n      <td>0</td>\n      <td>0</td>\n      <td>2688</td>\n      <td>7.2292</td>\n      <td>NaN</td>\n      <td>C</td>\n      <td>C</td>\n      <td>NaN</td>\n      <td>NaN</td>\n    </tr>\n    <tr>\n      <th>1287</th>\n      <td>3</td>\n      <td>0</td>\n      <td>Widegren, Mr. Carl/Charles Peter</td>\n      <td>male</td>\n      <td>51.0</td>\n      <td>0</td>\n      <td>0</td>\n      <td>347064</td>\n      <td>7.7500</td>\n      <td>NaN</td>\n      <td>S</td>\n      <td>NaN</td>\n      <td>NaN</td>\n      <td>NaN</td>\n    </tr>\n    <tr>\n      <th>1290</th>\n      <td>3</td>\n      <td>1</td>\n      <td>Wilkes, Mrs. James (Ellen Needs)</td>\n      <td>female</td>\n      <td>47.0</td>\n      <td>1</td>\n      <td>0</td>\n      <td>363272</td>\n      <td>7.0000</td>\n      <td>NaN</td>\n      <td>S</td>\n      <td>NaN</td>\n      <td>NaN</td>\n      <td>NaN</td>\n    </tr>\n    <tr>\n      <th>1298</th>\n      <td>3</td>\n      <td>0</td>\n      <td>Wittevrongel, Mr. Camille</td>\n      <td>male</td>\n      <td>36.0</td>\n      <td>0</td>\n      <td>0</td>\n      <td>345771</td>\n      <td>9.5000</td>\n      <td>NaN</td>\n      <td>S</td>\n      <td>NaN</td>\n      <td>NaN</td>\n      <td>NaN</td>\n    </tr>\n    <tr>\n      <th>1301</th>\n      <td>3</td>\n      <td>0</td>\n      <td>Youseff, Mr. Gerious</td>\n      <td>male</td>\n      <td>45.5</td>\n      <td>0</td>\n      <td>0</td>\n      <td>2628</td>\n      <td>7.2250</td>\n      <td>NaN</td>\n      <td>C</td>\n      <td>NaN</td>\n      <td>312.0</td>\n      <td>NaN</td>\n    </tr>\n  </tbody>\n</table>\n<p>437 rows × 14 columns</p>\n</div>"
     },
     "execution_count": 14,
     "metadata": {},
     "output_type": "execute_result"
    }
   ],
   "source": [
    "# Seleccionar todas las filas donde la edad es mayor que 30\n",
    "ageGrater30 = titanic.loc[(titanic['age'] > 30)]\n",
    "ageGrater30\n"
   ],
   "metadata": {
    "collapsed": false,
    "ExecuteTime": {
     "end_time": "2023-08-10T17:13:04.675782Z",
     "start_time": "2023-08-10T17:13:04.606368Z"
    }
   },
   "id": "5ad094919dbe2640"
  },
  {
   "cell_type": "code",
   "execution_count": 16,
   "outputs": [
    {
     "data": {
      "text/plain": "     pclass  survived                                             name  \\\n0         1         1                    Allen, Miss. Elisabeth Walton   \n1         1         1                   Allison, Master. Hudson Trevor   \n2         1         0                     Allison, Miss. Helen Loraine   \n3         1         0             Allison, Mr. Hudson Joshua Creighton   \n4         1         0  Allison, Mrs. Hudson J C (Bessie Waldo Daniels)   \n..      ...       ...                                              ...   \n318       1         0           Williams-Lambert, Mr. Fletcher Fellows   \n319       1         1                        Wilson, Miss. Helen Alice   \n320       1         1                                Woolner, Mr. Hugh   \n321       1         0                               Wright, Mr. George   \n322       1         1                         Young, Miss. Marie Grice   \n\n        sex      age  sibsp  parch    ticket      fare    cabin embarked boat  \\\n0    female  29.0000      0      0     24160  211.3375       B5        S    2   \n1      male   0.9167      1      2    113781  151.5500  C22 C26        S   11   \n2    female   2.0000      1      2    113781  151.5500  C22 C26        S  NaN   \n3      male  30.0000      1      2    113781  151.5500  C22 C26        S  NaN   \n4    female  25.0000      1      2    113781  151.5500  C22 C26        S  NaN   \n..      ...      ...    ...    ...       ...       ...      ...      ...  ...   \n318    male      NaN      0      0    113510   35.0000     C128        S  NaN   \n319  female  31.0000      0      0     16966  134.5000  E39 E41        C    3   \n320    male      NaN      0      0     19947   35.5000      C52        S    D   \n321    male  62.0000      0      0    113807   26.5500      NaN        S  NaN   \n322  female  36.0000      0      0  PC 17760  135.6333      C32        C    8   \n\n      body                        home.dest  \n0      NaN                     St Louis, MO  \n1      NaN  Montreal, PQ / Chesterville, ON  \n2      NaN  Montreal, PQ / Chesterville, ON  \n3    135.0  Montreal, PQ / Chesterville, ON  \n4      NaN  Montreal, PQ / Chesterville, ON  \n..     ...                              ...  \n318    NaN                  London, England  \n319    NaN                              NaN  \n320    NaN                  London, England  \n321    NaN                      Halifax, NS  \n322    NaN    New York, NY / Washington, DC  \n\n[323 rows x 14 columns]",
      "text/html": "<div>\n<style scoped>\n    .dataframe tbody tr th:only-of-type {\n        vertical-align: middle;\n    }\n\n    .dataframe tbody tr th {\n        vertical-align: top;\n    }\n\n    .dataframe thead th {\n        text-align: right;\n    }\n</style>\n<table border=\"1\" class=\"dataframe\">\n  <thead>\n    <tr style=\"text-align: right;\">\n      <th></th>\n      <th>pclass</th>\n      <th>survived</th>\n      <th>name</th>\n      <th>sex</th>\n      <th>age</th>\n      <th>sibsp</th>\n      <th>parch</th>\n      <th>ticket</th>\n      <th>fare</th>\n      <th>cabin</th>\n      <th>embarked</th>\n      <th>boat</th>\n      <th>body</th>\n      <th>home.dest</th>\n    </tr>\n  </thead>\n  <tbody>\n    <tr>\n      <th>0</th>\n      <td>1</td>\n      <td>1</td>\n      <td>Allen, Miss. Elisabeth Walton</td>\n      <td>female</td>\n      <td>29.0000</td>\n      <td>0</td>\n      <td>0</td>\n      <td>24160</td>\n      <td>211.3375</td>\n      <td>B5</td>\n      <td>S</td>\n      <td>2</td>\n      <td>NaN</td>\n      <td>St Louis, MO</td>\n    </tr>\n    <tr>\n      <th>1</th>\n      <td>1</td>\n      <td>1</td>\n      <td>Allison, Master. Hudson Trevor</td>\n      <td>male</td>\n      <td>0.9167</td>\n      <td>1</td>\n      <td>2</td>\n      <td>113781</td>\n      <td>151.5500</td>\n      <td>C22 C26</td>\n      <td>S</td>\n      <td>11</td>\n      <td>NaN</td>\n      <td>Montreal, PQ / Chesterville, ON</td>\n    </tr>\n    <tr>\n      <th>2</th>\n      <td>1</td>\n      <td>0</td>\n      <td>Allison, Miss. Helen Loraine</td>\n      <td>female</td>\n      <td>2.0000</td>\n      <td>1</td>\n      <td>2</td>\n      <td>113781</td>\n      <td>151.5500</td>\n      <td>C22 C26</td>\n      <td>S</td>\n      <td>NaN</td>\n      <td>NaN</td>\n      <td>Montreal, PQ / Chesterville, ON</td>\n    </tr>\n    <tr>\n      <th>3</th>\n      <td>1</td>\n      <td>0</td>\n      <td>Allison, Mr. Hudson Joshua Creighton</td>\n      <td>male</td>\n      <td>30.0000</td>\n      <td>1</td>\n      <td>2</td>\n      <td>113781</td>\n      <td>151.5500</td>\n      <td>C22 C26</td>\n      <td>S</td>\n      <td>NaN</td>\n      <td>135.0</td>\n      <td>Montreal, PQ / Chesterville, ON</td>\n    </tr>\n    <tr>\n      <th>4</th>\n      <td>1</td>\n      <td>0</td>\n      <td>Allison, Mrs. Hudson J C (Bessie Waldo Daniels)</td>\n      <td>female</td>\n      <td>25.0000</td>\n      <td>1</td>\n      <td>2</td>\n      <td>113781</td>\n      <td>151.5500</td>\n      <td>C22 C26</td>\n      <td>S</td>\n      <td>NaN</td>\n      <td>NaN</td>\n      <td>Montreal, PQ / Chesterville, ON</td>\n    </tr>\n    <tr>\n      <th>...</th>\n      <td>...</td>\n      <td>...</td>\n      <td>...</td>\n      <td>...</td>\n      <td>...</td>\n      <td>...</td>\n      <td>...</td>\n      <td>...</td>\n      <td>...</td>\n      <td>...</td>\n      <td>...</td>\n      <td>...</td>\n      <td>...</td>\n      <td>...</td>\n    </tr>\n    <tr>\n      <th>318</th>\n      <td>1</td>\n      <td>0</td>\n      <td>Williams-Lambert, Mr. Fletcher Fellows</td>\n      <td>male</td>\n      <td>NaN</td>\n      <td>0</td>\n      <td>0</td>\n      <td>113510</td>\n      <td>35.0000</td>\n      <td>C128</td>\n      <td>S</td>\n      <td>NaN</td>\n      <td>NaN</td>\n      <td>London, England</td>\n    </tr>\n    <tr>\n      <th>319</th>\n      <td>1</td>\n      <td>1</td>\n      <td>Wilson, Miss. Helen Alice</td>\n      <td>female</td>\n      <td>31.0000</td>\n      <td>0</td>\n      <td>0</td>\n      <td>16966</td>\n      <td>134.5000</td>\n      <td>E39 E41</td>\n      <td>C</td>\n      <td>3</td>\n      <td>NaN</td>\n      <td>NaN</td>\n    </tr>\n    <tr>\n      <th>320</th>\n      <td>1</td>\n      <td>1</td>\n      <td>Woolner, Mr. Hugh</td>\n      <td>male</td>\n      <td>NaN</td>\n      <td>0</td>\n      <td>0</td>\n      <td>19947</td>\n      <td>35.5000</td>\n      <td>C52</td>\n      <td>S</td>\n      <td>D</td>\n      <td>NaN</td>\n      <td>London, England</td>\n    </tr>\n    <tr>\n      <th>321</th>\n      <td>1</td>\n      <td>0</td>\n      <td>Wright, Mr. George</td>\n      <td>male</td>\n      <td>62.0000</td>\n      <td>0</td>\n      <td>0</td>\n      <td>113807</td>\n      <td>26.5500</td>\n      <td>NaN</td>\n      <td>S</td>\n      <td>NaN</td>\n      <td>NaN</td>\n      <td>Halifax, NS</td>\n    </tr>\n    <tr>\n      <th>322</th>\n      <td>1</td>\n      <td>1</td>\n      <td>Young, Miss. Marie Grice</td>\n      <td>female</td>\n      <td>36.0000</td>\n      <td>0</td>\n      <td>0</td>\n      <td>PC 17760</td>\n      <td>135.6333</td>\n      <td>C32</td>\n      <td>C</td>\n      <td>8</td>\n      <td>NaN</td>\n      <td>New York, NY / Washington, DC</td>\n    </tr>\n  </tbody>\n</table>\n<p>323 rows × 14 columns</p>\n</div>"
     },
     "execution_count": 16,
     "metadata": {},
     "output_type": "execute_result"
    }
   ],
   "source": [
    "# Seleccionar todas las filas donde la clase es 1ra clase.\n",
    "titanic.loc[(titanic['pclass'] == 1)]\n"
   ],
   "metadata": {
    "collapsed": false,
    "ExecuteTime": {
     "end_time": "2023-08-10T17:13:50.988838Z",
     "start_time": "2023-08-10T17:13:50.918500Z"
    }
   },
   "id": "fc2cc8e16c5968a9"
  },
  {
   "cell_type": "code",
   "execution_count": 19,
   "outputs": [
    {
     "data": {
      "text/plain": "     pclass  survived                                               name  \\\n1         1         1                     Allison, Master. Hudson Trevor   \n2         1         0                       Allison, Miss. Helen Loraine   \n11        1         1  Astor, Mrs. John Jacob (Madeleine Talmadge Force)   \n53        1         0                             Carrau, Mr. Jose Pedro   \n54        1         1                Carter, Master. William Thornton II   \n55        1         1                          Carter, Miss. Lucile Polk   \n92        1         1          Dick, Mrs. Albert Adrian (Vera Gillespie)   \n94        1         1                          Dodge, Master. Washington   \n159       1         1                       Hippach, Miss. Jean Gertrude   \n187       1         1                          Lines, Miss. Mary Conover   \n193       1         1                  Madill, Miss. Georgette Alexandra   \n195       1         1                              Maioni, Miss. Roberta   \n198       1         1  Marvin, Mrs. Daniel Warner (Mary Graham Carmic...   \n228       1         0         Penasco y Castellana, Mr. Victor de Satode   \n229       1         1  Penasco y Castellana, Mrs. Victor de Satode (M...   \n249       1         1                        Ryerson, Master. John Borie   \n250       1         1                         Ryerson, Miss. Emily Borie   \n270       1         1     Smith, Mrs. Lucien Philip (Mary Eloise Hughes)   \n273       1         1                    Spedden, Master. Robert Douglas   \n289       1         1                                Taussig, Miss. Ruth   \n295       1         1                        Thayer, Mr. John Borland Jr   \n\n        sex      age  sibsp  parch    ticket      fare            cabin  \\\n1      male   0.9167      1      2    113781  151.5500          C22 C26   \n2    female   2.0000      1      2    113781  151.5500          C22 C26   \n11   female  18.0000      1      0  PC 17757  227.5250          C62 C64   \n53     male  17.0000      0      0    113059   47.1000              NaN   \n54     male  11.0000      1      2    113760  120.0000          B96 B98   \n55   female  14.0000      1      2    113760  120.0000          B96 B98   \n92   female  17.0000      1      0     17474   57.0000              B20   \n94     male   4.0000      0      2     33638   81.8583              A34   \n159  female  16.0000      0      1    111361   57.9792              B18   \n187  female  16.0000      0      1  PC 17592   39.4000              D28   \n193  female  15.0000      0      1     24160  211.3375               B5   \n195  female  16.0000      0      0    110152   86.5000              B79   \n198  female  18.0000      1      0    113773   53.1000              D30   \n228    male  18.0000      1      0  PC 17758  108.9000              C65   \n229  female  17.0000      1      0  PC 17758  108.9000              C65   \n249    male  13.0000      2      2  PC 17608  262.3750  B57 B59 B63 B66   \n250  female  18.0000      2      2  PC 17608  262.3750  B57 B59 B63 B66   \n270  female  18.0000      1      0     13695   60.0000              C31   \n273    male   6.0000      0      2     16966  134.5000              E34   \n289  female  18.0000      0      2    110413   79.6500              E68   \n295    male  17.0000      0      2     17421  110.8833              C70   \n\n    embarked boat  body                        home.dest  \n1          S   11   NaN  Montreal, PQ / Chesterville, ON  \n2          S  NaN   NaN  Montreal, PQ / Chesterville, ON  \n11         C    4   NaN                     New York, NY  \n53         S  NaN   NaN              Montevideo, Uruguay  \n54         S    4   NaN                    Bryn Mawr, PA  \n55         S    4   NaN                    Bryn Mawr, PA  \n92         S    3   NaN                      Calgary, AB  \n94         S    5   NaN                San Francisco, CA  \n159        C    4   NaN                      Chicago, IL  \n187        S    9   NaN                    Paris, France  \n193        S    2   NaN                     St Louis, MO  \n195        S    8   NaN                              NaN  \n198        S   10   NaN                     New York, NY  \n228        C  NaN   NaN                    Madrid, Spain  \n229        C    8   NaN                    Madrid, Spain  \n249        C    4   NaN  Haverford, PA / Cooperstown, NY  \n250        C    4   NaN  Haverford, PA / Cooperstown, NY  \n270        S    6   NaN                   Huntington, WV  \n273        C    3   NaN                  Tuxedo Park, NY  \n289        S    8   NaN                     New York, NY  \n295        C    B   NaN                    Haverford, PA  ",
      "text/html": "<div>\n<style scoped>\n    .dataframe tbody tr th:only-of-type {\n        vertical-align: middle;\n    }\n\n    .dataframe tbody tr th {\n        vertical-align: top;\n    }\n\n    .dataframe thead th {\n        text-align: right;\n    }\n</style>\n<table border=\"1\" class=\"dataframe\">\n  <thead>\n    <tr style=\"text-align: right;\">\n      <th></th>\n      <th>pclass</th>\n      <th>survived</th>\n      <th>name</th>\n      <th>sex</th>\n      <th>age</th>\n      <th>sibsp</th>\n      <th>parch</th>\n      <th>ticket</th>\n      <th>fare</th>\n      <th>cabin</th>\n      <th>embarked</th>\n      <th>boat</th>\n      <th>body</th>\n      <th>home.dest</th>\n    </tr>\n  </thead>\n  <tbody>\n    <tr>\n      <th>1</th>\n      <td>1</td>\n      <td>1</td>\n      <td>Allison, Master. Hudson Trevor</td>\n      <td>male</td>\n      <td>0.9167</td>\n      <td>1</td>\n      <td>2</td>\n      <td>113781</td>\n      <td>151.5500</td>\n      <td>C22 C26</td>\n      <td>S</td>\n      <td>11</td>\n      <td>NaN</td>\n      <td>Montreal, PQ / Chesterville, ON</td>\n    </tr>\n    <tr>\n      <th>2</th>\n      <td>1</td>\n      <td>0</td>\n      <td>Allison, Miss. Helen Loraine</td>\n      <td>female</td>\n      <td>2.0000</td>\n      <td>1</td>\n      <td>2</td>\n      <td>113781</td>\n      <td>151.5500</td>\n      <td>C22 C26</td>\n      <td>S</td>\n      <td>NaN</td>\n      <td>NaN</td>\n      <td>Montreal, PQ / Chesterville, ON</td>\n    </tr>\n    <tr>\n      <th>11</th>\n      <td>1</td>\n      <td>1</td>\n      <td>Astor, Mrs. John Jacob (Madeleine Talmadge Force)</td>\n      <td>female</td>\n      <td>18.0000</td>\n      <td>1</td>\n      <td>0</td>\n      <td>PC 17757</td>\n      <td>227.5250</td>\n      <td>C62 C64</td>\n      <td>C</td>\n      <td>4</td>\n      <td>NaN</td>\n      <td>New York, NY</td>\n    </tr>\n    <tr>\n      <th>53</th>\n      <td>1</td>\n      <td>0</td>\n      <td>Carrau, Mr. Jose Pedro</td>\n      <td>male</td>\n      <td>17.0000</td>\n      <td>0</td>\n      <td>0</td>\n      <td>113059</td>\n      <td>47.1000</td>\n      <td>NaN</td>\n      <td>S</td>\n      <td>NaN</td>\n      <td>NaN</td>\n      <td>Montevideo, Uruguay</td>\n    </tr>\n    <tr>\n      <th>54</th>\n      <td>1</td>\n      <td>1</td>\n      <td>Carter, Master. William Thornton II</td>\n      <td>male</td>\n      <td>11.0000</td>\n      <td>1</td>\n      <td>2</td>\n      <td>113760</td>\n      <td>120.0000</td>\n      <td>B96 B98</td>\n      <td>S</td>\n      <td>4</td>\n      <td>NaN</td>\n      <td>Bryn Mawr, PA</td>\n    </tr>\n    <tr>\n      <th>55</th>\n      <td>1</td>\n      <td>1</td>\n      <td>Carter, Miss. Lucile Polk</td>\n      <td>female</td>\n      <td>14.0000</td>\n      <td>1</td>\n      <td>2</td>\n      <td>113760</td>\n      <td>120.0000</td>\n      <td>B96 B98</td>\n      <td>S</td>\n      <td>4</td>\n      <td>NaN</td>\n      <td>Bryn Mawr, PA</td>\n    </tr>\n    <tr>\n      <th>92</th>\n      <td>1</td>\n      <td>1</td>\n      <td>Dick, Mrs. Albert Adrian (Vera Gillespie)</td>\n      <td>female</td>\n      <td>17.0000</td>\n      <td>1</td>\n      <td>0</td>\n      <td>17474</td>\n      <td>57.0000</td>\n      <td>B20</td>\n      <td>S</td>\n      <td>3</td>\n      <td>NaN</td>\n      <td>Calgary, AB</td>\n    </tr>\n    <tr>\n      <th>94</th>\n      <td>1</td>\n      <td>1</td>\n      <td>Dodge, Master. Washington</td>\n      <td>male</td>\n      <td>4.0000</td>\n      <td>0</td>\n      <td>2</td>\n      <td>33638</td>\n      <td>81.8583</td>\n      <td>A34</td>\n      <td>S</td>\n      <td>5</td>\n      <td>NaN</td>\n      <td>San Francisco, CA</td>\n    </tr>\n    <tr>\n      <th>159</th>\n      <td>1</td>\n      <td>1</td>\n      <td>Hippach, Miss. Jean Gertrude</td>\n      <td>female</td>\n      <td>16.0000</td>\n      <td>0</td>\n      <td>1</td>\n      <td>111361</td>\n      <td>57.9792</td>\n      <td>B18</td>\n      <td>C</td>\n      <td>4</td>\n      <td>NaN</td>\n      <td>Chicago, IL</td>\n    </tr>\n    <tr>\n      <th>187</th>\n      <td>1</td>\n      <td>1</td>\n      <td>Lines, Miss. Mary Conover</td>\n      <td>female</td>\n      <td>16.0000</td>\n      <td>0</td>\n      <td>1</td>\n      <td>PC 17592</td>\n      <td>39.4000</td>\n      <td>D28</td>\n      <td>S</td>\n      <td>9</td>\n      <td>NaN</td>\n      <td>Paris, France</td>\n    </tr>\n    <tr>\n      <th>193</th>\n      <td>1</td>\n      <td>1</td>\n      <td>Madill, Miss. Georgette Alexandra</td>\n      <td>female</td>\n      <td>15.0000</td>\n      <td>0</td>\n      <td>1</td>\n      <td>24160</td>\n      <td>211.3375</td>\n      <td>B5</td>\n      <td>S</td>\n      <td>2</td>\n      <td>NaN</td>\n      <td>St Louis, MO</td>\n    </tr>\n    <tr>\n      <th>195</th>\n      <td>1</td>\n      <td>1</td>\n      <td>Maioni, Miss. Roberta</td>\n      <td>female</td>\n      <td>16.0000</td>\n      <td>0</td>\n      <td>0</td>\n      <td>110152</td>\n      <td>86.5000</td>\n      <td>B79</td>\n      <td>S</td>\n      <td>8</td>\n      <td>NaN</td>\n      <td>NaN</td>\n    </tr>\n    <tr>\n      <th>198</th>\n      <td>1</td>\n      <td>1</td>\n      <td>Marvin, Mrs. Daniel Warner (Mary Graham Carmic...</td>\n      <td>female</td>\n      <td>18.0000</td>\n      <td>1</td>\n      <td>0</td>\n      <td>113773</td>\n      <td>53.1000</td>\n      <td>D30</td>\n      <td>S</td>\n      <td>10</td>\n      <td>NaN</td>\n      <td>New York, NY</td>\n    </tr>\n    <tr>\n      <th>228</th>\n      <td>1</td>\n      <td>0</td>\n      <td>Penasco y Castellana, Mr. Victor de Satode</td>\n      <td>male</td>\n      <td>18.0000</td>\n      <td>1</td>\n      <td>0</td>\n      <td>PC 17758</td>\n      <td>108.9000</td>\n      <td>C65</td>\n      <td>C</td>\n      <td>NaN</td>\n      <td>NaN</td>\n      <td>Madrid, Spain</td>\n    </tr>\n    <tr>\n      <th>229</th>\n      <td>1</td>\n      <td>1</td>\n      <td>Penasco y Castellana, Mrs. Victor de Satode (M...</td>\n      <td>female</td>\n      <td>17.0000</td>\n      <td>1</td>\n      <td>0</td>\n      <td>PC 17758</td>\n      <td>108.9000</td>\n      <td>C65</td>\n      <td>C</td>\n      <td>8</td>\n      <td>NaN</td>\n      <td>Madrid, Spain</td>\n    </tr>\n    <tr>\n      <th>249</th>\n      <td>1</td>\n      <td>1</td>\n      <td>Ryerson, Master. John Borie</td>\n      <td>male</td>\n      <td>13.0000</td>\n      <td>2</td>\n      <td>2</td>\n      <td>PC 17608</td>\n      <td>262.3750</td>\n      <td>B57 B59 B63 B66</td>\n      <td>C</td>\n      <td>4</td>\n      <td>NaN</td>\n      <td>Haverford, PA / Cooperstown, NY</td>\n    </tr>\n    <tr>\n      <th>250</th>\n      <td>1</td>\n      <td>1</td>\n      <td>Ryerson, Miss. Emily Borie</td>\n      <td>female</td>\n      <td>18.0000</td>\n      <td>2</td>\n      <td>2</td>\n      <td>PC 17608</td>\n      <td>262.3750</td>\n      <td>B57 B59 B63 B66</td>\n      <td>C</td>\n      <td>4</td>\n      <td>NaN</td>\n      <td>Haverford, PA / Cooperstown, NY</td>\n    </tr>\n    <tr>\n      <th>270</th>\n      <td>1</td>\n      <td>1</td>\n      <td>Smith, Mrs. Lucien Philip (Mary Eloise Hughes)</td>\n      <td>female</td>\n      <td>18.0000</td>\n      <td>1</td>\n      <td>0</td>\n      <td>13695</td>\n      <td>60.0000</td>\n      <td>C31</td>\n      <td>S</td>\n      <td>6</td>\n      <td>NaN</td>\n      <td>Huntington, WV</td>\n    </tr>\n    <tr>\n      <th>273</th>\n      <td>1</td>\n      <td>1</td>\n      <td>Spedden, Master. Robert Douglas</td>\n      <td>male</td>\n      <td>6.0000</td>\n      <td>0</td>\n      <td>2</td>\n      <td>16966</td>\n      <td>134.5000</td>\n      <td>E34</td>\n      <td>C</td>\n      <td>3</td>\n      <td>NaN</td>\n      <td>Tuxedo Park, NY</td>\n    </tr>\n    <tr>\n      <th>289</th>\n      <td>1</td>\n      <td>1</td>\n      <td>Taussig, Miss. Ruth</td>\n      <td>female</td>\n      <td>18.0000</td>\n      <td>0</td>\n      <td>2</td>\n      <td>110413</td>\n      <td>79.6500</td>\n      <td>E68</td>\n      <td>S</td>\n      <td>8</td>\n      <td>NaN</td>\n      <td>New York, NY</td>\n    </tr>\n    <tr>\n      <th>295</th>\n      <td>1</td>\n      <td>1</td>\n      <td>Thayer, Mr. John Borland Jr</td>\n      <td>male</td>\n      <td>17.0000</td>\n      <td>0</td>\n      <td>2</td>\n      <td>17421</td>\n      <td>110.8833</td>\n      <td>C70</td>\n      <td>C</td>\n      <td>B</td>\n      <td>NaN</td>\n      <td>Haverford, PA</td>\n    </tr>\n  </tbody>\n</table>\n</div>"
     },
     "execution_count": 19,
     "metadata": {},
     "output_type": "execute_result"
    }
   ],
   "source": [
    "# Seleccionar todas las filas donde la edad es mayor que 30 y la clase es 1ra clase.\n",
    "titanic.loc[(titanic['age'] < 19) & (titanic['pclass'] == 1)]"
   ],
   "metadata": {
    "collapsed": false,
    "ExecuteTime": {
     "end_time": "2023-08-10T17:14:32.225964Z",
     "start_time": "2023-08-10T17:14:32.177404Z"
    }
   },
   "id": "e586d84a67c0576e"
  },
  {
   "cell_type": "code",
   "execution_count": 20,
   "outputs": [
    {
     "data": {
      "text/plain": "     pclass  survived                                             name  \\\n0         1         1                    Allen, Miss. Elisabeth Walton   \n1         1         1                   Allison, Master. Hudson Trevor   \n2         1         0                     Allison, Miss. Helen Loraine   \n3         1         0             Allison, Mr. Hudson Joshua Creighton   \n4         1         0  Allison, Mrs. Hudson J C (Bessie Waldo Daniels)   \n..      ...       ...                                              ...   \n649       3         0                                   Assam, Mr. Ali   \n650       3         0                            Attalah, Miss. Malake   \n651       3         0                             Attalah, Mr. Sleiman   \n652       3         0                           Augustsson, Mr. Albert   \n653       3         1                             Ayoub, Miss. Banoura   \n\n        sex      age  sibsp  parch              ticket      fare    cabin  \\\n0    female  29.0000      0      0               24160  211.3375       B5   \n1      male   0.9167      1      2              113781  151.5500  C22 C26   \n2    female   2.0000      1      2              113781  151.5500  C22 C26   \n3      male  30.0000      1      2              113781  151.5500  C22 C26   \n4    female  25.0000      1      2              113781  151.5500  C22 C26   \n..      ...      ...    ...    ...                 ...       ...      ...   \n649    male  23.0000      0      0  SOTON/O.Q. 3101309    7.0500      NaN   \n650  female  17.0000      0      0                2627   14.4583      NaN   \n651    male  30.0000      0      0                2694    7.2250      NaN   \n652    male  23.0000      0      0              347468    7.8542      NaN   \n653  female  13.0000      0      0                2687    7.2292      NaN   \n\n    embarked boat   body                         home.dest  \n0          S    2    NaN                      St Louis, MO  \n1          S   11    NaN   Montreal, PQ / Chesterville, ON  \n2          S  NaN    NaN   Montreal, PQ / Chesterville, ON  \n3          S  NaN  135.0   Montreal, PQ / Chesterville, ON  \n4          S  NaN    NaN   Montreal, PQ / Chesterville, ON  \n..       ...  ...    ...                               ...  \n649        S  NaN    NaN                               NaN  \n650        C  NaN    NaN                               NaN  \n651        C  NaN    NaN                        Ottawa, ON  \n652        S  NaN    NaN  Krakoryd, Sweden Bloomington, IL  \n653        C    C    NaN              Syria Youngstown, OH  \n\n[75 rows x 14 columns]",
      "text/html": "<div>\n<style scoped>\n    .dataframe tbody tr th:only-of-type {\n        vertical-align: middle;\n    }\n\n    .dataframe tbody tr th {\n        vertical-align: top;\n    }\n\n    .dataframe thead th {\n        text-align: right;\n    }\n</style>\n<table border=\"1\" class=\"dataframe\">\n  <thead>\n    <tr style=\"text-align: right;\">\n      <th></th>\n      <th>pclass</th>\n      <th>survived</th>\n      <th>name</th>\n      <th>sex</th>\n      <th>age</th>\n      <th>sibsp</th>\n      <th>parch</th>\n      <th>ticket</th>\n      <th>fare</th>\n      <th>cabin</th>\n      <th>embarked</th>\n      <th>boat</th>\n      <th>body</th>\n      <th>home.dest</th>\n    </tr>\n  </thead>\n  <tbody>\n    <tr>\n      <th>0</th>\n      <td>1</td>\n      <td>1</td>\n      <td>Allen, Miss. Elisabeth Walton</td>\n      <td>female</td>\n      <td>29.0000</td>\n      <td>0</td>\n      <td>0</td>\n      <td>24160</td>\n      <td>211.3375</td>\n      <td>B5</td>\n      <td>S</td>\n      <td>2</td>\n      <td>NaN</td>\n      <td>St Louis, MO</td>\n    </tr>\n    <tr>\n      <th>1</th>\n      <td>1</td>\n      <td>1</td>\n      <td>Allison, Master. Hudson Trevor</td>\n      <td>male</td>\n      <td>0.9167</td>\n      <td>1</td>\n      <td>2</td>\n      <td>113781</td>\n      <td>151.5500</td>\n      <td>C22 C26</td>\n      <td>S</td>\n      <td>11</td>\n      <td>NaN</td>\n      <td>Montreal, PQ / Chesterville, ON</td>\n    </tr>\n    <tr>\n      <th>2</th>\n      <td>1</td>\n      <td>0</td>\n      <td>Allison, Miss. Helen Loraine</td>\n      <td>female</td>\n      <td>2.0000</td>\n      <td>1</td>\n      <td>2</td>\n      <td>113781</td>\n      <td>151.5500</td>\n      <td>C22 C26</td>\n      <td>S</td>\n      <td>NaN</td>\n      <td>NaN</td>\n      <td>Montreal, PQ / Chesterville, ON</td>\n    </tr>\n    <tr>\n      <th>3</th>\n      <td>1</td>\n      <td>0</td>\n      <td>Allison, Mr. Hudson Joshua Creighton</td>\n      <td>male</td>\n      <td>30.0000</td>\n      <td>1</td>\n      <td>2</td>\n      <td>113781</td>\n      <td>151.5500</td>\n      <td>C22 C26</td>\n      <td>S</td>\n      <td>NaN</td>\n      <td>135.0</td>\n      <td>Montreal, PQ / Chesterville, ON</td>\n    </tr>\n    <tr>\n      <th>4</th>\n      <td>1</td>\n      <td>0</td>\n      <td>Allison, Mrs. Hudson J C (Bessie Waldo Daniels)</td>\n      <td>female</td>\n      <td>25.0000</td>\n      <td>1</td>\n      <td>2</td>\n      <td>113781</td>\n      <td>151.5500</td>\n      <td>C22 C26</td>\n      <td>S</td>\n      <td>NaN</td>\n      <td>NaN</td>\n      <td>Montreal, PQ / Chesterville, ON</td>\n    </tr>\n    <tr>\n      <th>...</th>\n      <td>...</td>\n      <td>...</td>\n      <td>...</td>\n      <td>...</td>\n      <td>...</td>\n      <td>...</td>\n      <td>...</td>\n      <td>...</td>\n      <td>...</td>\n      <td>...</td>\n      <td>...</td>\n      <td>...</td>\n      <td>...</td>\n      <td>...</td>\n    </tr>\n    <tr>\n      <th>649</th>\n      <td>3</td>\n      <td>0</td>\n      <td>Assam, Mr. Ali</td>\n      <td>male</td>\n      <td>23.0000</td>\n      <td>0</td>\n      <td>0</td>\n      <td>SOTON/O.Q. 3101309</td>\n      <td>7.0500</td>\n      <td>NaN</td>\n      <td>S</td>\n      <td>NaN</td>\n      <td>NaN</td>\n      <td>NaN</td>\n    </tr>\n    <tr>\n      <th>650</th>\n      <td>3</td>\n      <td>0</td>\n      <td>Attalah, Miss. Malake</td>\n      <td>female</td>\n      <td>17.0000</td>\n      <td>0</td>\n      <td>0</td>\n      <td>2627</td>\n      <td>14.4583</td>\n      <td>NaN</td>\n      <td>C</td>\n      <td>NaN</td>\n      <td>NaN</td>\n      <td>NaN</td>\n    </tr>\n    <tr>\n      <th>651</th>\n      <td>3</td>\n      <td>0</td>\n      <td>Attalah, Mr. Sleiman</td>\n      <td>male</td>\n      <td>30.0000</td>\n      <td>0</td>\n      <td>0</td>\n      <td>2694</td>\n      <td>7.2250</td>\n      <td>NaN</td>\n      <td>C</td>\n      <td>NaN</td>\n      <td>NaN</td>\n      <td>Ottawa, ON</td>\n    </tr>\n    <tr>\n      <th>652</th>\n      <td>3</td>\n      <td>0</td>\n      <td>Augustsson, Mr. Albert</td>\n      <td>male</td>\n      <td>23.0000</td>\n      <td>0</td>\n      <td>0</td>\n      <td>347468</td>\n      <td>7.8542</td>\n      <td>NaN</td>\n      <td>S</td>\n      <td>NaN</td>\n      <td>NaN</td>\n      <td>Krakoryd, Sweden Bloomington, IL</td>\n    </tr>\n    <tr>\n      <th>653</th>\n      <td>3</td>\n      <td>1</td>\n      <td>Ayoub, Miss. Banoura</td>\n      <td>female</td>\n      <td>13.0000</td>\n      <td>0</td>\n      <td>0</td>\n      <td>2687</td>\n      <td>7.2292</td>\n      <td>NaN</td>\n      <td>C</td>\n      <td>C</td>\n      <td>NaN</td>\n      <td>Syria Youngstown, OH</td>\n    </tr>\n  </tbody>\n</table>\n<p>75 rows × 14 columns</p>\n</div>"
     },
     "execution_count": 20,
     "metadata": {},
     "output_type": "execute_result"
    }
   ],
   "source": [
    "# Seleccionar todas las filas donde el nombre comienza con \"Mr.\".\n",
    "titanic.loc[titanic['name'].str.startswith('A')]"
   ],
   "metadata": {
    "collapsed": false,
    "ExecuteTime": {
     "end_time": "2023-08-10T17:15:02.330071Z",
     "start_time": "2023-08-10T17:15:02.248890Z"
    }
   },
   "id": "125e5e95d551f647"
  },
  {
   "cell_type": "markdown",
   "source": [
    "isin: El operador isin() se utiliza para filtrar un DataFrame por una lista de valores. Por ejemplo,\n",
    "para filtrar un DataFrame para que solo contenga pasajeros de primera clase, puede usar el siguiente\n",
    "código:"
   ],
   "metadata": {
    "collapsed": false
   },
   "id": "7d98e4a3d99542d6"
  },
  {
   "cell_type": "code",
   "execution_count": 21,
   "outputs": [
    {
     "data": {
      "text/plain": "     pclass  survived                                             name  \\\n0         1         1                    Allen, Miss. Elisabeth Walton   \n1         1         1                   Allison, Master. Hudson Trevor   \n2         1         0                     Allison, Miss. Helen Loraine   \n3         1         0             Allison, Mr. Hudson Joshua Creighton   \n4         1         0  Allison, Mrs. Hudson J C (Bessie Waldo Daniels)   \n..      ...       ...                                              ...   \n318       1         0           Williams-Lambert, Mr. Fletcher Fellows   \n319       1         1                        Wilson, Miss. Helen Alice   \n320       1         1                                Woolner, Mr. Hugh   \n321       1         0                               Wright, Mr. George   \n322       1         1                         Young, Miss. Marie Grice   \n\n        sex      age  sibsp  parch    ticket      fare    cabin embarked boat  \\\n0    female  29.0000      0      0     24160  211.3375       B5        S    2   \n1      male   0.9167      1      2    113781  151.5500  C22 C26        S   11   \n2    female   2.0000      1      2    113781  151.5500  C22 C26        S  NaN   \n3      male  30.0000      1      2    113781  151.5500  C22 C26        S  NaN   \n4    female  25.0000      1      2    113781  151.5500  C22 C26        S  NaN   \n..      ...      ...    ...    ...       ...       ...      ...      ...  ...   \n318    male      NaN      0      0    113510   35.0000     C128        S  NaN   \n319  female  31.0000      0      0     16966  134.5000  E39 E41        C    3   \n320    male      NaN      0      0     19947   35.5000      C52        S    D   \n321    male  62.0000      0      0    113807   26.5500      NaN        S  NaN   \n322  female  36.0000      0      0  PC 17760  135.6333      C32        C    8   \n\n      body                        home.dest  \n0      NaN                     St Louis, MO  \n1      NaN  Montreal, PQ / Chesterville, ON  \n2      NaN  Montreal, PQ / Chesterville, ON  \n3    135.0  Montreal, PQ / Chesterville, ON  \n4      NaN  Montreal, PQ / Chesterville, ON  \n..     ...                              ...  \n318    NaN                  London, England  \n319    NaN                              NaN  \n320    NaN                  London, England  \n321    NaN                      Halifax, NS  \n322    NaN    New York, NY / Washington, DC  \n\n[323 rows x 14 columns]",
      "text/html": "<div>\n<style scoped>\n    .dataframe tbody tr th:only-of-type {\n        vertical-align: middle;\n    }\n\n    .dataframe tbody tr th {\n        vertical-align: top;\n    }\n\n    .dataframe thead th {\n        text-align: right;\n    }\n</style>\n<table border=\"1\" class=\"dataframe\">\n  <thead>\n    <tr style=\"text-align: right;\">\n      <th></th>\n      <th>pclass</th>\n      <th>survived</th>\n      <th>name</th>\n      <th>sex</th>\n      <th>age</th>\n      <th>sibsp</th>\n      <th>parch</th>\n      <th>ticket</th>\n      <th>fare</th>\n      <th>cabin</th>\n      <th>embarked</th>\n      <th>boat</th>\n      <th>body</th>\n      <th>home.dest</th>\n    </tr>\n  </thead>\n  <tbody>\n    <tr>\n      <th>0</th>\n      <td>1</td>\n      <td>1</td>\n      <td>Allen, Miss. Elisabeth Walton</td>\n      <td>female</td>\n      <td>29.0000</td>\n      <td>0</td>\n      <td>0</td>\n      <td>24160</td>\n      <td>211.3375</td>\n      <td>B5</td>\n      <td>S</td>\n      <td>2</td>\n      <td>NaN</td>\n      <td>St Louis, MO</td>\n    </tr>\n    <tr>\n      <th>1</th>\n      <td>1</td>\n      <td>1</td>\n      <td>Allison, Master. Hudson Trevor</td>\n      <td>male</td>\n      <td>0.9167</td>\n      <td>1</td>\n      <td>2</td>\n      <td>113781</td>\n      <td>151.5500</td>\n      <td>C22 C26</td>\n      <td>S</td>\n      <td>11</td>\n      <td>NaN</td>\n      <td>Montreal, PQ / Chesterville, ON</td>\n    </tr>\n    <tr>\n      <th>2</th>\n      <td>1</td>\n      <td>0</td>\n      <td>Allison, Miss. Helen Loraine</td>\n      <td>female</td>\n      <td>2.0000</td>\n      <td>1</td>\n      <td>2</td>\n      <td>113781</td>\n      <td>151.5500</td>\n      <td>C22 C26</td>\n      <td>S</td>\n      <td>NaN</td>\n      <td>NaN</td>\n      <td>Montreal, PQ / Chesterville, ON</td>\n    </tr>\n    <tr>\n      <th>3</th>\n      <td>1</td>\n      <td>0</td>\n      <td>Allison, Mr. Hudson Joshua Creighton</td>\n      <td>male</td>\n      <td>30.0000</td>\n      <td>1</td>\n      <td>2</td>\n      <td>113781</td>\n      <td>151.5500</td>\n      <td>C22 C26</td>\n      <td>S</td>\n      <td>NaN</td>\n      <td>135.0</td>\n      <td>Montreal, PQ / Chesterville, ON</td>\n    </tr>\n    <tr>\n      <th>4</th>\n      <td>1</td>\n      <td>0</td>\n      <td>Allison, Mrs. Hudson J C (Bessie Waldo Daniels)</td>\n      <td>female</td>\n      <td>25.0000</td>\n      <td>1</td>\n      <td>2</td>\n      <td>113781</td>\n      <td>151.5500</td>\n      <td>C22 C26</td>\n      <td>S</td>\n      <td>NaN</td>\n      <td>NaN</td>\n      <td>Montreal, PQ / Chesterville, ON</td>\n    </tr>\n    <tr>\n      <th>...</th>\n      <td>...</td>\n      <td>...</td>\n      <td>...</td>\n      <td>...</td>\n      <td>...</td>\n      <td>...</td>\n      <td>...</td>\n      <td>...</td>\n      <td>...</td>\n      <td>...</td>\n      <td>...</td>\n      <td>...</td>\n      <td>...</td>\n      <td>...</td>\n    </tr>\n    <tr>\n      <th>318</th>\n      <td>1</td>\n      <td>0</td>\n      <td>Williams-Lambert, Mr. Fletcher Fellows</td>\n      <td>male</td>\n      <td>NaN</td>\n      <td>0</td>\n      <td>0</td>\n      <td>113510</td>\n      <td>35.0000</td>\n      <td>C128</td>\n      <td>S</td>\n      <td>NaN</td>\n      <td>NaN</td>\n      <td>London, England</td>\n    </tr>\n    <tr>\n      <th>319</th>\n      <td>1</td>\n      <td>1</td>\n      <td>Wilson, Miss. Helen Alice</td>\n      <td>female</td>\n      <td>31.0000</td>\n      <td>0</td>\n      <td>0</td>\n      <td>16966</td>\n      <td>134.5000</td>\n      <td>E39 E41</td>\n      <td>C</td>\n      <td>3</td>\n      <td>NaN</td>\n      <td>NaN</td>\n    </tr>\n    <tr>\n      <th>320</th>\n      <td>1</td>\n      <td>1</td>\n      <td>Woolner, Mr. Hugh</td>\n      <td>male</td>\n      <td>NaN</td>\n      <td>0</td>\n      <td>0</td>\n      <td>19947</td>\n      <td>35.5000</td>\n      <td>C52</td>\n      <td>S</td>\n      <td>D</td>\n      <td>NaN</td>\n      <td>London, England</td>\n    </tr>\n    <tr>\n      <th>321</th>\n      <td>1</td>\n      <td>0</td>\n      <td>Wright, Mr. George</td>\n      <td>male</td>\n      <td>62.0000</td>\n      <td>0</td>\n      <td>0</td>\n      <td>113807</td>\n      <td>26.5500</td>\n      <td>NaN</td>\n      <td>S</td>\n      <td>NaN</td>\n      <td>NaN</td>\n      <td>Halifax, NS</td>\n    </tr>\n    <tr>\n      <th>322</th>\n      <td>1</td>\n      <td>1</td>\n      <td>Young, Miss. Marie Grice</td>\n      <td>female</td>\n      <td>36.0000</td>\n      <td>0</td>\n      <td>0</td>\n      <td>PC 17760</td>\n      <td>135.6333</td>\n      <td>C32</td>\n      <td>C</td>\n      <td>8</td>\n      <td>NaN</td>\n      <td>New York, NY / Washington, DC</td>\n    </tr>\n  </tbody>\n</table>\n<p>323 rows × 14 columns</p>\n</div>"
     },
     "execution_count": 21,
     "metadata": {},
     "output_type": "execute_result"
    }
   ],
   "source": [
    "titanic[titanic['pclass'].isin([1])]"
   ],
   "metadata": {
    "collapsed": false,
    "ExecuteTime": {
     "end_time": "2023-08-10T17:15:14.378713Z",
     "start_time": "2023-08-10T17:15:14.325846Z"
    }
   },
   "id": "4ec42307b8d20f95"
  },
  {
   "cell_type": "markdown",
   "source": [
    "between: El operador between() se utiliza para filtrar un DataFrame por un rango de valores. Por\n",
    "ejemplo, para filtrar un DataFrame para que solo contenga pasajeros que tienen entre 18 y 30 años,\n",
    "puede usar el siguiente código:"
   ],
   "metadata": {
    "collapsed": false
   },
   "id": "5a4ff9e0228097fb"
  },
  {
   "cell_type": "code",
   "execution_count": 24,
   "outputs": [
    {
     "data": {
      "text/plain": "      pclass  survived                                               name  \\\n1          1         1                     Allison, Master. Hudson Trevor   \n2          1         0                       Allison, Miss. Helen Loraine   \n11         1         1  Astor, Mrs. John Jacob (Madeleine Talmadge Force)   \n53         1         0                             Carrau, Mr. Jose Pedro   \n54         1         1                Carter, Master. William Thornton II   \n...      ...       ...                                                ...   \n1275       3         0                    Vander Planke, Mr. Leo Edmondus   \n1279       3         0               Vestrom, Miss. Hulda Amanda Adolfina   \n1288       3         0                          Wiklund, Mr. Jakob Alfred   \n1300       3         1            Yasbeck, Mrs. Antoni (Selini Alexander)   \n1304       3         0                               Zabour, Miss. Hileni   \n\n         sex      age  sibsp  parch    ticket      fare    cabin embarked  \\\n1       male   0.9167      1      2    113781  151.5500  C22 C26        S   \n2     female   2.0000      1      2    113781  151.5500  C22 C26        S   \n11    female  18.0000      1      0  PC 17757  227.5250  C62 C64        C   \n53      male  17.0000      0      0    113059   47.1000      NaN        S   \n54      male  11.0000      1      2    113760  120.0000  B96 B98        S   \n...      ...      ...    ...    ...       ...       ...      ...      ...   \n1275    male  16.0000      2      0    345764   18.0000      NaN        S   \n1279  female  14.0000      0      0    350406    7.8542      NaN        S   \n1288    male  18.0000      1      0   3101267    6.4958      NaN        S   \n1300  female  15.0000      1      0      2659   14.4542      NaN        C   \n1304  female  14.5000      1      0      2665   14.4542      NaN        C   \n\n     boat   body                        home.dest  \n1      11    NaN  Montreal, PQ / Chesterville, ON  \n2     NaN    NaN  Montreal, PQ / Chesterville, ON  \n11      4    NaN                     New York, NY  \n53    NaN    NaN              Montevideo, Uruguay  \n54      4    NaN                    Bryn Mawr, PA  \n...   ...    ...                              ...  \n1275  NaN    NaN                              NaN  \n1279  NaN    NaN                              NaN  \n1288  NaN  314.0                              NaN  \n1300  NaN    NaN                              NaN  \n1304  NaN  328.0                              NaN  \n\n[193 rows x 14 columns]",
      "text/html": "<div>\n<style scoped>\n    .dataframe tbody tr th:only-of-type {\n        vertical-align: middle;\n    }\n\n    .dataframe tbody tr th {\n        vertical-align: top;\n    }\n\n    .dataframe thead th {\n        text-align: right;\n    }\n</style>\n<table border=\"1\" class=\"dataframe\">\n  <thead>\n    <tr style=\"text-align: right;\">\n      <th></th>\n      <th>pclass</th>\n      <th>survived</th>\n      <th>name</th>\n      <th>sex</th>\n      <th>age</th>\n      <th>sibsp</th>\n      <th>parch</th>\n      <th>ticket</th>\n      <th>fare</th>\n      <th>cabin</th>\n      <th>embarked</th>\n      <th>boat</th>\n      <th>body</th>\n      <th>home.dest</th>\n    </tr>\n  </thead>\n  <tbody>\n    <tr>\n      <th>1</th>\n      <td>1</td>\n      <td>1</td>\n      <td>Allison, Master. Hudson Trevor</td>\n      <td>male</td>\n      <td>0.9167</td>\n      <td>1</td>\n      <td>2</td>\n      <td>113781</td>\n      <td>151.5500</td>\n      <td>C22 C26</td>\n      <td>S</td>\n      <td>11</td>\n      <td>NaN</td>\n      <td>Montreal, PQ / Chesterville, ON</td>\n    </tr>\n    <tr>\n      <th>2</th>\n      <td>1</td>\n      <td>0</td>\n      <td>Allison, Miss. Helen Loraine</td>\n      <td>female</td>\n      <td>2.0000</td>\n      <td>1</td>\n      <td>2</td>\n      <td>113781</td>\n      <td>151.5500</td>\n      <td>C22 C26</td>\n      <td>S</td>\n      <td>NaN</td>\n      <td>NaN</td>\n      <td>Montreal, PQ / Chesterville, ON</td>\n    </tr>\n    <tr>\n      <th>11</th>\n      <td>1</td>\n      <td>1</td>\n      <td>Astor, Mrs. John Jacob (Madeleine Talmadge Force)</td>\n      <td>female</td>\n      <td>18.0000</td>\n      <td>1</td>\n      <td>0</td>\n      <td>PC 17757</td>\n      <td>227.5250</td>\n      <td>C62 C64</td>\n      <td>C</td>\n      <td>4</td>\n      <td>NaN</td>\n      <td>New York, NY</td>\n    </tr>\n    <tr>\n      <th>53</th>\n      <td>1</td>\n      <td>0</td>\n      <td>Carrau, Mr. Jose Pedro</td>\n      <td>male</td>\n      <td>17.0000</td>\n      <td>0</td>\n      <td>0</td>\n      <td>113059</td>\n      <td>47.1000</td>\n      <td>NaN</td>\n      <td>S</td>\n      <td>NaN</td>\n      <td>NaN</td>\n      <td>Montevideo, Uruguay</td>\n    </tr>\n    <tr>\n      <th>54</th>\n      <td>1</td>\n      <td>1</td>\n      <td>Carter, Master. William Thornton II</td>\n      <td>male</td>\n      <td>11.0000</td>\n      <td>1</td>\n      <td>2</td>\n      <td>113760</td>\n      <td>120.0000</td>\n      <td>B96 B98</td>\n      <td>S</td>\n      <td>4</td>\n      <td>NaN</td>\n      <td>Bryn Mawr, PA</td>\n    </tr>\n    <tr>\n      <th>...</th>\n      <td>...</td>\n      <td>...</td>\n      <td>...</td>\n      <td>...</td>\n      <td>...</td>\n      <td>...</td>\n      <td>...</td>\n      <td>...</td>\n      <td>...</td>\n      <td>...</td>\n      <td>...</td>\n      <td>...</td>\n      <td>...</td>\n      <td>...</td>\n    </tr>\n    <tr>\n      <th>1275</th>\n      <td>3</td>\n      <td>0</td>\n      <td>Vander Planke, Mr. Leo Edmondus</td>\n      <td>male</td>\n      <td>16.0000</td>\n      <td>2</td>\n      <td>0</td>\n      <td>345764</td>\n      <td>18.0000</td>\n      <td>NaN</td>\n      <td>S</td>\n      <td>NaN</td>\n      <td>NaN</td>\n      <td>NaN</td>\n    </tr>\n    <tr>\n      <th>1279</th>\n      <td>3</td>\n      <td>0</td>\n      <td>Vestrom, Miss. Hulda Amanda Adolfina</td>\n      <td>female</td>\n      <td>14.0000</td>\n      <td>0</td>\n      <td>0</td>\n      <td>350406</td>\n      <td>7.8542</td>\n      <td>NaN</td>\n      <td>S</td>\n      <td>NaN</td>\n      <td>NaN</td>\n      <td>NaN</td>\n    </tr>\n    <tr>\n      <th>1288</th>\n      <td>3</td>\n      <td>0</td>\n      <td>Wiklund, Mr. Jakob Alfred</td>\n      <td>male</td>\n      <td>18.0000</td>\n      <td>1</td>\n      <td>0</td>\n      <td>3101267</td>\n      <td>6.4958</td>\n      <td>NaN</td>\n      <td>S</td>\n      <td>NaN</td>\n      <td>314.0</td>\n      <td>NaN</td>\n    </tr>\n    <tr>\n      <th>1300</th>\n      <td>3</td>\n      <td>1</td>\n      <td>Yasbeck, Mrs. Antoni (Selini Alexander)</td>\n      <td>female</td>\n      <td>15.0000</td>\n      <td>1</td>\n      <td>0</td>\n      <td>2659</td>\n      <td>14.4542</td>\n      <td>NaN</td>\n      <td>C</td>\n      <td>NaN</td>\n      <td>NaN</td>\n      <td>NaN</td>\n    </tr>\n    <tr>\n      <th>1304</th>\n      <td>3</td>\n      <td>0</td>\n      <td>Zabour, Miss. Hileni</td>\n      <td>female</td>\n      <td>14.5000</td>\n      <td>1</td>\n      <td>0</td>\n      <td>2665</td>\n      <td>14.4542</td>\n      <td>NaN</td>\n      <td>C</td>\n      <td>NaN</td>\n      <td>328.0</td>\n      <td>NaN</td>\n    </tr>\n  </tbody>\n</table>\n<p>193 rows × 14 columns</p>\n</div>"
     },
     "execution_count": 24,
     "metadata": {},
     "output_type": "execute_result"
    }
   ],
   "source": [
    "titanic[titanic['age'].between(0, 18)]"
   ],
   "metadata": {
    "collapsed": false,
    "ExecuteTime": {
     "end_time": "2023-08-10T17:15:58.979916Z",
     "start_time": "2023-08-10T17:15:58.848915Z"
    }
   },
   "id": "8412359be130e340"
  },
  {
   "cell_type": "markdown",
   "source": [
    "query: La función query() se utiliza para filtrar un DataFrame por una condición. La condición se\n",
    "puede especificar como una cadena o como una expresión. Por ejemplo, para filtrar un DataFrame\n",
    "para que solo contenga pasajeros que sobrevivieron al accidente, puede usar el siguiente código:"
   ],
   "metadata": {
    "collapsed": false
   },
   "id": "cd355ba623256bd6"
  },
  {
   "cell_type": "code",
   "execution_count": 25,
   "outputs": [
    {
     "data": {
      "text/plain": "      pclass  survived                                             name  \\\n0          1         1                    Allen, Miss. Elisabeth Walton   \n1          1         1                   Allison, Master. Hudson Trevor   \n5          1         1                              Anderson, Mr. Harry   \n6          1         1                Andrews, Miss. Kornelia Theodosia   \n8          1         1    Appleton, Mrs. Edward Dale (Charlotte Lamson)   \n...      ...       ...                                              ...   \n1261       3         1                           Turkula, Mrs. (Hedwig)   \n1277       3         1                             Vartanian, Mr. David   \n1286       3         1  Whabee, Mrs. George Joseph (Shawneene Abi-Saab)   \n1290       3         1                 Wilkes, Mrs. James (Ellen Needs)   \n1300       3         1          Yasbeck, Mrs. Antoni (Selini Alexander)   \n\n         sex      age  sibsp  parch  ticket      fare    cabin embarked  \\\n0     female  29.0000      0      0   24160  211.3375       B5        S   \n1       male   0.9167      1      2  113781  151.5500  C22 C26        S   \n5       male  48.0000      0      0   19952   26.5500      E12        S   \n6     female  63.0000      1      0   13502   77.9583       D7        S   \n8     female  53.0000      2      0   11769   51.4792     C101        S   \n...      ...      ...    ...    ...     ...       ...      ...      ...   \n1261  female  63.0000      0      0    4134    9.5875      NaN        S   \n1277    male  22.0000      0      0    2658    7.2250      NaN        C   \n1286  female  38.0000      0      0    2688    7.2292      NaN        C   \n1290  female  47.0000      1      0  363272    7.0000      NaN        S   \n1300  female  15.0000      1      0    2659   14.4542      NaN        C   \n\n       boat  body                        home.dest  \n0         2   NaN                     St Louis, MO  \n1        11   NaN  Montreal, PQ / Chesterville, ON  \n5         3   NaN                     New York, NY  \n6        10   NaN                       Hudson, NY  \n8         D   NaN              Bayside, Queens, NY  \n...     ...   ...                              ...  \n1261     15   NaN                              NaN  \n1277  13 15   NaN                              NaN  \n1286      C   NaN                              NaN  \n1290    NaN   NaN                              NaN  \n1300    NaN   NaN                              NaN  \n\n[500 rows x 14 columns]",
      "text/html": "<div>\n<style scoped>\n    .dataframe tbody tr th:only-of-type {\n        vertical-align: middle;\n    }\n\n    .dataframe tbody tr th {\n        vertical-align: top;\n    }\n\n    .dataframe thead th {\n        text-align: right;\n    }\n</style>\n<table border=\"1\" class=\"dataframe\">\n  <thead>\n    <tr style=\"text-align: right;\">\n      <th></th>\n      <th>pclass</th>\n      <th>survived</th>\n      <th>name</th>\n      <th>sex</th>\n      <th>age</th>\n      <th>sibsp</th>\n      <th>parch</th>\n      <th>ticket</th>\n      <th>fare</th>\n      <th>cabin</th>\n      <th>embarked</th>\n      <th>boat</th>\n      <th>body</th>\n      <th>home.dest</th>\n    </tr>\n  </thead>\n  <tbody>\n    <tr>\n      <th>0</th>\n      <td>1</td>\n      <td>1</td>\n      <td>Allen, Miss. Elisabeth Walton</td>\n      <td>female</td>\n      <td>29.0000</td>\n      <td>0</td>\n      <td>0</td>\n      <td>24160</td>\n      <td>211.3375</td>\n      <td>B5</td>\n      <td>S</td>\n      <td>2</td>\n      <td>NaN</td>\n      <td>St Louis, MO</td>\n    </tr>\n    <tr>\n      <th>1</th>\n      <td>1</td>\n      <td>1</td>\n      <td>Allison, Master. Hudson Trevor</td>\n      <td>male</td>\n      <td>0.9167</td>\n      <td>1</td>\n      <td>2</td>\n      <td>113781</td>\n      <td>151.5500</td>\n      <td>C22 C26</td>\n      <td>S</td>\n      <td>11</td>\n      <td>NaN</td>\n      <td>Montreal, PQ / Chesterville, ON</td>\n    </tr>\n    <tr>\n      <th>5</th>\n      <td>1</td>\n      <td>1</td>\n      <td>Anderson, Mr. Harry</td>\n      <td>male</td>\n      <td>48.0000</td>\n      <td>0</td>\n      <td>0</td>\n      <td>19952</td>\n      <td>26.5500</td>\n      <td>E12</td>\n      <td>S</td>\n      <td>3</td>\n      <td>NaN</td>\n      <td>New York, NY</td>\n    </tr>\n    <tr>\n      <th>6</th>\n      <td>1</td>\n      <td>1</td>\n      <td>Andrews, Miss. Kornelia Theodosia</td>\n      <td>female</td>\n      <td>63.0000</td>\n      <td>1</td>\n      <td>0</td>\n      <td>13502</td>\n      <td>77.9583</td>\n      <td>D7</td>\n      <td>S</td>\n      <td>10</td>\n      <td>NaN</td>\n      <td>Hudson, NY</td>\n    </tr>\n    <tr>\n      <th>8</th>\n      <td>1</td>\n      <td>1</td>\n      <td>Appleton, Mrs. Edward Dale (Charlotte Lamson)</td>\n      <td>female</td>\n      <td>53.0000</td>\n      <td>2</td>\n      <td>0</td>\n      <td>11769</td>\n      <td>51.4792</td>\n      <td>C101</td>\n      <td>S</td>\n      <td>D</td>\n      <td>NaN</td>\n      <td>Bayside, Queens, NY</td>\n    </tr>\n    <tr>\n      <th>...</th>\n      <td>...</td>\n      <td>...</td>\n      <td>...</td>\n      <td>...</td>\n      <td>...</td>\n      <td>...</td>\n      <td>...</td>\n      <td>...</td>\n      <td>...</td>\n      <td>...</td>\n      <td>...</td>\n      <td>...</td>\n      <td>...</td>\n      <td>...</td>\n    </tr>\n    <tr>\n      <th>1261</th>\n      <td>3</td>\n      <td>1</td>\n      <td>Turkula, Mrs. (Hedwig)</td>\n      <td>female</td>\n      <td>63.0000</td>\n      <td>0</td>\n      <td>0</td>\n      <td>4134</td>\n      <td>9.5875</td>\n      <td>NaN</td>\n      <td>S</td>\n      <td>15</td>\n      <td>NaN</td>\n      <td>NaN</td>\n    </tr>\n    <tr>\n      <th>1277</th>\n      <td>3</td>\n      <td>1</td>\n      <td>Vartanian, Mr. David</td>\n      <td>male</td>\n      <td>22.0000</td>\n      <td>0</td>\n      <td>0</td>\n      <td>2658</td>\n      <td>7.2250</td>\n      <td>NaN</td>\n      <td>C</td>\n      <td>13 15</td>\n      <td>NaN</td>\n      <td>NaN</td>\n    </tr>\n    <tr>\n      <th>1286</th>\n      <td>3</td>\n      <td>1</td>\n      <td>Whabee, Mrs. George Joseph (Shawneene Abi-Saab)</td>\n      <td>female</td>\n      <td>38.0000</td>\n      <td>0</td>\n      <td>0</td>\n      <td>2688</td>\n      <td>7.2292</td>\n      <td>NaN</td>\n      <td>C</td>\n      <td>C</td>\n      <td>NaN</td>\n      <td>NaN</td>\n    </tr>\n    <tr>\n      <th>1290</th>\n      <td>3</td>\n      <td>1</td>\n      <td>Wilkes, Mrs. James (Ellen Needs)</td>\n      <td>female</td>\n      <td>47.0000</td>\n      <td>1</td>\n      <td>0</td>\n      <td>363272</td>\n      <td>7.0000</td>\n      <td>NaN</td>\n      <td>S</td>\n      <td>NaN</td>\n      <td>NaN</td>\n      <td>NaN</td>\n    </tr>\n    <tr>\n      <th>1300</th>\n      <td>3</td>\n      <td>1</td>\n      <td>Yasbeck, Mrs. Antoni (Selini Alexander)</td>\n      <td>female</td>\n      <td>15.0000</td>\n      <td>1</td>\n      <td>0</td>\n      <td>2659</td>\n      <td>14.4542</td>\n      <td>NaN</td>\n      <td>C</td>\n      <td>NaN</td>\n      <td>NaN</td>\n      <td>NaN</td>\n    </tr>\n  </tbody>\n</table>\n<p>500 rows × 14 columns</p>\n</div>"
     },
     "execution_count": 25,
     "metadata": {},
     "output_type": "execute_result"
    }
   ],
   "source": [
    "titanic[titanic['survived'] == 1]"
   ],
   "metadata": {
    "collapsed": false,
    "ExecuteTime": {
     "end_time": "2023-08-10T17:16:18.296268Z",
     "start_time": "2023-08-10T17:16:18.284556Z"
    }
   },
   "id": "216d4db8793c53ed"
  },
  {
   "cell_type": "markdown",
   "source": [
    "groupby: La función groupby() se utiliza para agrupar un DataFrame por uno o más valores. Los\n",
    "grupos se pueden usar para realizar operaciones estadísticas o para crear nuevos DataFrames. Por\n",
    "ejemplo, para agrupar un DataFrame por el valor de la columna pclass y calcular la media de la\n",
    "columna age, puede usar el siguiente código:"
   ],
   "metadata": {
    "collapsed": false
   },
   "id": "d31bd2ead57b4ad8"
  },
  {
   "cell_type": "code",
   "execution_count": 32,
   "outputs": [
    {
     "data": {
      "text/plain": "pclass\n1    36.833794\n2    24.858696\n3    21.545166\nName: age, dtype: float64"
     },
     "execution_count": 32,
     "metadata": {},
     "output_type": "execute_result"
    }
   ],
   "source": [
    "survived = titanic[titanic['survived'] == 1]\n",
    "survived.groupby('pclass')['age'].mean()"
   ],
   "metadata": {
    "collapsed": false,
    "ExecuteTime": {
     "end_time": "2023-08-10T17:20:08.557151Z",
     "start_time": "2023-08-10T17:20:08.528404Z"
    }
   },
   "id": "c9ba4089ccb08233"
  },
  {
   "cell_type": "markdown",
   "source": [
    "¿Cuál es la edad promedio de los pasajeros que sobrevivieron, agrupados por clase?"
   ],
   "metadata": {
    "collapsed": false
   },
   "id": "cb81c3ef6080a7c0"
  },
  {
   "cell_type": "markdown",
   "source": [
    "¿Cuál es la edad promedio de los pasajeros que murieron, agrupados por clase?"
   ],
   "metadata": {
    "collapsed": false
   },
   "id": "67a841277a8e37d"
  },
  {
   "cell_type": "code",
   "execution_count": 35,
   "outputs": [
    {
     "data": {
      "text/plain": "pclass\n1    43.247573\n2    33.167808\n3    25.974549\nName: age, dtype: float64"
     },
     "execution_count": 35,
     "metadata": {},
     "output_type": "execute_result"
    }
   ],
   "source": [
    "died = titanic[titanic['survived'] == 0]\n",
    "died.groupby('pclass')['age'].mean()"
   ],
   "metadata": {
    "collapsed": false,
    "ExecuteTime": {
     "end_time": "2023-08-10T17:21:07.378472Z",
     "start_time": "2023-08-10T17:21:07.341701Z"
    }
   },
   "id": "23940d6ff4180984"
  },
  {
   "cell_type": "markdown",
   "source": [
    "3.¿Cuál es la diferencia de edad promedio entre los pasajeros que sobrevivieron y los que\n",
    "murieron, agrupados por clase?"
   ],
   "metadata": {
    "collapsed": false
   },
   "id": "d829439a3483afc9"
  },
  {
   "cell_type": "code",
   "execution_count": 42,
   "outputs": [
    {
     "data": {
      "text/plain": "   pclass  survived\n0       1  0.619195\n1       2  0.429603\n2       3  0.255289",
      "text/html": "<div>\n<style scoped>\n    .dataframe tbody tr th:only-of-type {\n        vertical-align: middle;\n    }\n\n    .dataframe tbody tr th {\n        vertical-align: top;\n    }\n\n    .dataframe thead th {\n        text-align: right;\n    }\n</style>\n<table border=\"1\" class=\"dataframe\">\n  <thead>\n    <tr style=\"text-align: right;\">\n      <th></th>\n      <th>pclass</th>\n      <th>survived</th>\n    </tr>\n  </thead>\n  <tbody>\n    <tr>\n      <th>0</th>\n      <td>1</td>\n      <td>0.619195</td>\n    </tr>\n    <tr>\n      <th>1</th>\n      <td>2</td>\n      <td>0.429603</td>\n    </tr>\n    <tr>\n      <th>2</th>\n      <td>3</td>\n      <td>0.255289</td>\n    </tr>\n  </tbody>\n</table>\n</div>"
     },
     "execution_count": 42,
     "metadata": {},
     "output_type": "execute_result"
    }
   ],
   "source": [
    "titanic[['pclass', 'survived']].groupby(['pclass'], as_index=False).mean().sort_values(by='pclass', ascending=True)"
   ],
   "metadata": {
    "collapsed": false,
    "ExecuteTime": {
     "end_time": "2023-08-10T17:30:12.717009Z",
     "start_time": "2023-08-10T17:30:12.681810Z"
    }
   },
   "id": "50e69d57b9fcfdf"
  },
  {
   "cell_type": "code",
   "execution_count": 46,
   "outputs": [
    {
     "data": {
      "text/plain": "      sex  survived\n0  female  0.727468\n1    male  0.190985",
      "text/html": "<div>\n<style scoped>\n    .dataframe tbody tr th:only-of-type {\n        vertical-align: middle;\n    }\n\n    .dataframe tbody tr th {\n        vertical-align: top;\n    }\n\n    .dataframe thead th {\n        text-align: right;\n    }\n</style>\n<table border=\"1\" class=\"dataframe\">\n  <thead>\n    <tr style=\"text-align: right;\">\n      <th></th>\n      <th>sex</th>\n      <th>survived</th>\n    </tr>\n  </thead>\n  <tbody>\n    <tr>\n      <th>0</th>\n      <td>female</td>\n      <td>0.727468</td>\n    </tr>\n    <tr>\n      <th>1</th>\n      <td>male</td>\n      <td>0.190985</td>\n    </tr>\n  </tbody>\n</table>\n</div>"
     },
     "execution_count": 46,
     "metadata": {},
     "output_type": "execute_result"
    }
   ],
   "source": [
    "titanic[[\"sex\", \"survived\"]].groupby(['sex'], as_index=False).mean().sort_values(by='survived', ascending=False)"
   ],
   "metadata": {
    "collapsed": false,
    "ExecuteTime": {
     "end_time": "2023-08-10T17:36:25.623877Z",
     "start_time": "2023-08-10T17:36:25.584529Z"
    }
   },
   "id": "32cd4de7498de534"
  },
  {
   "cell_type": "code",
   "execution_count": null,
   "outputs": [],
   "source": [],
   "metadata": {
    "collapsed": false
   },
   "id": "1bac7f86623d48d8"
  },
  {
   "cell_type": "code",
   "execution_count": null,
   "outputs": [],
   "source": [],
   "metadata": {
    "collapsed": false
   },
   "id": "376cbbca924b8fc2"
  },
  {
   "cell_type": "code",
   "execution_count": null,
   "outputs": [],
   "source": [],
   "metadata": {
    "collapsed": false
   },
   "id": "25e62fe35cb6af9a"
  },
  {
   "cell_type": "code",
   "execution_count": null,
   "outputs": [],
   "source": [],
   "metadata": {
    "collapsed": false
   },
   "id": "71838ed2d2461552"
  },
  {
   "cell_type": "code",
   "execution_count": null,
   "outputs": [],
   "source": [],
   "metadata": {
    "collapsed": false
   },
   "id": "f04d8575a6a4af38"
  }
 ],
 "metadata": {
  "kernelspec": {
   "display_name": "Python 3",
   "language": "python",
   "name": "python3"
  },
  "language_info": {
   "codemirror_mode": {
    "name": "ipython",
    "version": 2
   },
   "file_extension": ".py",
   "mimetype": "text/x-python",
   "name": "python",
   "nbconvert_exporter": "python",
   "pygments_lexer": "ipython2",
   "version": "2.7.6"
  }
 },
 "nbformat": 4,
 "nbformat_minor": 5
}
