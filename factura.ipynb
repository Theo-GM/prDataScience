{
 "cells": [
  {
   "cell_type": "code",
   "execution_count": 2,
   "id": "be101090-f95e-4063-91c0-e02703cde82b",
   "metadata": {
    "tags": []
   },
   "outputs": [],
   "source": [
    "class InvoiceSystem:\n",
    "    def __init__(self):\n",
    "        self.invoices = {}\n",
    "\n",
    "    def register_invoice(self, customer_id, name, address, date_of_issue, amount):\n",
    "        invoice = {\n",
    "            'name': name,\n",
    "            'address': address,\n",
    "            'customer_id': customer_id,\n",
    "            'date_of_issue': date_of_issue,\n",
    "            'amount': amount,\n",
    "            'paid': False\n",
    "        }\n",
    "        self.invoices[customer_id] = invoice\n",
    "\n",
    "    def pay_invoice(self, customer_id):\n",
    "        invoice = self.invoices.get(customer_id)\n",
    "        if invoice:\n",
    "            invoice['paid'] = True\n",
    "            print(f\"Invoice for customer {customer_id} has been paid.\")\n",
    "        else:\n",
    "            print(f\"No invoice found for customer {customer_id}.\")\n",
    "\n",
    "    def get_unpaid_invoices_by_period(self, start_date, end_date):\n",
    "        unpaid_invoices = []\n",
    "        for invoice in self.invoices.values():\n",
    "            if not invoice['paid'] and start_date <= invoice['date_of_issue'] <= end_date:\n",
    "                unpaid_invoices.append(invoice)\n",
    "        return unpaid_invoices\n",
    "\n",
    "    def get_unpaid_invoices_by_customer(self, customer_id):\n",
    "        unpaid_invoices = []\n",
    "        for invoice in self.invoices.values():\n",
    "            if invoice['customer_id'] == customer_id and not invoice['paid']:\n",
    "                unpaid_invoices.append(invoice)\n",
    "        return unpaid_invoices\n"
   ]
  },
  {
   "cell_type": "code",
   "execution_count": 3,
   "id": "9b30b48f-5d06-4928-82da-8af1e4dca45b",
   "metadata": {
    "tags": []
   },
   "outputs": [],
   "source": [
    "# Example usage:\n",
    "invoice_system = InvoiceSystem()\n",
    "\n",
    "# Register invoices\n",
    "invoice_system.register_invoice(1, \"John Doe\", \"123 Main St\", \"2023-07-15\", 1000)\n",
    "invoice_system.register_invoice(2, \"Jane Smith\", \"456 Maple Ave\", \"2023-07-20\", 750)\n",
    "invoice_system.register_invoice(3, \"Bob Johnson\", \"789 Oak Rd\", \"2023-07-25\", 1200)"
   ]
  },
  {
   "cell_type": "code",
   "execution_count": 4,
   "id": "4c2b76cc-8b33-42ea-b7df-c50d55688571",
   "metadata": {
    "tags": []
   },
   "outputs": [
    {
     "name": "stdout",
     "output_type": "stream",
     "text": [
      "Invoice for customer 2 has been paid.\n"
     ]
    }
   ],
   "source": [
    "# Pay an invoice\n",
    "invoice_system.pay_invoice(2)"
   ]
  },
  {
   "cell_type": "code",
   "execution_count": 5,
   "id": "a2d14cf9-1610-46bf-9bc0-da412ed29ed0",
   "metadata": {
    "tags": []
   },
   "outputs": [
    {
     "name": "stdout",
     "output_type": "stream",
     "text": [
      "Unpaid invoices in July 2023:\n",
      "{'name': 'John Doe', 'address': '123 Main St', 'customer_id': 1, 'date_of_issue': '2023-07-15', 'amount': 1000, 'paid': False}\n",
      "{'name': 'Bob Johnson', 'address': '789 Oak Rd', 'customer_id': 3, 'date_of_issue': '2023-07-25', 'amount': 1200, 'paid': False}\n"
     ]
    }
   ],
   "source": [
    "# Get unpaid invoices by period\n",
    "unpaid_invoices_period = invoice_system.get_unpaid_invoices_by_period(\"2023-07-01\", \"2023-07-31\")\n",
    "print(\"Unpaid invoices in July 2023:\")\n",
    "for invoice in unpaid_invoices_period:\n",
    "    print(invoice)"
   ]
  },
  {
   "cell_type": "code",
   "execution_count": 6,
   "id": "ae4e6e48-150c-4ed8-babc-2b39c30f627e",
   "metadata": {
    "tags": []
   },
   "outputs": [
    {
     "name": "stdout",
     "output_type": "stream",
     "text": [
      "Unpaid invoices for customer 1:\n",
      "{'name': 'John Doe', 'address': '123 Main St', 'customer_id': 1, 'date_of_issue': '2023-07-15', 'amount': 1000, 'paid': False}\n"
     ]
    }
   ],
   "source": [
    "# Get unpaid invoices for a specific customer\n",
    "unpaid_invoices_customer = invoice_system.get_unpaid_invoices_by_customer(1)\n",
    "print(\"Unpaid invoices for customer 1:\")\n",
    "for invoice in unpaid_invoices_customer:\n",
    "    print(invoice)"
   ]
  },
  {
   "cell_type": "code",
   "execution_count": null,
   "id": "53c0bfff-3f48-4855-bcba-a17ded2b298e",
   "metadata": {},
   "outputs": [],
   "source": []
  },
  {
   "cell_type": "code",
   "execution_count": null,
   "id": "990ae02d-f674-455a-b685-baef6e32ebf9",
   "metadata": {},
   "outputs": [],
   "source": []
  }
 ],
 "metadata": {
  "kernelspec": {
   "display_name": "Python 3 (ipykernel)",
   "language": "python",
   "name": "python3"
  },
  "language_info": {
   "codemirror_mode": {
    "name": "ipython",
    "version": 3
   },
   "file_extension": ".py",
   "mimetype": "text/x-python",
   "name": "python",
   "nbconvert_exporter": "python",
   "pygments_lexer": "ipython3",
   "version": "3.11.3"
  }
 },
 "nbformat": 4,
 "nbformat_minor": 5
}
