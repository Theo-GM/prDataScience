{
 "cells": [
  {
   "cell_type": "markdown",
   "metadata": {},
   "source": [
    "## Python statistics essential training - 02_03_pandas"
   ]
  },
  {
   "cell_type": "markdown",
   "metadata": {},
   "source": [
    "Standard imports"
   ]
  },
  {
   "cell_type": "code",
   "execution_count": 5,
   "metadata": {
    "ExecuteTime": {
     "end_time": "2023-08-03T09:45:20.070829Z",
     "start_time": "2023-08-03T09:45:20.050501Z"
    }
   },
   "outputs": [],
   "source": [
    "import numpy as np\n",
    "import pandas as pd\n",
    "\n",
    "import matplotlib\n",
    "import matplotlib.pyplot as pp\n",
    "\n",
    "%matplotlib inline"
   ]
  },
  {
   "cell_type": "code",
   "execution_count": 61,
   "metadata": {
    "ExecuteTime": {
     "end_time": "2023-08-03T10:07:31.310080Z",
     "start_time": "2023-08-03T10:07:31.284989Z"
    }
   },
   "outputs": [],
   "source": [
    "planets = pd.read_csv('Planets.csv')"
   ]
  },
  {
   "cell_type": "code",
   "execution_count": 7,
   "metadata": {
    "ExecuteTime": {
     "end_time": "2023-08-03T09:45:25.580630Z",
     "start_time": "2023-08-03T09:45:25.499055Z"
    }
   },
   "outputs": [
    {
     "data": {
      "text/plain": "    Planet       Mass Diameter  DayLength  SunDistance OrbitPeriod  \\\n0  MERCURY     0.3300     4879     4222.6         57.9          88   \n1    VENUS     4.8700   12,104     2802.0        108.2       224.7   \n2    EARTH     5.9700   12,756       24.0        149.6       365.2   \n3     MOON     0.0730     3475      708.7          NaN        27.3   \n4     MARS     0.6420     6792       24.7        227.9         687   \n5  JUPITER  1898.0000  142,984        9.9        778.6        4331   \n6   SATURN   568.0000  120,536       10.7       1433.5      10,747   \n7   URANUS    86.8000   51,118       17.2       2872.5      30,589   \n8  NEPTUNE   102.0000   49,528       16.1       4495.1      59,800   \n9    PLUTO     0.0146     2370      153.3       5906.4      90,560   \n\n   OrbitVelocity  MeanTemperature  SurfacePressure  Moons Rings MagneticField  \\\n0           47.4              167          0.00000      0    No           Yes   \n1           35.0              464         92.00000      0    No            No   \n2           29.8               15          1.00000      1    No           Yes   \n3            1.0              -20          0.00000      0    No            No   \n4           24.1              -65          0.01000      2    No            No   \n5           13.1             -110              NaN     67   Yes           Yes   \n6            9.7             -140              NaN     62   Yes           Yes   \n7            6.8             -195              NaN     27   Yes           Yes   \n8            5.4             -200              NaN     14   Yes           Yes   \n9            4.7             -225          0.00001      5    No           NaN   \n\n  FirstVisited  FirstMission  \n0   1974-03-29    Mariner 10  \n1   1962-08-27     Mariner 2  \n2          NaN           NaN  \n3   1959-09-12        Luna 2  \n4   1965-07-15     Mariner 4  \n5   1973-12-04    Pioneer 10  \n6   1979-09-01    Pioneer 11  \n7   1986-01-24     Voyager 2  \n8   1989-08-25     Voyager 2  \n9   2015-07-14  New Horizons  ",
      "text/html": "<div>\n<style scoped>\n    .dataframe tbody tr th:only-of-type {\n        vertical-align: middle;\n    }\n\n    .dataframe tbody tr th {\n        vertical-align: top;\n    }\n\n    .dataframe thead th {\n        text-align: right;\n    }\n</style>\n<table border=\"1\" class=\"dataframe\">\n  <thead>\n    <tr style=\"text-align: right;\">\n      <th></th>\n      <th>Planet</th>\n      <th>Mass</th>\n      <th>Diameter</th>\n      <th>DayLength</th>\n      <th>SunDistance</th>\n      <th>OrbitPeriod</th>\n      <th>OrbitVelocity</th>\n      <th>MeanTemperature</th>\n      <th>SurfacePressure</th>\n      <th>Moons</th>\n      <th>Rings</th>\n      <th>MagneticField</th>\n      <th>FirstVisited</th>\n      <th>FirstMission</th>\n    </tr>\n  </thead>\n  <tbody>\n    <tr>\n      <th>0</th>\n      <td>MERCURY</td>\n      <td>0.3300</td>\n      <td>4879</td>\n      <td>4222.6</td>\n      <td>57.9</td>\n      <td>88</td>\n      <td>47.4</td>\n      <td>167</td>\n      <td>0.00000</td>\n      <td>0</td>\n      <td>No</td>\n      <td>Yes</td>\n      <td>1974-03-29</td>\n      <td>Mariner 10</td>\n    </tr>\n    <tr>\n      <th>1</th>\n      <td>VENUS</td>\n      <td>4.8700</td>\n      <td>12,104</td>\n      <td>2802.0</td>\n      <td>108.2</td>\n      <td>224.7</td>\n      <td>35.0</td>\n      <td>464</td>\n      <td>92.00000</td>\n      <td>0</td>\n      <td>No</td>\n      <td>No</td>\n      <td>1962-08-27</td>\n      <td>Mariner 2</td>\n    </tr>\n    <tr>\n      <th>2</th>\n      <td>EARTH</td>\n      <td>5.9700</td>\n      <td>12,756</td>\n      <td>24.0</td>\n      <td>149.6</td>\n      <td>365.2</td>\n      <td>29.8</td>\n      <td>15</td>\n      <td>1.00000</td>\n      <td>1</td>\n      <td>No</td>\n      <td>Yes</td>\n      <td>NaN</td>\n      <td>NaN</td>\n    </tr>\n    <tr>\n      <th>3</th>\n      <td>MOON</td>\n      <td>0.0730</td>\n      <td>3475</td>\n      <td>708.7</td>\n      <td>NaN</td>\n      <td>27.3</td>\n      <td>1.0</td>\n      <td>-20</td>\n      <td>0.00000</td>\n      <td>0</td>\n      <td>No</td>\n      <td>No</td>\n      <td>1959-09-12</td>\n      <td>Luna 2</td>\n    </tr>\n    <tr>\n      <th>4</th>\n      <td>MARS</td>\n      <td>0.6420</td>\n      <td>6792</td>\n      <td>24.7</td>\n      <td>227.9</td>\n      <td>687</td>\n      <td>24.1</td>\n      <td>-65</td>\n      <td>0.01000</td>\n      <td>2</td>\n      <td>No</td>\n      <td>No</td>\n      <td>1965-07-15</td>\n      <td>Mariner 4</td>\n    </tr>\n    <tr>\n      <th>5</th>\n      <td>JUPITER</td>\n      <td>1898.0000</td>\n      <td>142,984</td>\n      <td>9.9</td>\n      <td>778.6</td>\n      <td>4331</td>\n      <td>13.1</td>\n      <td>-110</td>\n      <td>NaN</td>\n      <td>67</td>\n      <td>Yes</td>\n      <td>Yes</td>\n      <td>1973-12-04</td>\n      <td>Pioneer 10</td>\n    </tr>\n    <tr>\n      <th>6</th>\n      <td>SATURN</td>\n      <td>568.0000</td>\n      <td>120,536</td>\n      <td>10.7</td>\n      <td>1433.5</td>\n      <td>10,747</td>\n      <td>9.7</td>\n      <td>-140</td>\n      <td>NaN</td>\n      <td>62</td>\n      <td>Yes</td>\n      <td>Yes</td>\n      <td>1979-09-01</td>\n      <td>Pioneer 11</td>\n    </tr>\n    <tr>\n      <th>7</th>\n      <td>URANUS</td>\n      <td>86.8000</td>\n      <td>51,118</td>\n      <td>17.2</td>\n      <td>2872.5</td>\n      <td>30,589</td>\n      <td>6.8</td>\n      <td>-195</td>\n      <td>NaN</td>\n      <td>27</td>\n      <td>Yes</td>\n      <td>Yes</td>\n      <td>1986-01-24</td>\n      <td>Voyager 2</td>\n    </tr>\n    <tr>\n      <th>8</th>\n      <td>NEPTUNE</td>\n      <td>102.0000</td>\n      <td>49,528</td>\n      <td>16.1</td>\n      <td>4495.1</td>\n      <td>59,800</td>\n      <td>5.4</td>\n      <td>-200</td>\n      <td>NaN</td>\n      <td>14</td>\n      <td>Yes</td>\n      <td>Yes</td>\n      <td>1989-08-25</td>\n      <td>Voyager 2</td>\n    </tr>\n    <tr>\n      <th>9</th>\n      <td>PLUTO</td>\n      <td>0.0146</td>\n      <td>2370</td>\n      <td>153.3</td>\n      <td>5906.4</td>\n      <td>90,560</td>\n      <td>4.7</td>\n      <td>-225</td>\n      <td>0.00001</td>\n      <td>5</td>\n      <td>No</td>\n      <td>NaN</td>\n      <td>2015-07-14</td>\n      <td>New Horizons</td>\n    </tr>\n  </tbody>\n</table>\n</div>"
     },
     "execution_count": 7,
     "metadata": {},
     "output_type": "execute_result"
    }
   ],
   "source": [
    "planets"
   ]
  },
  {
   "cell_type": "code",
   "execution_count": 67,
   "metadata": {
    "ExecuteTime": {
     "end_time": "2023-08-03T10:08:23.691842Z",
     "start_time": "2023-08-03T10:08:23.675918Z"
    }
   },
   "outputs": [],
   "source": [
    "planets = pd.read_csv('Planets.csv',usecols=[0,1,2,3,4])"
   ]
  },
  {
   "cell_type": "code",
   "execution_count": 12,
   "metadata": {
    "ExecuteTime": {
     "end_time": "2023-08-03T09:47:41.554390Z",
     "start_time": "2023-08-03T09:47:41.360992Z"
    }
   },
   "outputs": [
    {
     "name": "stdout",
     "output_type": "stream",
     "text": [
      "<class 'pandas.core.frame.DataFrame'>\n",
      "RangeIndex: 10 entries, 0 to 9\n",
      "Data columns (total 5 columns):\n",
      " #   Column         Non-Null Count  Dtype  \n",
      "---  ------         --------------  -----  \n",
      " 0   Planet         10 non-null     object \n",
      " 1   Mass           10 non-null     float64\n",
      " 2   Diameter       10 non-null     object \n",
      " 3   DayLength      10 non-null     float64\n",
      " 4   OrbitVelocity  10 non-null     float64\n",
      "dtypes: float64(3), object(2)\n",
      "memory usage: 532.0+ bytes\n"
     ]
    }
   ],
   "source": [
    "planets.info()"
   ]
  },
  {
   "cell_type": "code",
   "execution_count": 13,
   "outputs": [
    {
     "data": {
      "text/plain": "              Mass    DayLength  OrbitVelocity\ncount    10.000000    10.000000      10.000000\nmean    266.669960   798.920000      17.700000\nstd     599.249294  1484.233185      15.534549\nmin       0.014600     9.900000       1.000000\n25%       0.408000    16.375000       5.750000\n50%       5.420000    24.350000      11.400000\n75%      98.200000   569.850000      28.375000\nmax    1898.000000  4222.600000      47.400000",
      "text/html": "<div>\n<style scoped>\n    .dataframe tbody tr th:only-of-type {\n        vertical-align: middle;\n    }\n\n    .dataframe tbody tr th {\n        vertical-align: top;\n    }\n\n    .dataframe thead th {\n        text-align: right;\n    }\n</style>\n<table border=\"1\" class=\"dataframe\">\n  <thead>\n    <tr style=\"text-align: right;\">\n      <th></th>\n      <th>Mass</th>\n      <th>DayLength</th>\n      <th>OrbitVelocity</th>\n    </tr>\n  </thead>\n  <tbody>\n    <tr>\n      <th>count</th>\n      <td>10.000000</td>\n      <td>10.000000</td>\n      <td>10.000000</td>\n    </tr>\n    <tr>\n      <th>mean</th>\n      <td>266.669960</td>\n      <td>798.920000</td>\n      <td>17.700000</td>\n    </tr>\n    <tr>\n      <th>std</th>\n      <td>599.249294</td>\n      <td>1484.233185</td>\n      <td>15.534549</td>\n    </tr>\n    <tr>\n      <th>min</th>\n      <td>0.014600</td>\n      <td>9.900000</td>\n      <td>1.000000</td>\n    </tr>\n    <tr>\n      <th>25%</th>\n      <td>0.408000</td>\n      <td>16.375000</td>\n      <td>5.750000</td>\n    </tr>\n    <tr>\n      <th>50%</th>\n      <td>5.420000</td>\n      <td>24.350000</td>\n      <td>11.400000</td>\n    </tr>\n    <tr>\n      <th>75%</th>\n      <td>98.200000</td>\n      <td>569.850000</td>\n      <td>28.375000</td>\n    </tr>\n    <tr>\n      <th>max</th>\n      <td>1898.000000</td>\n      <td>4222.600000</td>\n      <td>47.400000</td>\n    </tr>\n  </tbody>\n</table>\n</div>"
     },
     "execution_count": 13,
     "metadata": {},
     "output_type": "execute_result"
    }
   ],
   "source": [
    "planets.describe()"
   ],
   "metadata": {
    "collapsed": false,
    "ExecuteTime": {
     "end_time": "2023-08-03T09:50:48.719973Z",
     "start_time": "2023-08-03T09:50:48.607490Z"
    }
   }
  },
  {
   "cell_type": "code",
   "execution_count": 14,
   "outputs": [
    {
     "data": {
      "text/plain": "Index(['Planet', 'Mass', 'Diameter', 'DayLength', 'OrbitVelocity'], dtype='object')"
     },
     "execution_count": 14,
     "metadata": {},
     "output_type": "execute_result"
    }
   ],
   "source": [
    "planets.columns"
   ],
   "metadata": {
    "collapsed": false,
    "ExecuteTime": {
     "end_time": "2023-08-03T09:51:41.374648Z",
     "start_time": "2023-08-03T09:51:41.335840Z"
    }
   }
  },
  {
   "cell_type": "code",
   "execution_count": 44,
   "metadata": {
    "ExecuteTime": {
     "end_time": "2023-08-03T10:03:33.272013Z",
     "start_time": "2023-08-03T10:03:33.258808Z"
    }
   },
   "outputs": [
    {
     "data": {
      "text/plain": "0       0.3300\n1       4.8700\n2       5.9700\n3       0.0730\n4       0.6420\n5    1898.0000\n6     568.0000\n7      86.8000\n8     102.0000\n9       0.0146\nName: Mass, dtype: float64"
     },
     "execution_count": 44,
     "metadata": {},
     "output_type": "execute_result"
    }
   ],
   "source": [
    "planets['Mass']\n",
    "# Same as planets.Mass"
   ]
  },
  {
   "cell_type": "code",
   "execution_count": 8,
   "metadata": {},
   "outputs": [
    {
     "data": {
      "text/plain": [
       "RangeIndex(start=0, stop=10, step=1)"
      ]
     },
     "execution_count": 8,
     "metadata": {},
     "output_type": "execute_result"
    }
   ],
   "source": [
    "planets.index"
   ]
  },
  {
   "cell_type": "code",
   "execution_count": 71,
   "metadata": {
    "ExecuteTime": {
     "end_time": "2023-08-03T10:11:15.347958Z",
     "start_time": "2023-08-03T10:11:15.319919Z"
    }
   },
   "outputs": [
    {
     "data": {
      "text/plain": "Planet         MERCURY\nMass              0.33\nDiameter          4879\nDayLength       4222.6\nSunDistance       57.9\nName: 0, dtype: object"
     },
     "execution_count": 71,
     "metadata": {},
     "output_type": "execute_result"
    }
   ],
   "source": [
    "planets.loc[0]"
   ]
  },
  {
   "cell_type": "code",
   "execution_count": 70,
   "outputs": [
    {
     "ename": "KeyError",
     "evalue": "'MERCURY'",
     "output_type": "error",
     "traceback": [
      "\u001B[0;31m---------------------------------------------------------------------------\u001B[0m",
      "\u001B[0;31mKeyError\u001B[0m                                  Traceback (most recent call last)",
      "Cell \u001B[0;32mIn[70], line 1\u001B[0m\n\u001B[0;32m----> 1\u001B[0m planets\u001B[38;5;241m.\u001B[39mloc[\u001B[38;5;124m'\u001B[39m\u001B[38;5;124mMERCURY\u001B[39m\u001B[38;5;124m'\u001B[39m]\n",
      "File \u001B[0;32m~/anaconda3/lib/python3.11/site-packages/pandas/core/indexing.py:1073\u001B[0m, in \u001B[0;36m_LocationIndexer.__getitem__\u001B[0;34m(self, key)\u001B[0m\n\u001B[1;32m   1070\u001B[0m axis \u001B[38;5;241m=\u001B[39m \u001B[38;5;28mself\u001B[39m\u001B[38;5;241m.\u001B[39maxis \u001B[38;5;129;01mor\u001B[39;00m \u001B[38;5;241m0\u001B[39m\n\u001B[1;32m   1072\u001B[0m maybe_callable \u001B[38;5;241m=\u001B[39m com\u001B[38;5;241m.\u001B[39mapply_if_callable(key, \u001B[38;5;28mself\u001B[39m\u001B[38;5;241m.\u001B[39mobj)\n\u001B[0;32m-> 1073\u001B[0m \u001B[38;5;28;01mreturn\u001B[39;00m \u001B[38;5;28mself\u001B[39m\u001B[38;5;241m.\u001B[39m_getitem_axis(maybe_callable, axis\u001B[38;5;241m=\u001B[39maxis)\n",
      "File \u001B[0;32m~/anaconda3/lib/python3.11/site-packages/pandas/core/indexing.py:1312\u001B[0m, in \u001B[0;36m_LocIndexer._getitem_axis\u001B[0;34m(self, key, axis)\u001B[0m\n\u001B[1;32m   1310\u001B[0m \u001B[38;5;66;03m# fall thru to straight lookup\u001B[39;00m\n\u001B[1;32m   1311\u001B[0m \u001B[38;5;28mself\u001B[39m\u001B[38;5;241m.\u001B[39m_validate_key(key, axis)\n\u001B[0;32m-> 1312\u001B[0m \u001B[38;5;28;01mreturn\u001B[39;00m \u001B[38;5;28mself\u001B[39m\u001B[38;5;241m.\u001B[39m_get_label(key, axis\u001B[38;5;241m=\u001B[39maxis)\n",
      "File \u001B[0;32m~/anaconda3/lib/python3.11/site-packages/pandas/core/indexing.py:1260\u001B[0m, in \u001B[0;36m_LocIndexer._get_label\u001B[0;34m(self, label, axis)\u001B[0m\n\u001B[1;32m   1258\u001B[0m \u001B[38;5;28;01mdef\u001B[39;00m \u001B[38;5;21m_get_label\u001B[39m(\u001B[38;5;28mself\u001B[39m, label, axis: \u001B[38;5;28mint\u001B[39m):\n\u001B[1;32m   1259\u001B[0m     \u001B[38;5;66;03m# GH#5567 this will fail if the label is not present in the axis.\u001B[39;00m\n\u001B[0;32m-> 1260\u001B[0m     \u001B[38;5;28;01mreturn\u001B[39;00m \u001B[38;5;28mself\u001B[39m\u001B[38;5;241m.\u001B[39mobj\u001B[38;5;241m.\u001B[39mxs(label, axis\u001B[38;5;241m=\u001B[39maxis)\n",
      "File \u001B[0;32m~/anaconda3/lib/python3.11/site-packages/pandas/core/generic.py:4056\u001B[0m, in \u001B[0;36mNDFrame.xs\u001B[0;34m(self, key, axis, level, drop_level)\u001B[0m\n\u001B[1;32m   4054\u001B[0m             new_index \u001B[38;5;241m=\u001B[39m index[loc]\n\u001B[1;32m   4055\u001B[0m \u001B[38;5;28;01melse\u001B[39;00m:\n\u001B[0;32m-> 4056\u001B[0m     loc \u001B[38;5;241m=\u001B[39m index\u001B[38;5;241m.\u001B[39mget_loc(key)\n\u001B[1;32m   4058\u001B[0m     \u001B[38;5;28;01mif\u001B[39;00m \u001B[38;5;28misinstance\u001B[39m(loc, np\u001B[38;5;241m.\u001B[39mndarray):\n\u001B[1;32m   4059\u001B[0m         \u001B[38;5;28;01mif\u001B[39;00m loc\u001B[38;5;241m.\u001B[39mdtype \u001B[38;5;241m==\u001B[39m np\u001B[38;5;241m.\u001B[39mbool_:\n",
      "File \u001B[0;32m~/anaconda3/lib/python3.11/site-packages/pandas/core/indexes/range.py:395\u001B[0m, in \u001B[0;36mRangeIndex.get_loc\u001B[0;34m(self, key, method, tolerance)\u001B[0m\n\u001B[1;32m    393\u001B[0m             \u001B[38;5;28;01mraise\u001B[39;00m \u001B[38;5;167;01mKeyError\u001B[39;00m(key) \u001B[38;5;28;01mfrom\u001B[39;00m \u001B[38;5;21;01merr\u001B[39;00m\n\u001B[1;32m    394\u001B[0m     \u001B[38;5;28mself\u001B[39m\u001B[38;5;241m.\u001B[39m_check_indexing_error(key)\n\u001B[0;32m--> 395\u001B[0m     \u001B[38;5;28;01mraise\u001B[39;00m \u001B[38;5;167;01mKeyError\u001B[39;00m(key)\n\u001B[1;32m    396\u001B[0m \u001B[38;5;28;01mreturn\u001B[39;00m \u001B[38;5;28msuper\u001B[39m()\u001B[38;5;241m.\u001B[39mget_loc(key, method\u001B[38;5;241m=\u001B[39mmethod, tolerance\u001B[38;5;241m=\u001B[39mtolerance)\n",
      "\u001B[0;31mKeyError\u001B[0m: 'MERCURY'"
     ]
    }
   ],
   "source": [
    "planets.loc['MERCURY']"
   ],
   "metadata": {
    "collapsed": false,
    "ExecuteTime": {
     "end_time": "2023-08-03T10:10:09.647972Z",
     "start_time": "2023-08-03T10:10:09.573605Z"
    }
   }
  },
  {
   "cell_type": "code",
   "execution_count": 66,
   "outputs": [
    {
     "data": {
      "text/plain": "Empty DataFrame\nColumns: [Planet, Mass, Diameter, DayLength, SunDistance]\nIndex: []",
      "text/html": "<div>\n<style scoped>\n    .dataframe tbody tr th:only-of-type {\n        vertical-align: middle;\n    }\n\n    .dataframe tbody tr th {\n        vertical-align: top;\n    }\n\n    .dataframe thead th {\n        text-align: right;\n    }\n</style>\n<table border=\"1\" class=\"dataframe\">\n  <thead>\n    <tr style=\"text-align: right;\">\n      <th></th>\n      <th>Planet</th>\n      <th>Mass</th>\n      <th>Diameter</th>\n      <th>DayLength</th>\n      <th>SunDistance</th>\n    </tr>\n  </thead>\n  <tbody>\n  </tbody>\n</table>\n</div>"
     },
     "execution_count": 66,
     "metadata": {},
     "output_type": "execute_result"
    }
   ],
   "source": [
    "planets.loc['MERCURY':'EARTH']"
   ],
   "metadata": {
    "collapsed": false,
    "ExecuteTime": {
     "end_time": "2023-08-03T10:07:56.705155Z",
     "start_time": "2023-08-03T10:07:56.680316Z"
    }
   }
  },
  {
   "cell_type": "code",
   "execution_count": 54,
   "metadata": {
    "ExecuteTime": {
     "end_time": "2023-08-03T10:05:24.371352Z",
     "start_time": "2023-08-03T10:05:24.344553Z"
    }
   },
   "outputs": [
    {
     "data": {
      "text/plain": "          DayLength  OrbitVelocity\nDiameter                          \n4879         4222.6           47.4\n12,104       2802.0           35.0\n12,756         24.0           29.8\n3475          708.7            1.0\n6792           24.7           24.1\n142,984         9.9           13.1\n120,536        10.7            9.7\n51,118         17.2            6.8\n49,528         16.1            5.4\n2370          153.3            4.7",
      "text/html": "<div>\n<style scoped>\n    .dataframe tbody tr th:only-of-type {\n        vertical-align: middle;\n    }\n\n    .dataframe tbody tr th {\n        vertical-align: top;\n    }\n\n    .dataframe thead th {\n        text-align: right;\n    }\n</style>\n<table border=\"1\" class=\"dataframe\">\n  <thead>\n    <tr style=\"text-align: right;\">\n      <th></th>\n      <th>DayLength</th>\n      <th>OrbitVelocity</th>\n    </tr>\n    <tr>\n      <th>Diameter</th>\n      <th></th>\n      <th></th>\n    </tr>\n  </thead>\n  <tbody>\n    <tr>\n      <th>4879</th>\n      <td>4222.6</td>\n      <td>47.4</td>\n    </tr>\n    <tr>\n      <th>12,104</th>\n      <td>2802.0</td>\n      <td>35.0</td>\n    </tr>\n    <tr>\n      <th>12,756</th>\n      <td>24.0</td>\n      <td>29.8</td>\n    </tr>\n    <tr>\n      <th>3475</th>\n      <td>708.7</td>\n      <td>1.0</td>\n    </tr>\n    <tr>\n      <th>6792</th>\n      <td>24.7</td>\n      <td>24.1</td>\n    </tr>\n    <tr>\n      <th>142,984</th>\n      <td>9.9</td>\n      <td>13.1</td>\n    </tr>\n    <tr>\n      <th>120,536</th>\n      <td>10.7</td>\n      <td>9.7</td>\n    </tr>\n    <tr>\n      <th>51,118</th>\n      <td>17.2</td>\n      <td>6.8</td>\n    </tr>\n    <tr>\n      <th>49,528</th>\n      <td>16.1</td>\n      <td>5.4</td>\n    </tr>\n    <tr>\n      <th>2370</th>\n      <td>153.3</td>\n      <td>4.7</td>\n    </tr>\n  </tbody>\n</table>\n</div>"
     },
     "execution_count": 54,
     "metadata": {},
     "output_type": "execute_result"
    }
   ],
   "source": [
    "# planets.set_index('Planet',inplace=True)\n",
    "planets.set_index(\"Planet\", inplace=True)\n",
    "planets"
   ]
  },
  {
   "cell_type": "code",
   "execution_count": 56,
   "metadata": {
    "ExecuteTime": {
     "end_time": "2023-08-03T10:05:47.195960Z",
     "start_time": "2023-08-03T10:05:47.178897Z"
    }
   },
   "outputs": [
    {
     "data": {
      "text/plain": "10"
     },
     "execution_count": 56,
     "metadata": {},
     "output_type": "execute_result"
    }
   ],
   "source": [
    "len(planets)"
   ]
  },
  {
   "cell_type": "code",
   "execution_count": 73,
   "metadata": {
    "ExecuteTime": {
     "end_time": "2023-08-03T10:12:39.182351Z",
     "start_time": "2023-08-03T10:12:39.164389Z"
    }
   },
   "outputs": [],
   "source": [
    "planets = pd.read_csv('Planets.csv')"
   ]
  },
  {
   "cell_type": "code",
   "execution_count": 74,
   "metadata": {
    "ExecuteTime": {
     "end_time": "2023-08-03T10:12:44.537704Z",
     "start_time": "2023-08-03T10:12:44.522640Z"
    }
   },
   "outputs": [],
   "source": [
    "planets.set_index('Planet',inplace=True)"
   ]
  },
  {
   "cell_type": "code",
   "execution_count": 77,
   "metadata": {
    "ExecuteTime": {
     "end_time": "2023-08-03T10:13:26.676895Z",
     "start_time": "2023-08-03T10:13:26.603208Z"
    }
   },
   "outputs": [
    {
     "data": {
      "text/plain": "'1974-03-29'"
     },
     "execution_count": 77,
     "metadata": {},
     "output_type": "execute_result"
    }
   ],
   "source": [
    "planets.FirstVisited['MERCURY']"
   ]
  },
  {
   "cell_type": "code",
   "execution_count": 79,
   "metadata": {
    "ExecuteTime": {
     "end_time": "2023-08-03T10:13:33.507830Z",
     "start_time": "2023-08-03T10:13:33.493395Z"
    }
   },
   "outputs": [
    {
     "data": {
      "text/plain": "'1974-03-29'"
     },
     "execution_count": 79,
     "metadata": {},
     "output_type": "execute_result"
    }
   ],
   "source": [
    "planets.loc['MERCURY'].FirstVisited"
   ]
  },
  {
   "cell_type": "code",
   "execution_count": 80,
   "metadata": {
    "ExecuteTime": {
     "end_time": "2023-08-03T10:13:36.466808Z",
     "start_time": "2023-08-03T10:13:36.450968Z"
    }
   },
   "outputs": [
    {
     "data": {
      "text/plain": "'1974-03-29'"
     },
     "execution_count": 80,
     "metadata": {},
     "output_type": "execute_result"
    }
   ],
   "source": [
    "planets.loc['MERCURY','FirstVisited']"
   ]
  },
  {
   "cell_type": "code",
   "execution_count": 82,
   "metadata": {
    "ExecuteTime": {
     "end_time": "2023-08-03T10:13:46.984139Z",
     "start_time": "2023-08-03T10:13:46.966179Z"
    }
   },
   "outputs": [
    {
     "data": {
      "text/plain": "str"
     },
     "execution_count": 82,
     "metadata": {},
     "output_type": "execute_result"
    }
   ],
   "source": [
    "type(planets.loc['MERCURY','FirstVisited'])"
   ]
  },
  {
   "cell_type": "code",
   "execution_count": 88,
   "metadata": {
    "ExecuteTime": {
     "end_time": "2023-08-03T10:15:05.417901Z",
     "start_time": "2023-08-03T10:15:05.411133Z"
    }
   },
   "outputs": [
    {
     "data": {
      "text/plain": "Planet\nMERCURY   1974-03-29\nVENUS     1962-08-27\nEARTH            NaT\nMOON      1959-09-12\nMARS      1965-07-15\nJUPITER   1973-12-04\nSATURN    1979-09-01\nURANUS    1986-01-24\nNEPTUNE   1989-08-25\nPLUTO     2015-07-14\nName: FirstVisited, dtype: datetime64[ns]"
     },
     "execution_count": 88,
     "metadata": {},
     "output_type": "execute_result"
    }
   ],
   "source": [
    "pd.to_datetime(planets.FirstVisited)\n",
    "# planets.FirstVisited"
   ]
  },
  {
   "cell_type": "code",
   "execution_count": 91,
   "metadata": {
    "ExecuteTime": {
     "end_time": "2023-08-03T10:15:37.847966Z",
     "start_time": "2023-08-03T10:15:37.809653Z"
    }
   },
   "outputs": [
    {
     "name": "stdout",
     "output_type": "stream",
     "text": [
      "<class 'pandas.core.frame.DataFrame'>\n",
      "Index: 10 entries, MERCURY to PLUTO\n",
      "Data columns (total 13 columns):\n",
      " #   Column           Non-Null Count  Dtype         \n",
      "---  ------           --------------  -----         \n",
      " 0   Mass             10 non-null     float64       \n",
      " 1   Diameter         10 non-null     object        \n",
      " 2   DayLength        10 non-null     float64       \n",
      " 3   SunDistance      9 non-null      float64       \n",
      " 4   OrbitPeriod      10 non-null     object        \n",
      " 5   OrbitVelocity    10 non-null     float64       \n",
      " 6   MeanTemperature  10 non-null     int64         \n",
      " 7   SurfacePressure  6 non-null      float64       \n",
      " 8   Moons            10 non-null     int64         \n",
      " 9   Rings            10 non-null     object        \n",
      " 10  MagneticField    9 non-null      object        \n",
      " 11  FirstVisited     9 non-null      datetime64[ns]\n",
      " 12  FirstMission     9 non-null      object        \n",
      "dtypes: datetime64[ns](1), float64(5), int64(2), object(5)\n",
      "memory usage: 1.4+ KB\n"
     ]
    }
   ],
   "source": [
    "planets.FirstVisited = pd.to_datetime(planets.FirstVisited)\n",
    "planets.info()\n",
    "# Elements stored in FirstVisited changed to Dtype datetime64[ns]"
   ]
  },
  {
   "cell_type": "code",
   "execution_count": 92,
   "metadata": {
    "ExecuteTime": {
     "end_time": "2023-08-03T10:17:24.982311Z",
     "start_time": "2023-08-03T10:17:24.940603Z"
    }
   },
   "outputs": [
    {
     "data": {
      "text/plain": "Planet\nMERCURY    1974.0\nVENUS      1962.0\nEARTH         NaN\nMOON       1959.0\nMARS       1965.0\nJUPITER    1973.0\nSATURN     1979.0\nURANUS     1986.0\nNEPTUNE    1989.0\nPLUTO      2015.0\nName: FirstVisited, dtype: float64"
     },
     "execution_count": 92,
     "metadata": {},
     "output_type": "execute_result"
    }
   ],
   "source": [
    "planets.FirstVisited.dt.year"
   ]
  },
  {
   "cell_type": "code",
   "execution_count": 93,
   "metadata": {
    "ExecuteTime": {
     "end_time": "2023-08-03T10:17:41.732891Z",
     "start_time": "2023-08-03T10:17:41.716704Z"
    }
   },
   "outputs": [
    {
     "data": {
      "text/plain": "Planet\nMERCURY    49.0\nVENUS      61.0\nEARTH       NaN\nMOON       64.0\nMARS       58.0\nJUPITER    50.0\nSATURN     44.0\nURANUS     37.0\nNEPTUNE    34.0\nPLUTO       8.0\nName: FirstVisited, dtype: float64"
     },
     "execution_count": 93,
     "metadata": {},
     "output_type": "execute_result"
    }
   ],
   "source": [
    "2023 - planets.FirstVisited.dt.year"
   ]
  },
  {
   "cell_type": "code",
   "execution_count": null,
   "metadata": {},
   "outputs": [],
   "source": []
  }
 ],
 "metadata": {
  "kernelspec": {
   "display_name": "Python 3",
   "language": "python",
   "name": "python3"
  },
  "language_info": {
   "codemirror_mode": {
    "name": "ipython",
    "version": 3
   },
   "file_extension": ".py",
   "mimetype": "text/x-python",
   "name": "python",
   "nbconvert_exporter": "python",
   "pygments_lexer": "ipython3",
   "version": "3.6.4"
  },
  "toc": {
   "base_numbering": 1,
   "nav_menu": {},
   "number_sections": true,
   "sideBar": true,
   "skip_h1_title": false,
   "title_cell": "Table of Contents",
   "title_sidebar": "Contents",
   "toc_cell": false,
   "toc_position": {},
   "toc_section_display": true,
   "toc_window_display": false
  }
 },
 "nbformat": 4,
 "nbformat_minor": 2
}
