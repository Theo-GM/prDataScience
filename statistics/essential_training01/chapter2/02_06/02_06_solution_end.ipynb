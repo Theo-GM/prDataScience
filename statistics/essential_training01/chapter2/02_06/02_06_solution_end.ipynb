{
 "cells": [
  {
   "cell_type": "markdown",
   "metadata": {},
   "source": [
    "## Python statistics essential training - 02_06_solution"
   ]
  },
  {
   "cell_type": "markdown",
   "metadata": {},
   "source": [
    "Standard imports"
   ]
  },
  {
   "cell_type": "code",
   "execution_count": 1,
   "metadata": {
    "ExecuteTime": {
     "end_time": "2023-08-03T13:48:58.786991Z",
     "start_time": "2023-08-03T13:48:56.666951Z"
    }
   },
   "outputs": [],
   "source": [
    "import numpy as np\n",
    "import pandas as pd\n",
    "\n",
    "import matplotlib\n",
    "import matplotlib.pyplot as pp\n",
    "\n",
    "%matplotlib inline"
   ]
  },
  {
   "cell_type": "code",
   "execution_count": 2,
   "metadata": {
    "ExecuteTime": {
     "end_time": "2023-08-03T13:49:02.612835Z",
     "start_time": "2023-08-03T13:49:02.553426Z"
    }
   },
   "outputs": [],
   "source": [
    "tb = pd.read_csv('tb.csv')"
   ]
  },
  {
   "cell_type": "code",
   "execution_count": 3,
   "metadata": {
    "ExecuteTime": {
     "end_time": "2023-08-03T13:49:05.473889Z",
     "start_time": "2023-08-03T13:49:05.453754Z"
    }
   },
   "outputs": [
    {
     "data": {
      "text/plain": "  country  year  m04  m514  m014  m1524  m2534  m3544  m4554  m5564  ...  f04  \\\n0      AD  1989  NaN   NaN   NaN    NaN    NaN    NaN    NaN    NaN  ...  NaN   \n1      AD  1990  NaN   NaN   NaN    NaN    NaN    NaN    NaN    NaN  ...  NaN   \n2      AD  1991  NaN   NaN   NaN    NaN    NaN    NaN    NaN    NaN  ...  NaN   \n3      AD  1992  NaN   NaN   NaN    NaN    NaN    NaN    NaN    NaN  ...  NaN   \n4      AD  1993  NaN   NaN   NaN    NaN    NaN    NaN    NaN    NaN  ...  NaN   \n\n   f514  f014  f1524  f2534  f3544  f4554  f5564  f65  fu  \n0   NaN   NaN    NaN    NaN    NaN    NaN    NaN  NaN NaN  \n1   NaN   NaN    NaN    NaN    NaN    NaN    NaN  NaN NaN  \n2   NaN   NaN    NaN    NaN    NaN    NaN    NaN  NaN NaN  \n3   NaN   NaN    NaN    NaN    NaN    NaN    NaN  NaN NaN  \n4   NaN   NaN    NaN    NaN    NaN    NaN    NaN  NaN NaN  \n\n[5 rows x 22 columns]",
      "text/html": "<div>\n<style scoped>\n    .dataframe tbody tr th:only-of-type {\n        vertical-align: middle;\n    }\n\n    .dataframe tbody tr th {\n        vertical-align: top;\n    }\n\n    .dataframe thead th {\n        text-align: right;\n    }\n</style>\n<table border=\"1\" class=\"dataframe\">\n  <thead>\n    <tr style=\"text-align: right;\">\n      <th></th>\n      <th>country</th>\n      <th>year</th>\n      <th>m04</th>\n      <th>m514</th>\n      <th>m014</th>\n      <th>m1524</th>\n      <th>m2534</th>\n      <th>m3544</th>\n      <th>m4554</th>\n      <th>m5564</th>\n      <th>...</th>\n      <th>f04</th>\n      <th>f514</th>\n      <th>f014</th>\n      <th>f1524</th>\n      <th>f2534</th>\n      <th>f3544</th>\n      <th>f4554</th>\n      <th>f5564</th>\n      <th>f65</th>\n      <th>fu</th>\n    </tr>\n  </thead>\n  <tbody>\n    <tr>\n      <th>0</th>\n      <td>AD</td>\n      <td>1989</td>\n      <td>NaN</td>\n      <td>NaN</td>\n      <td>NaN</td>\n      <td>NaN</td>\n      <td>NaN</td>\n      <td>NaN</td>\n      <td>NaN</td>\n      <td>NaN</td>\n      <td>...</td>\n      <td>NaN</td>\n      <td>NaN</td>\n      <td>NaN</td>\n      <td>NaN</td>\n      <td>NaN</td>\n      <td>NaN</td>\n      <td>NaN</td>\n      <td>NaN</td>\n      <td>NaN</td>\n      <td>NaN</td>\n    </tr>\n    <tr>\n      <th>1</th>\n      <td>AD</td>\n      <td>1990</td>\n      <td>NaN</td>\n      <td>NaN</td>\n      <td>NaN</td>\n      <td>NaN</td>\n      <td>NaN</td>\n      <td>NaN</td>\n      <td>NaN</td>\n      <td>NaN</td>\n      <td>...</td>\n      <td>NaN</td>\n      <td>NaN</td>\n      <td>NaN</td>\n      <td>NaN</td>\n      <td>NaN</td>\n      <td>NaN</td>\n      <td>NaN</td>\n      <td>NaN</td>\n      <td>NaN</td>\n      <td>NaN</td>\n    </tr>\n    <tr>\n      <th>2</th>\n      <td>AD</td>\n      <td>1991</td>\n      <td>NaN</td>\n      <td>NaN</td>\n      <td>NaN</td>\n      <td>NaN</td>\n      <td>NaN</td>\n      <td>NaN</td>\n      <td>NaN</td>\n      <td>NaN</td>\n      <td>...</td>\n      <td>NaN</td>\n      <td>NaN</td>\n      <td>NaN</td>\n      <td>NaN</td>\n      <td>NaN</td>\n      <td>NaN</td>\n      <td>NaN</td>\n      <td>NaN</td>\n      <td>NaN</td>\n      <td>NaN</td>\n    </tr>\n    <tr>\n      <th>3</th>\n      <td>AD</td>\n      <td>1992</td>\n      <td>NaN</td>\n      <td>NaN</td>\n      <td>NaN</td>\n      <td>NaN</td>\n      <td>NaN</td>\n      <td>NaN</td>\n      <td>NaN</td>\n      <td>NaN</td>\n      <td>...</td>\n      <td>NaN</td>\n      <td>NaN</td>\n      <td>NaN</td>\n      <td>NaN</td>\n      <td>NaN</td>\n      <td>NaN</td>\n      <td>NaN</td>\n      <td>NaN</td>\n      <td>NaN</td>\n      <td>NaN</td>\n    </tr>\n    <tr>\n      <th>4</th>\n      <td>AD</td>\n      <td>1993</td>\n      <td>NaN</td>\n      <td>NaN</td>\n      <td>NaN</td>\n      <td>NaN</td>\n      <td>NaN</td>\n      <td>NaN</td>\n      <td>NaN</td>\n      <td>NaN</td>\n      <td>...</td>\n      <td>NaN</td>\n      <td>NaN</td>\n      <td>NaN</td>\n      <td>NaN</td>\n      <td>NaN</td>\n      <td>NaN</td>\n      <td>NaN</td>\n      <td>NaN</td>\n      <td>NaN</td>\n      <td>NaN</td>\n    </tr>\n  </tbody>\n</table>\n<p>5 rows × 22 columns</p>\n</div>"
     },
     "execution_count": 3,
     "metadata": {},
     "output_type": "execute_result"
    }
   ],
   "source": [
    "tb.head()"
   ]
  },
  {
   "cell_type": "code",
   "execution_count": 4,
   "metadata": {
    "ExecuteTime": {
     "end_time": "2023-08-03T13:49:14.644795Z",
     "start_time": "2023-08-03T13:49:14.625281Z"
    }
   },
   "outputs": [
    {
     "data": {
      "text/plain": "Index(['country', 'year', 'm04', 'm514', 'm014', 'm1524', 'm2534', 'm3544',\n       'm4554', 'm5564', 'm65', 'mu', 'f04', 'f514', 'f014', 'f1524', 'f2534',\n       'f3544', 'f4554', 'f5564', 'f65', 'fu'],\n      dtype='object')"
     },
     "execution_count": 4,
     "metadata": {},
     "output_type": "execute_result"
    }
   ],
   "source": [
    "tb.columns"
   ]
  },
  {
   "cell_type": "code",
   "execution_count": 17,
   "outputs": [
    {
     "data": {
      "text/plain": "     country  year  m04   m514   m014  m1524   m2534   m3544   m4554  m5564  \\\n0         AD  1989  NaN    NaN    NaN    NaN     NaN     NaN     NaN    NaN   \n1         AD  1990  NaN    NaN    NaN    NaN     NaN     NaN     NaN    NaN   \n2         AD  1991  NaN    NaN    NaN    NaN     NaN     NaN     NaN    NaN   \n3         AD  1992  NaN    NaN    NaN    NaN     NaN     NaN     NaN    NaN   \n4         AD  1993  NaN    NaN    NaN    NaN     NaN     NaN     NaN    NaN   \n...      ...   ...  ...    ...    ...    ...     ...     ...     ...    ...   \n5764      ZW  2004  NaN    NaN  187.0  833.0  2908.0  2298.0  1056.0  366.0   \n5765      ZW  2005  NaN    NaN  210.0  837.0  2264.0  1855.0   762.0  295.0   \n5766      ZW  2006  NaN    NaN  215.0  736.0  2391.0  1939.0   896.0  348.0   \n5767      ZW  2007  6.0  132.0  138.0  500.0  3693.0     0.0   716.0  292.0   \n5768      ZW  2008  NaN    NaN  127.0  614.0     0.0  3316.0   704.0  263.0   \n\n      ...  f04   f514   f014   f1524   f2534   f3544  f4554  f5564    f65   fu  \n0     ...  NaN    NaN    NaN     NaN     NaN     NaN    NaN    NaN    NaN  NaN  \n1     ...  NaN    NaN    NaN     NaN     NaN     NaN    NaN    NaN    NaN  NaN  \n2     ...  NaN    NaN    NaN     NaN     NaN     NaN    NaN    NaN    NaN  NaN  \n3     ...  NaN    NaN    NaN     NaN     NaN     NaN    NaN    NaN    NaN  NaN  \n4     ...  NaN    NaN    NaN     NaN     NaN     NaN    NaN    NaN    NaN  NaN  \n...   ...  ...    ...    ...     ...     ...     ...    ...    ...    ...  ...  \n5764  ...  NaN    NaN  225.0  1140.0  2858.0  1565.0  622.0  214.0  111.0  NaN  \n5765  ...  NaN    NaN  269.0  1136.0  2242.0  1255.0  578.0  193.0  603.0  NaN  \n5766  ...  NaN    NaN  237.0  1020.0  2424.0  1355.0  632.0  230.0   96.0  NaN  \n5767  ...  7.0  178.0  185.0   739.0  3311.0     0.0  553.0  213.0   90.0  NaN  \n5768  ...  NaN    NaN  145.0   840.0     0.0  2890.0  467.0  174.0  105.0  0.0  \n\n[5769 rows x 22 columns]",
      "text/html": "<div>\n<style scoped>\n    .dataframe tbody tr th:only-of-type {\n        vertical-align: middle;\n    }\n\n    .dataframe tbody tr th {\n        vertical-align: top;\n    }\n\n    .dataframe thead th {\n        text-align: right;\n    }\n</style>\n<table border=\"1\" class=\"dataframe\">\n  <thead>\n    <tr style=\"text-align: right;\">\n      <th></th>\n      <th>country</th>\n      <th>year</th>\n      <th>m04</th>\n      <th>m514</th>\n      <th>m014</th>\n      <th>m1524</th>\n      <th>m2534</th>\n      <th>m3544</th>\n      <th>m4554</th>\n      <th>m5564</th>\n      <th>...</th>\n      <th>f04</th>\n      <th>f514</th>\n      <th>f014</th>\n      <th>f1524</th>\n      <th>f2534</th>\n      <th>f3544</th>\n      <th>f4554</th>\n      <th>f5564</th>\n      <th>f65</th>\n      <th>fu</th>\n    </tr>\n  </thead>\n  <tbody>\n    <tr>\n      <th>0</th>\n      <td>AD</td>\n      <td>1989</td>\n      <td>NaN</td>\n      <td>NaN</td>\n      <td>NaN</td>\n      <td>NaN</td>\n      <td>NaN</td>\n      <td>NaN</td>\n      <td>NaN</td>\n      <td>NaN</td>\n      <td>...</td>\n      <td>NaN</td>\n      <td>NaN</td>\n      <td>NaN</td>\n      <td>NaN</td>\n      <td>NaN</td>\n      <td>NaN</td>\n      <td>NaN</td>\n      <td>NaN</td>\n      <td>NaN</td>\n      <td>NaN</td>\n    </tr>\n    <tr>\n      <th>1</th>\n      <td>AD</td>\n      <td>1990</td>\n      <td>NaN</td>\n      <td>NaN</td>\n      <td>NaN</td>\n      <td>NaN</td>\n      <td>NaN</td>\n      <td>NaN</td>\n      <td>NaN</td>\n      <td>NaN</td>\n      <td>...</td>\n      <td>NaN</td>\n      <td>NaN</td>\n      <td>NaN</td>\n      <td>NaN</td>\n      <td>NaN</td>\n      <td>NaN</td>\n      <td>NaN</td>\n      <td>NaN</td>\n      <td>NaN</td>\n      <td>NaN</td>\n    </tr>\n    <tr>\n      <th>2</th>\n      <td>AD</td>\n      <td>1991</td>\n      <td>NaN</td>\n      <td>NaN</td>\n      <td>NaN</td>\n      <td>NaN</td>\n      <td>NaN</td>\n      <td>NaN</td>\n      <td>NaN</td>\n      <td>NaN</td>\n      <td>...</td>\n      <td>NaN</td>\n      <td>NaN</td>\n      <td>NaN</td>\n      <td>NaN</td>\n      <td>NaN</td>\n      <td>NaN</td>\n      <td>NaN</td>\n      <td>NaN</td>\n      <td>NaN</td>\n      <td>NaN</td>\n    </tr>\n    <tr>\n      <th>3</th>\n      <td>AD</td>\n      <td>1992</td>\n      <td>NaN</td>\n      <td>NaN</td>\n      <td>NaN</td>\n      <td>NaN</td>\n      <td>NaN</td>\n      <td>NaN</td>\n      <td>NaN</td>\n      <td>NaN</td>\n      <td>...</td>\n      <td>NaN</td>\n      <td>NaN</td>\n      <td>NaN</td>\n      <td>NaN</td>\n      <td>NaN</td>\n      <td>NaN</td>\n      <td>NaN</td>\n      <td>NaN</td>\n      <td>NaN</td>\n      <td>NaN</td>\n    </tr>\n    <tr>\n      <th>4</th>\n      <td>AD</td>\n      <td>1993</td>\n      <td>NaN</td>\n      <td>NaN</td>\n      <td>NaN</td>\n      <td>NaN</td>\n      <td>NaN</td>\n      <td>NaN</td>\n      <td>NaN</td>\n      <td>NaN</td>\n      <td>...</td>\n      <td>NaN</td>\n      <td>NaN</td>\n      <td>NaN</td>\n      <td>NaN</td>\n      <td>NaN</td>\n      <td>NaN</td>\n      <td>NaN</td>\n      <td>NaN</td>\n      <td>NaN</td>\n      <td>NaN</td>\n    </tr>\n    <tr>\n      <th>...</th>\n      <td>...</td>\n      <td>...</td>\n      <td>...</td>\n      <td>...</td>\n      <td>...</td>\n      <td>...</td>\n      <td>...</td>\n      <td>...</td>\n      <td>...</td>\n      <td>...</td>\n      <td>...</td>\n      <td>...</td>\n      <td>...</td>\n      <td>...</td>\n      <td>...</td>\n      <td>...</td>\n      <td>...</td>\n      <td>...</td>\n      <td>...</td>\n      <td>...</td>\n      <td>...</td>\n    </tr>\n    <tr>\n      <th>5764</th>\n      <td>ZW</td>\n      <td>2004</td>\n      <td>NaN</td>\n      <td>NaN</td>\n      <td>187.0</td>\n      <td>833.0</td>\n      <td>2908.0</td>\n      <td>2298.0</td>\n      <td>1056.0</td>\n      <td>366.0</td>\n      <td>...</td>\n      <td>NaN</td>\n      <td>NaN</td>\n      <td>225.0</td>\n      <td>1140.0</td>\n      <td>2858.0</td>\n      <td>1565.0</td>\n      <td>622.0</td>\n      <td>214.0</td>\n      <td>111.0</td>\n      <td>NaN</td>\n    </tr>\n    <tr>\n      <th>5765</th>\n      <td>ZW</td>\n      <td>2005</td>\n      <td>NaN</td>\n      <td>NaN</td>\n      <td>210.0</td>\n      <td>837.0</td>\n      <td>2264.0</td>\n      <td>1855.0</td>\n      <td>762.0</td>\n      <td>295.0</td>\n      <td>...</td>\n      <td>NaN</td>\n      <td>NaN</td>\n      <td>269.0</td>\n      <td>1136.0</td>\n      <td>2242.0</td>\n      <td>1255.0</td>\n      <td>578.0</td>\n      <td>193.0</td>\n      <td>603.0</td>\n      <td>NaN</td>\n    </tr>\n    <tr>\n      <th>5766</th>\n      <td>ZW</td>\n      <td>2006</td>\n      <td>NaN</td>\n      <td>NaN</td>\n      <td>215.0</td>\n      <td>736.0</td>\n      <td>2391.0</td>\n      <td>1939.0</td>\n      <td>896.0</td>\n      <td>348.0</td>\n      <td>...</td>\n      <td>NaN</td>\n      <td>NaN</td>\n      <td>237.0</td>\n      <td>1020.0</td>\n      <td>2424.0</td>\n      <td>1355.0</td>\n      <td>632.0</td>\n      <td>230.0</td>\n      <td>96.0</td>\n      <td>NaN</td>\n    </tr>\n    <tr>\n      <th>5767</th>\n      <td>ZW</td>\n      <td>2007</td>\n      <td>6.0</td>\n      <td>132.0</td>\n      <td>138.0</td>\n      <td>500.0</td>\n      <td>3693.0</td>\n      <td>0.0</td>\n      <td>716.0</td>\n      <td>292.0</td>\n      <td>...</td>\n      <td>7.0</td>\n      <td>178.0</td>\n      <td>185.0</td>\n      <td>739.0</td>\n      <td>3311.0</td>\n      <td>0.0</td>\n      <td>553.0</td>\n      <td>213.0</td>\n      <td>90.0</td>\n      <td>NaN</td>\n    </tr>\n    <tr>\n      <th>5768</th>\n      <td>ZW</td>\n      <td>2008</td>\n      <td>NaN</td>\n      <td>NaN</td>\n      <td>127.0</td>\n      <td>614.0</td>\n      <td>0.0</td>\n      <td>3316.0</td>\n      <td>704.0</td>\n      <td>263.0</td>\n      <td>...</td>\n      <td>NaN</td>\n      <td>NaN</td>\n      <td>145.0</td>\n      <td>840.0</td>\n      <td>0.0</td>\n      <td>2890.0</td>\n      <td>467.0</td>\n      <td>174.0</td>\n      <td>105.0</td>\n      <td>0.0</td>\n    </tr>\n  </tbody>\n</table>\n<p>5769 rows × 22 columns</p>\n</div>"
     },
     "execution_count": 17,
     "metadata": {},
     "output_type": "execute_result"
    }
   ],
   "source": [
    "tb"
   ],
   "metadata": {
    "collapsed": false,
    "ExecuteTime": {
     "end_time": "2023-08-03T13:54:12.445237Z",
     "start_time": "2023-08-03T13:54:12.372253Z"
    }
   }
  },
  {
   "cell_type": "code",
   "execution_count": 18,
   "metadata": {
    "ExecuteTime": {
     "end_time": "2023-08-03T13:54:42.208480Z",
     "start_time": "2023-08-03T13:54:42.150598Z"
    }
   },
   "outputs": [
    {
     "data": {
      "text/plain": "       country  year sexage  cases\n0           AD  1989    m04    NaN\n1           AD  1990    m04    NaN\n2           AD  1991    m04    NaN\n3           AD  1992    m04    NaN\n4           AD  1993    m04    NaN\n...        ...   ...    ...    ...\n115375      ZW  2004     fu    NaN\n115376      ZW  2005     fu    NaN\n115377      ZW  2006     fu    NaN\n115378      ZW  2007     fu    NaN\n115379      ZW  2008     fu    0.0\n\n[115380 rows x 4 columns]",
      "text/html": "<div>\n<style scoped>\n    .dataframe tbody tr th:only-of-type {\n        vertical-align: middle;\n    }\n\n    .dataframe tbody tr th {\n        vertical-align: top;\n    }\n\n    .dataframe thead th {\n        text-align: right;\n    }\n</style>\n<table border=\"1\" class=\"dataframe\">\n  <thead>\n    <tr style=\"text-align: right;\">\n      <th></th>\n      <th>country</th>\n      <th>year</th>\n      <th>sexage</th>\n      <th>cases</th>\n    </tr>\n  </thead>\n  <tbody>\n    <tr>\n      <th>0</th>\n      <td>AD</td>\n      <td>1989</td>\n      <td>m04</td>\n      <td>NaN</td>\n    </tr>\n    <tr>\n      <th>1</th>\n      <td>AD</td>\n      <td>1990</td>\n      <td>m04</td>\n      <td>NaN</td>\n    </tr>\n    <tr>\n      <th>2</th>\n      <td>AD</td>\n      <td>1991</td>\n      <td>m04</td>\n      <td>NaN</td>\n    </tr>\n    <tr>\n      <th>3</th>\n      <td>AD</td>\n      <td>1992</td>\n      <td>m04</td>\n      <td>NaN</td>\n    </tr>\n    <tr>\n      <th>4</th>\n      <td>AD</td>\n      <td>1993</td>\n      <td>m04</td>\n      <td>NaN</td>\n    </tr>\n    <tr>\n      <th>...</th>\n      <td>...</td>\n      <td>...</td>\n      <td>...</td>\n      <td>...</td>\n    </tr>\n    <tr>\n      <th>115375</th>\n      <td>ZW</td>\n      <td>2004</td>\n      <td>fu</td>\n      <td>NaN</td>\n    </tr>\n    <tr>\n      <th>115376</th>\n      <td>ZW</td>\n      <td>2005</td>\n      <td>fu</td>\n      <td>NaN</td>\n    </tr>\n    <tr>\n      <th>115377</th>\n      <td>ZW</td>\n      <td>2006</td>\n      <td>fu</td>\n      <td>NaN</td>\n    </tr>\n    <tr>\n      <th>115378</th>\n      <td>ZW</td>\n      <td>2007</td>\n      <td>fu</td>\n      <td>NaN</td>\n    </tr>\n    <tr>\n      <th>115379</th>\n      <td>ZW</td>\n      <td>2008</td>\n      <td>fu</td>\n      <td>0.0</td>\n    </tr>\n  </tbody>\n</table>\n<p>115380 rows × 4 columns</p>\n</div>"
     },
     "execution_count": 18,
     "metadata": {},
     "output_type": "execute_result"
    }
   ],
   "source": [
    "melted = tb.melt(['country','year'],['m04', 'm514', 'm014', 'm1524', 'm2534', 'm3544',\n",
    "       'm4554', 'm5564', 'm65', 'mu', 'f04', 'f514', 'f014', 'f1524', 'f2534',\n",
    "       'f3544', 'f4554', 'f5564', 'f65', 'fu'],'sexage','cases')\n",
    "melted"
   ]
  },
  {
   "cell_type": "code",
   "execution_count": 20,
   "metadata": {
    "ExecuteTime": {
     "end_time": "2023-08-03T13:56:11.267798Z",
     "start_time": "2023-08-03T13:56:11.185949Z"
    }
   },
   "outputs": [
    {
     "data": {
      "text/plain": "       country  year sexage  cases sex age\n0           AD  1989    m04    NaN   m  04\n1           AD  1990    m04    NaN   m  04\n2           AD  1991    m04    NaN   m  04\n3           AD  1992    m04    NaN   m  04\n4           AD  1993    m04    NaN   m  04\n...        ...   ...    ...    ...  ..  ..\n115375      ZW  2004     fu    NaN   f   u\n115376      ZW  2005     fu    NaN   f   u\n115377      ZW  2006     fu    NaN   f   u\n115378      ZW  2007     fu    NaN   f   u\n115379      ZW  2008     fu    0.0   f   u\n\n[115380 rows x 6 columns]",
      "text/html": "<div>\n<style scoped>\n    .dataframe tbody tr th:only-of-type {\n        vertical-align: middle;\n    }\n\n    .dataframe tbody tr th {\n        vertical-align: top;\n    }\n\n    .dataframe thead th {\n        text-align: right;\n    }\n</style>\n<table border=\"1\" class=\"dataframe\">\n  <thead>\n    <tr style=\"text-align: right;\">\n      <th></th>\n      <th>country</th>\n      <th>year</th>\n      <th>sexage</th>\n      <th>cases</th>\n      <th>sex</th>\n      <th>age</th>\n    </tr>\n  </thead>\n  <tbody>\n    <tr>\n      <th>0</th>\n      <td>AD</td>\n      <td>1989</td>\n      <td>m04</td>\n      <td>NaN</td>\n      <td>m</td>\n      <td>04</td>\n    </tr>\n    <tr>\n      <th>1</th>\n      <td>AD</td>\n      <td>1990</td>\n      <td>m04</td>\n      <td>NaN</td>\n      <td>m</td>\n      <td>04</td>\n    </tr>\n    <tr>\n      <th>2</th>\n      <td>AD</td>\n      <td>1991</td>\n      <td>m04</td>\n      <td>NaN</td>\n      <td>m</td>\n      <td>04</td>\n    </tr>\n    <tr>\n      <th>3</th>\n      <td>AD</td>\n      <td>1992</td>\n      <td>m04</td>\n      <td>NaN</td>\n      <td>m</td>\n      <td>04</td>\n    </tr>\n    <tr>\n      <th>4</th>\n      <td>AD</td>\n      <td>1993</td>\n      <td>m04</td>\n      <td>NaN</td>\n      <td>m</td>\n      <td>04</td>\n    </tr>\n    <tr>\n      <th>...</th>\n      <td>...</td>\n      <td>...</td>\n      <td>...</td>\n      <td>...</td>\n      <td>...</td>\n      <td>...</td>\n    </tr>\n    <tr>\n      <th>115375</th>\n      <td>ZW</td>\n      <td>2004</td>\n      <td>fu</td>\n      <td>NaN</td>\n      <td>f</td>\n      <td>u</td>\n    </tr>\n    <tr>\n      <th>115376</th>\n      <td>ZW</td>\n      <td>2005</td>\n      <td>fu</td>\n      <td>NaN</td>\n      <td>f</td>\n      <td>u</td>\n    </tr>\n    <tr>\n      <th>115377</th>\n      <td>ZW</td>\n      <td>2006</td>\n      <td>fu</td>\n      <td>NaN</td>\n      <td>f</td>\n      <td>u</td>\n    </tr>\n    <tr>\n      <th>115378</th>\n      <td>ZW</td>\n      <td>2007</td>\n      <td>fu</td>\n      <td>NaN</td>\n      <td>f</td>\n      <td>u</td>\n    </tr>\n    <tr>\n      <th>115379</th>\n      <td>ZW</td>\n      <td>2008</td>\n      <td>fu</td>\n      <td>0.0</td>\n      <td>f</td>\n      <td>u</td>\n    </tr>\n  </tbody>\n</table>\n<p>115380 rows × 6 columns</p>\n</div>"
     },
     "execution_count": 20,
     "metadata": {},
     "output_type": "execute_result"
    }
   ],
   "source": [
    "melted['sex'] = melted['sexage'].str.slice(0,1)\n",
    "melted['age'] = melted['sexage'].str.slice(1)\n",
    "melted"
   ]
  },
  {
   "cell_type": "code",
   "execution_count": 22,
   "metadata": {
    "ExecuteTime": {
     "end_time": "2023-08-03T13:56:41.072177Z",
     "start_time": "2023-08-03T13:56:41.038763Z"
    }
   },
   "outputs": [
    {
     "data": {
      "text/plain": "       country  year sexage  cases sex  age\n0           AD  1989    m04    NaN   m  NaN\n1           AD  1990    m04    NaN   m  NaN\n2           AD  1991    m04    NaN   m  NaN\n3           AD  1992    m04    NaN   m  NaN\n4           AD  1993    m04    NaN   m  NaN\n...        ...   ...    ...    ...  ..  ...\n115375      ZW  2004     fu    NaN   f  NaN\n115376      ZW  2005     fu    NaN   f  NaN\n115377      ZW  2006     fu    NaN   f  NaN\n115378      ZW  2007     fu    NaN   f  NaN\n115379      ZW  2008     fu    0.0   f  NaN\n\n[115380 rows x 6 columns]",
      "text/html": "<div>\n<style scoped>\n    .dataframe tbody tr th:only-of-type {\n        vertical-align: middle;\n    }\n\n    .dataframe tbody tr th {\n        vertical-align: top;\n    }\n\n    .dataframe thead th {\n        text-align: right;\n    }\n</style>\n<table border=\"1\" class=\"dataframe\">\n  <thead>\n    <tr style=\"text-align: right;\">\n      <th></th>\n      <th>country</th>\n      <th>year</th>\n      <th>sexage</th>\n      <th>cases</th>\n      <th>sex</th>\n      <th>age</th>\n    </tr>\n  </thead>\n  <tbody>\n    <tr>\n      <th>0</th>\n      <td>AD</td>\n      <td>1989</td>\n      <td>m04</td>\n      <td>NaN</td>\n      <td>m</td>\n      <td>NaN</td>\n    </tr>\n    <tr>\n      <th>1</th>\n      <td>AD</td>\n      <td>1990</td>\n      <td>m04</td>\n      <td>NaN</td>\n      <td>m</td>\n      <td>NaN</td>\n    </tr>\n    <tr>\n      <th>2</th>\n      <td>AD</td>\n      <td>1991</td>\n      <td>m04</td>\n      <td>NaN</td>\n      <td>m</td>\n      <td>NaN</td>\n    </tr>\n    <tr>\n      <th>3</th>\n      <td>AD</td>\n      <td>1992</td>\n      <td>m04</td>\n      <td>NaN</td>\n      <td>m</td>\n      <td>NaN</td>\n    </tr>\n    <tr>\n      <th>4</th>\n      <td>AD</td>\n      <td>1993</td>\n      <td>m04</td>\n      <td>NaN</td>\n      <td>m</td>\n      <td>NaN</td>\n    </tr>\n    <tr>\n      <th>...</th>\n      <td>...</td>\n      <td>...</td>\n      <td>...</td>\n      <td>...</td>\n      <td>...</td>\n      <td>...</td>\n    </tr>\n    <tr>\n      <th>115375</th>\n      <td>ZW</td>\n      <td>2004</td>\n      <td>fu</td>\n      <td>NaN</td>\n      <td>f</td>\n      <td>NaN</td>\n    </tr>\n    <tr>\n      <th>115376</th>\n      <td>ZW</td>\n      <td>2005</td>\n      <td>fu</td>\n      <td>NaN</td>\n      <td>f</td>\n      <td>NaN</td>\n    </tr>\n    <tr>\n      <th>115377</th>\n      <td>ZW</td>\n      <td>2006</td>\n      <td>fu</td>\n      <td>NaN</td>\n      <td>f</td>\n      <td>NaN</td>\n    </tr>\n    <tr>\n      <th>115378</th>\n      <td>ZW</td>\n      <td>2007</td>\n      <td>fu</td>\n      <td>NaN</td>\n      <td>f</td>\n      <td>NaN</td>\n    </tr>\n    <tr>\n      <th>115379</th>\n      <td>ZW</td>\n      <td>2008</td>\n      <td>fu</td>\n      <td>0.0</td>\n      <td>f</td>\n      <td>NaN</td>\n    </tr>\n  </tbody>\n</table>\n<p>115380 rows × 6 columns</p>\n</div>"
     },
     "execution_count": 22,
     "metadata": {},
     "output_type": "execute_result"
    }
   ],
   "source": [
    "melted['age'] = melted['age'].map({'04': '0-4', '514': '5-14', '1524': '15-24', '2534': '25-34', '3544': '35-44',\n",
    "                                   '4554': '45-54', '5564': '55-64', '65': '65+', 'u': np.nan})\n",
    "melted"
   ]
  },
  {
   "cell_type": "code",
   "execution_count": 24,
   "metadata": {
    "ExecuteTime": {
     "end_time": "2023-08-03T13:57:02.477762Z",
     "start_time": "2023-08-03T13:57:02.452962Z"
    }
   },
   "outputs": [
    {
     "data": {
      "text/plain": "0         NaN\n1         NaN\n2         NaN\n3         NaN\n4         NaN\n         ... \n115375    NaN\n115376    NaN\n115377    NaN\n115378    NaN\n115379    NaN\nName: age, Length: 115380, dtype: object"
     },
     "execution_count": 24,
     "metadata": {},
     "output_type": "execute_result"
    }
   ],
   "source": [
    "melted['age']"
   ]
  },
  {
   "cell_type": "code",
   "execution_count": 25,
   "metadata": {
    "ExecuteTime": {
     "end_time": "2023-08-03T13:57:12.657788Z",
     "start_time": "2023-08-03T13:57:12.608218Z"
    }
   },
   "outputs": [
    {
     "data": {
      "text/plain": "   country  year sexage  cases sex  age\n15      AD  2005    m04    0.0   m  NaN\n16      AD  2006    m04    0.0   m  NaN\n18      AD  2008    m04    0.0   m  NaN\n42      AE  2006    m04    0.0   m  NaN\n43      AE  2007    m04    0.0   m  NaN",
      "text/html": "<div>\n<style scoped>\n    .dataframe tbody tr th:only-of-type {\n        vertical-align: middle;\n    }\n\n    .dataframe tbody tr th {\n        vertical-align: top;\n    }\n\n    .dataframe thead th {\n        text-align: right;\n    }\n</style>\n<table border=\"1\" class=\"dataframe\">\n  <thead>\n    <tr style=\"text-align: right;\">\n      <th></th>\n      <th>country</th>\n      <th>year</th>\n      <th>sexage</th>\n      <th>cases</th>\n      <th>sex</th>\n      <th>age</th>\n    </tr>\n  </thead>\n  <tbody>\n    <tr>\n      <th>15</th>\n      <td>AD</td>\n      <td>2005</td>\n      <td>m04</td>\n      <td>0.0</td>\n      <td>m</td>\n      <td>NaN</td>\n    </tr>\n    <tr>\n      <th>16</th>\n      <td>AD</td>\n      <td>2006</td>\n      <td>m04</td>\n      <td>0.0</td>\n      <td>m</td>\n      <td>NaN</td>\n    </tr>\n    <tr>\n      <th>18</th>\n      <td>AD</td>\n      <td>2008</td>\n      <td>m04</td>\n      <td>0.0</td>\n      <td>m</td>\n      <td>NaN</td>\n    </tr>\n    <tr>\n      <th>42</th>\n      <td>AE</td>\n      <td>2006</td>\n      <td>m04</td>\n      <td>0.0</td>\n      <td>m</td>\n      <td>NaN</td>\n    </tr>\n    <tr>\n      <th>43</th>\n      <td>AE</td>\n      <td>2007</td>\n      <td>m04</td>\n      <td>0.0</td>\n      <td>m</td>\n      <td>NaN</td>\n    </tr>\n  </tbody>\n</table>\n</div>"
     },
     "execution_count": 25,
     "metadata": {},
     "output_type": "execute_result"
    }
   ],
   "source": [
    "final = melted.dropna(subset=['cases'])\n",
    "final.head()"
   ]
  },
  {
   "cell_type": "code",
   "execution_count": 26,
   "metadata": {
    "ExecuteTime": {
     "end_time": "2023-08-03T13:57:28.215276Z",
     "start_time": "2023-08-03T13:57:28.133698Z"
    }
   },
   "outputs": [
    {
     "data": {
      "text/plain": "   country  year sexage  cases sex  age\n15      AD  2005    m04    0.0   m  NaN\n16      AD  2006    m04    0.0   m  NaN\n18      AD  2008    m04    0.0   m  NaN\n42      AE  2006    m04    0.0   m  NaN\n43      AE  2007    m04    0.0   m  NaN",
      "text/html": "<div>\n<style scoped>\n    .dataframe tbody tr th:only-of-type {\n        vertical-align: middle;\n    }\n\n    .dataframe tbody tr th {\n        vertical-align: top;\n    }\n\n    .dataframe thead th {\n        text-align: right;\n    }\n</style>\n<table border=\"1\" class=\"dataframe\">\n  <thead>\n    <tr style=\"text-align: right;\">\n      <th></th>\n      <th>country</th>\n      <th>year</th>\n      <th>sexage</th>\n      <th>cases</th>\n      <th>sex</th>\n      <th>age</th>\n    </tr>\n  </thead>\n  <tbody>\n    <tr>\n      <th>15</th>\n      <td>AD</td>\n      <td>2005</td>\n      <td>m04</td>\n      <td>0.0</td>\n      <td>m</td>\n      <td>NaN</td>\n    </tr>\n    <tr>\n      <th>16</th>\n      <td>AD</td>\n      <td>2006</td>\n      <td>m04</td>\n      <td>0.0</td>\n      <td>m</td>\n      <td>NaN</td>\n    </tr>\n    <tr>\n      <th>18</th>\n      <td>AD</td>\n      <td>2008</td>\n      <td>m04</td>\n      <td>0.0</td>\n      <td>m</td>\n      <td>NaN</td>\n    </tr>\n    <tr>\n      <th>42</th>\n      <td>AE</td>\n      <td>2006</td>\n      <td>m04</td>\n      <td>0.0</td>\n      <td>m</td>\n      <td>NaN</td>\n    </tr>\n    <tr>\n      <th>43</th>\n      <td>AE</td>\n      <td>2007</td>\n      <td>m04</td>\n      <td>0.0</td>\n      <td>m</td>\n      <td>NaN</td>\n    </tr>\n  </tbody>\n</table>\n</div>"
     },
     "execution_count": 26,
     "metadata": {},
     "output_type": "execute_result"
    }
   ],
   "source": [
    "final.sort_values(['country','year','age','sex'])\n",
    "final.head()"
   ]
  },
  {
   "cell_type": "code",
   "execution_count": 27,
   "metadata": {
    "ExecuteTime": {
     "end_time": "2023-08-03T13:57:48.038723Z",
     "start_time": "2023-08-03T13:57:48.017047Z"
    }
   },
   "outputs": [
    {
     "data": {
      "text/plain": "    country  year  age sex  cases\n15       AD  2005  NaN   m    0.0\n16       AD  2006  NaN   m    0.0\n18       AD  2008  NaN   m    0.0\n42       AE  2006  NaN   m    0.0\n43       AE  2007  NaN   m    0.0\n44       AE  2008  NaN   m    0.0\n94       AG  2007  NaN   m    0.0\n141      AL  2005  NaN   m    0.0\n142      AL  2006  NaN   m    1.0\n143      AL  2007  NaN   m    0.0",
      "text/html": "<div>\n<style scoped>\n    .dataframe tbody tr th:only-of-type {\n        vertical-align: middle;\n    }\n\n    .dataframe tbody tr th {\n        vertical-align: top;\n    }\n\n    .dataframe thead th {\n        text-align: right;\n    }\n</style>\n<table border=\"1\" class=\"dataframe\">\n  <thead>\n    <tr style=\"text-align: right;\">\n      <th></th>\n      <th>country</th>\n      <th>year</th>\n      <th>age</th>\n      <th>sex</th>\n      <th>cases</th>\n    </tr>\n  </thead>\n  <tbody>\n    <tr>\n      <th>15</th>\n      <td>AD</td>\n      <td>2005</td>\n      <td>NaN</td>\n      <td>m</td>\n      <td>0.0</td>\n    </tr>\n    <tr>\n      <th>16</th>\n      <td>AD</td>\n      <td>2006</td>\n      <td>NaN</td>\n      <td>m</td>\n      <td>0.0</td>\n    </tr>\n    <tr>\n      <th>18</th>\n      <td>AD</td>\n      <td>2008</td>\n      <td>NaN</td>\n      <td>m</td>\n      <td>0.0</td>\n    </tr>\n    <tr>\n      <th>42</th>\n      <td>AE</td>\n      <td>2006</td>\n      <td>NaN</td>\n      <td>m</td>\n      <td>0.0</td>\n    </tr>\n    <tr>\n      <th>43</th>\n      <td>AE</td>\n      <td>2007</td>\n      <td>NaN</td>\n      <td>m</td>\n      <td>0.0</td>\n    </tr>\n    <tr>\n      <th>44</th>\n      <td>AE</td>\n      <td>2008</td>\n      <td>NaN</td>\n      <td>m</td>\n      <td>0.0</td>\n    </tr>\n    <tr>\n      <th>94</th>\n      <td>AG</td>\n      <td>2007</td>\n      <td>NaN</td>\n      <td>m</td>\n      <td>0.0</td>\n    </tr>\n    <tr>\n      <th>141</th>\n      <td>AL</td>\n      <td>2005</td>\n      <td>NaN</td>\n      <td>m</td>\n      <td>0.0</td>\n    </tr>\n    <tr>\n      <th>142</th>\n      <td>AL</td>\n      <td>2006</td>\n      <td>NaN</td>\n      <td>m</td>\n      <td>1.0</td>\n    </tr>\n    <tr>\n      <th>143</th>\n      <td>AL</td>\n      <td>2007</td>\n      <td>NaN</td>\n      <td>m</td>\n      <td>0.0</td>\n    </tr>\n  </tbody>\n</table>\n</div>"
     },
     "execution_count": 27,
     "metadata": {},
     "output_type": "execute_result"
    }
   ],
   "source": [
    "final = final[['country','year','age','sex','cases']]\n",
    "final.head(10)"
   ]
  },
  {
   "cell_type": "code",
   "execution_count": 28,
   "metadata": {
    "ExecuteTime": {
     "end_time": "2023-08-03T13:58:06.239261Z",
     "start_time": "2023-08-03T13:58:06.091458Z"
    }
   },
   "outputs": [],
   "source": [
    "final.to_csv('final.csv',index=False)"
   ]
  },
  {
   "cell_type": "code",
   "execution_count": 29,
   "metadata": {
    "ExecuteTime": {
     "end_time": "2023-08-03T13:58:11.464088Z",
     "start_time": "2023-08-03T13:58:11.392290Z"
    }
   },
   "outputs": [
    {
     "data": {
      "text/plain": "      country  year  age sex  cases\n0          AD  2005  NaN   m    0.0\n1          AD  2006  NaN   m    0.0\n2          AD  2008  NaN   m    0.0\n3          AE  2006  NaN   m    0.0\n4          AE  2007  NaN   m    0.0\n...       ...   ...  ...  ..    ...\n35745      VU  2008  NaN   f    0.0\n35746      YE  2008  NaN   f    0.0\n35747      ZA  2008  NaN   f    0.0\n35748      ZM  2008  NaN   f    0.0\n35749      ZW  2008  NaN   f    0.0\n\n[35750 rows x 5 columns]",
      "text/html": "<div>\n<style scoped>\n    .dataframe tbody tr th:only-of-type {\n        vertical-align: middle;\n    }\n\n    .dataframe tbody tr th {\n        vertical-align: top;\n    }\n\n    .dataframe thead th {\n        text-align: right;\n    }\n</style>\n<table border=\"1\" class=\"dataframe\">\n  <thead>\n    <tr style=\"text-align: right;\">\n      <th></th>\n      <th>country</th>\n      <th>year</th>\n      <th>age</th>\n      <th>sex</th>\n      <th>cases</th>\n    </tr>\n  </thead>\n  <tbody>\n    <tr>\n      <th>0</th>\n      <td>AD</td>\n      <td>2005</td>\n      <td>NaN</td>\n      <td>m</td>\n      <td>0.0</td>\n    </tr>\n    <tr>\n      <th>1</th>\n      <td>AD</td>\n      <td>2006</td>\n      <td>NaN</td>\n      <td>m</td>\n      <td>0.0</td>\n    </tr>\n    <tr>\n      <th>2</th>\n      <td>AD</td>\n      <td>2008</td>\n      <td>NaN</td>\n      <td>m</td>\n      <td>0.0</td>\n    </tr>\n    <tr>\n      <th>3</th>\n      <td>AE</td>\n      <td>2006</td>\n      <td>NaN</td>\n      <td>m</td>\n      <td>0.0</td>\n    </tr>\n    <tr>\n      <th>4</th>\n      <td>AE</td>\n      <td>2007</td>\n      <td>NaN</td>\n      <td>m</td>\n      <td>0.0</td>\n    </tr>\n    <tr>\n      <th>...</th>\n      <td>...</td>\n      <td>...</td>\n      <td>...</td>\n      <td>...</td>\n      <td>...</td>\n    </tr>\n    <tr>\n      <th>35745</th>\n      <td>VU</td>\n      <td>2008</td>\n      <td>NaN</td>\n      <td>f</td>\n      <td>0.0</td>\n    </tr>\n    <tr>\n      <th>35746</th>\n      <td>YE</td>\n      <td>2008</td>\n      <td>NaN</td>\n      <td>f</td>\n      <td>0.0</td>\n    </tr>\n    <tr>\n      <th>35747</th>\n      <td>ZA</td>\n      <td>2008</td>\n      <td>NaN</td>\n      <td>f</td>\n      <td>0.0</td>\n    </tr>\n    <tr>\n      <th>35748</th>\n      <td>ZM</td>\n      <td>2008</td>\n      <td>NaN</td>\n      <td>f</td>\n      <td>0.0</td>\n    </tr>\n    <tr>\n      <th>35749</th>\n      <td>ZW</td>\n      <td>2008</td>\n      <td>NaN</td>\n      <td>f</td>\n      <td>0.0</td>\n    </tr>\n  </tbody>\n</table>\n<p>35750 rows × 5 columns</p>\n</div>"
     },
     "execution_count": 29,
     "metadata": {},
     "output_type": "execute_result"
    }
   ],
   "source": [
    "pd.read_csv('final.csv')"
   ]
  },
  {
   "cell_type": "code",
   "execution_count": null,
   "metadata": {},
   "outputs": [],
   "source": []
  }
 ],
 "metadata": {
  "kernelspec": {
   "display_name": "Python 3",
   "language": "python",
   "name": "python3"
  },
  "language_info": {
   "codemirror_mode": {
    "name": "ipython",
    "version": 3
   },
   "file_extension": ".py",
   "mimetype": "text/x-python",
   "name": "python",
   "nbconvert_exporter": "python",
   "pygments_lexer": "ipython3",
   "version": "3.6.4"
  },
  "toc": {
   "base_numbering": 1,
   "nav_menu": {},
   "number_sections": true,
   "sideBar": true,
   "skip_h1_title": false,
   "title_cell": "Table of Contents",
   "title_sidebar": "Contents",
   "toc_cell": false,
   "toc_position": {},
   "toc_section_display": true,
   "toc_window_display": false
  }
 },
 "nbformat": 4,
 "nbformat_minor": 2
}
