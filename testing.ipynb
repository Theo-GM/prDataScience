{
 "cells": [
  {
   "cell_type": "code",
   "execution_count": null,
   "id": "4874c6b3-b0c8-45b7-b83b-0b39ec72469e",
   "metadata": {
    "tags": []
   },
   "outputs": [],
   "source": [
    "import tempfile\n",
    "from pdf2image import convert_from_path, convert_from_bytes\n"
   ]
  },
  {
   "cell_type": "code",
   "execution_count": null,
   "id": "59a06c21-62eb-43d3-9834-dc50559927cd",
   "metadata": {
    "tags": []
   },
   "outputs": [],
   "source": [
    "from pdf2image.exceptions import (\n",
    "    PDFInfoNotInstalledError,\n",
    "    PDFPageCountError,\n",
    "    PDFSyntaxError\n",
    ")"
   ]
  },
  {
   "cell_type": "code",
   "execution_count": null,
   "id": "c4d33b26-d468-4b4c-981d-3ffbaca5d694",
   "metadata": {
    "tags": []
   },
   "outputs": [],
   "source": [
    "with tempfile.TemporaryDirectory() as path:\n",
    "    images_from_path = convert_from_path('tabla-periodica-valencias-frecuentes.pdf', output_folder=\"../Documents\")\n",
    "\n"
   ]
  },
  {
   "cell_type": "code",
   "execution_count": null,
   "id": "4fbfe525-73a5-41d1-beb4-8db65a8ffccc",
   "metadata": {},
   "outputs": [],
   "source": []
  },
  {
   "cell_type": "code",
   "execution_count": null,
   "id": "e557084b-7017-4c30-8d19-09a017cc3ed5",
   "metadata": {},
   "outputs": [],
   "source": [
    "from PIL import Image\n",
    " \n",
    "\n",
    "\n",
    "img = Image.open(\"Untitled2.png\")\n",
    "\n",
    "\n",
    "\n",
    "img.show()"
   ]
  },
  {
   "cell_type": "code",
   "execution_count": null,
   "id": "f3a1fdb1-8fa4-4b63-9679-e8a742a87f48",
   "metadata": {},
   "outputs": [],
   "source": [
    "myList = (1, 4, 5, 10, 20)\n",
    "\n",
    "print(sum(myList)/len(myList))"
   ]
  },
  {
   "cell_type": "code",
   "execution_count": null,
   "id": "0e0dacb7-b2ab-4fdb-8b1d-8115dd44ed0a",
   "metadata": {},
   "outputs": [],
   "source": [
    "a = 1/4\n",
    "b=2/7\n",
    "c=1/2\n",
    "\n",
    "print(a-b+c)"
   ]
  },
  {
   "cell_type": "code",
   "execution_count": null,
   "id": "2d63997d-e061-418b-aa20-237763e2995f",
   "metadata": {},
   "outputs": [],
   "source": [
    "print(9.64+3.313)"
   ]
  },
  {
   "cell_type": "markdown",
   "id": "a6b258a1-69e0-4047-acd2-517ebcbb1cb2",
   "metadata": {},
   "source": [
    "C(n,r)=n!/r!(n−r)!\n",
    "\n",
    "n = the number of objects to choose from.\n",
    "\n",
    "r = the number of objects selected."
   ]
  },
  {
   "cell_type": "markdown",
   "id": "72953f1b-4128-4005-9262-ac2ac7e91bd2",
   "metadata": {},
   "source": [
    "There are 5 items: A, B, C, D, and E. How many combinations of 3 can you make from these 5 items?"
   ]
  },
  {
   "cell_type": "code",
   "execution_count": null,
   "id": "a1011472-1e6b-4f6e-8253-88fafdb4223f",
   "metadata": {},
   "outputs": [],
   "source": [
    "import math"
   ]
  },
  {
   "cell_type": "code",
   "execution_count": null,
   "id": "389e2ca4-09ba-4a6d-bab7-a17e8f8b6c2e",
   "metadata": {},
   "outputs": [],
   "source": [
    "comb = math.factorial(5)/(math.factorial(3)*math.factorial(2))\n",
    "print(comb)"
   ]
  },
  {
   "cell_type": "markdown",
   "id": "e4eb2ec0-3758-4764-af06-decc4143492f",
   "metadata": {},
   "source": [
    "A team of three will be chosen from a group of 9 candidates. How many possible teams of three are possible?"
   ]
  },
  {
   "cell_type": "code",
   "execution_count": null,
   "id": "80d0032d-fca4-496b-af61-96bb2838a178",
   "metadata": {},
   "outputs": [],
   "source": [
    "comb = math.factorial(9)/(math.factorial(3)*math.factorial(6))\n",
    "print(comb)"
   ]
  },
  {
   "cell_type": "code",
   "execution_count": null,
   "id": "35986b2a-aa83-456a-a26e-6e90f5f1aee5",
   "metadata": {},
   "outputs": [],
   "source": [
    "print(math.factorial(7))"
   ]
  },
  {
   "cell_type": "code",
   "execution_count": 4,
   "id": "a0c7cada-686f-462b-9de7-b257a9cf777b",
   "metadata": {
    "ExecuteTime": {
     "end_time": "2023-08-03T18:31:55.347742Z",
     "start_time": "2023-08-03T18:31:50.330279Z"
    }
   },
   "outputs": [],
   "source": [
    "import pandas as pd\n",
    "import numpy as np\n"
   ]
  },
  {
   "cell_type": "code",
   "execution_count": 5,
   "id": "98c29c73-6e1a-44a9-9474-dd65668af2ca",
   "metadata": {
    "ExecuteTime": {
     "end_time": "2023-08-03T18:31:58.673826Z",
     "start_time": "2023-08-03T18:31:56.191891Z"
    }
   },
   "outputs": [],
   "source": [
    "df = pd.read_excel('numpy01.xlsx')"
   ]
  },
  {
   "cell_type": "code",
   "execution_count": 6,
   "outputs": [
    {
     "data": {
      "text/plain": "  Nombre      Edad    Sexo  Altura  Peso\n0      Juan     20  Hombre    1.70    60\n1     María     25   Mujer    1.60    80\n2     Pedro     30  Hombre    1.80    80\n3       Ana     35   Mujer    1.50    50\n4     Carlos    18  Hombre    1.65    70\n5      Sofía    22   Mujer    1.55    55\n6      Diego    27  Hombre    1.75    85\n7      Laura    32   Mujer    1.65    65\n8       Luis    19  Hombre    1.60    70\n9     Isabel    23   Mujer    1.50    55",
      "text/html": "<div>\n<style scoped>\n    .dataframe tbody tr th:only-of-type {\n        vertical-align: middle;\n    }\n\n    .dataframe tbody tr th {\n        vertical-align: top;\n    }\n\n    .dataframe thead th {\n        text-align: right;\n    }\n</style>\n<table border=\"1\" class=\"dataframe\">\n  <thead>\n    <tr style=\"text-align: right;\">\n      <th></th>\n      <th>Nombre</th>\n      <th>Edad</th>\n      <th>Sexo</th>\n      <th>Altura</th>\n      <th>Peso</th>\n    </tr>\n  </thead>\n  <tbody>\n    <tr>\n      <th>0</th>\n      <td>Juan</td>\n      <td>20</td>\n      <td>Hombre</td>\n      <td>1.70</td>\n      <td>60</td>\n    </tr>\n    <tr>\n      <th>1</th>\n      <td>María</td>\n      <td>25</td>\n      <td>Mujer</td>\n      <td>1.60</td>\n      <td>80</td>\n    </tr>\n    <tr>\n      <th>2</th>\n      <td>Pedro</td>\n      <td>30</td>\n      <td>Hombre</td>\n      <td>1.80</td>\n      <td>80</td>\n    </tr>\n    <tr>\n      <th>3</th>\n      <td>Ana</td>\n      <td>35</td>\n      <td>Mujer</td>\n      <td>1.50</td>\n      <td>50</td>\n    </tr>\n    <tr>\n      <th>4</th>\n      <td>Carlos</td>\n      <td>18</td>\n      <td>Hombre</td>\n      <td>1.65</td>\n      <td>70</td>\n    </tr>\n    <tr>\n      <th>5</th>\n      <td>Sofía</td>\n      <td>22</td>\n      <td>Mujer</td>\n      <td>1.55</td>\n      <td>55</td>\n    </tr>\n    <tr>\n      <th>6</th>\n      <td>Diego</td>\n      <td>27</td>\n      <td>Hombre</td>\n      <td>1.75</td>\n      <td>85</td>\n    </tr>\n    <tr>\n      <th>7</th>\n      <td>Laura</td>\n      <td>32</td>\n      <td>Mujer</td>\n      <td>1.65</td>\n      <td>65</td>\n    </tr>\n    <tr>\n      <th>8</th>\n      <td>Luis</td>\n      <td>19</td>\n      <td>Hombre</td>\n      <td>1.60</td>\n      <td>70</td>\n    </tr>\n    <tr>\n      <th>9</th>\n      <td>Isabel</td>\n      <td>23</td>\n      <td>Mujer</td>\n      <td>1.50</td>\n      <td>55</td>\n    </tr>\n  </tbody>\n</table>\n</div>"
     },
     "execution_count": 6,
     "metadata": {},
     "output_type": "execute_result"
    }
   ],
   "source": [
    "df"
   ],
   "metadata": {
    "collapsed": false,
    "ExecuteTime": {
     "end_time": "2023-08-03T18:31:59.664875Z",
     "start_time": "2023-08-03T18:31:59.625201Z"
    }
   },
   "id": "4d8e6c6d398447f7"
  },
  {
   "cell_type": "code",
   "execution_count": 9,
   "outputs": [
    {
     "data": {
      "text/plain": "  Nombre      Edad    Sexo  Altura  Peso\n0      Juan     20  Hombre     1.7    60\n1     María     25   Mujer     1.6    80\n2     Pedro     30  Hombre     1.8    80\n3       Ana     35   Mujer     1.5    50",
      "text/html": "<div>\n<style scoped>\n    .dataframe tbody tr th:only-of-type {\n        vertical-align: middle;\n    }\n\n    .dataframe tbody tr th {\n        vertical-align: top;\n    }\n\n    .dataframe thead th {\n        text-align: right;\n    }\n</style>\n<table border=\"1\" class=\"dataframe\">\n  <thead>\n    <tr style=\"text-align: right;\">\n      <th></th>\n      <th>Nombre</th>\n      <th>Edad</th>\n      <th>Sexo</th>\n      <th>Altura</th>\n      <th>Peso</th>\n    </tr>\n  </thead>\n  <tbody>\n    <tr>\n      <th>0</th>\n      <td>Juan</td>\n      <td>20</td>\n      <td>Hombre</td>\n      <td>1.7</td>\n      <td>60</td>\n    </tr>\n    <tr>\n      <th>1</th>\n      <td>María</td>\n      <td>25</td>\n      <td>Mujer</td>\n      <td>1.6</td>\n      <td>80</td>\n    </tr>\n    <tr>\n      <th>2</th>\n      <td>Pedro</td>\n      <td>30</td>\n      <td>Hombre</td>\n      <td>1.8</td>\n      <td>80</td>\n    </tr>\n    <tr>\n      <th>3</th>\n      <td>Ana</td>\n      <td>35</td>\n      <td>Mujer</td>\n      <td>1.5</td>\n      <td>50</td>\n    </tr>\n  </tbody>\n</table>\n</div>"
     },
     "execution_count": 9,
     "metadata": {},
     "output_type": "execute_result"
    }
   ],
   "source": [
    "df.head(4)"
   ],
   "metadata": {
    "collapsed": false,
    "ExecuteTime": {
     "end_time": "2023-08-03T18:32:26.071352Z",
     "start_time": "2023-08-03T18:32:26.050625Z"
    }
   },
   "id": "7d15f96e07024480"
  },
  {
   "cell_type": "code",
   "execution_count": 5,
   "outputs": [],
   "source": [],
   "metadata": {
    "collapsed": false,
    "ExecuteTime": {
     "end_time": "2023-08-02T18:13:18.100099Z",
     "start_time": "2023-08-02T18:13:18.049573Z"
    }
   },
   "id": "a9b67ce355e2ab85"
  },
  {
   "cell_type": "code",
   "execution_count": null,
   "outputs": [],
   "source": [],
   "metadata": {
    "collapsed": false
   },
   "id": "ab5f8e5ab7ef19ca"
  }
 ],
 "metadata": {
  "kernelspec": {
   "display_name": "Python 3 (ipykernel)",
   "language": "python",
   "name": "python3"
  },
  "language_info": {
   "codemirror_mode": {
    "name": "ipython",
    "version": 3
   },
   "file_extension": ".py",
   "mimetype": "text/x-python",
   "name": "python",
   "nbconvert_exporter": "python",
   "pygments_lexer": "ipython3",
   "version": "3.11.4"
  }
 },
 "nbformat": 4,
 "nbformat_minor": 5
}
