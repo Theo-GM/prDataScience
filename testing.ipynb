{
 "cells": [
  {
   "cell_type": "code",
   "execution_count": 4,
   "id": "4874c6b3-b0c8-45b7-b83b-0b39ec72469e",
   "metadata": {
    "tags": []
   },
   "outputs": [],
   "source": [
    "import tempfile\n",
    "from pdf2image import convert_from_path, convert_from_bytes\n"
   ]
  },
  {
   "cell_type": "code",
   "execution_count": 5,
   "id": "59a06c21-62eb-43d3-9834-dc50559927cd",
   "metadata": {
    "tags": []
   },
   "outputs": [],
   "source": [
    "from pdf2image.exceptions import (\n",
    "    PDFInfoNotInstalledError,\n",
    "    PDFPageCountError,\n",
    "    PDFSyntaxError\n",
    ")"
   ]
  },
  {
   "cell_type": "code",
   "execution_count": 22,
   "id": "c4d33b26-d468-4b4c-981d-3ffbaca5d694",
   "metadata": {
    "tags": []
   },
   "outputs": [],
   "source": [
    "with tempfile.TemporaryDirectory() as path:\n",
    "    images_from_path = convert_from_path('tabla-periodica-valencias-frecuentes.pdf', output_folder=\"../Documents\")\n",
    "\n"
   ]
  },
  {
   "cell_type": "code",
   "execution_count": null,
   "id": "4fbfe525-73a5-41d1-beb4-8db65a8ffccc",
   "metadata": {},
   "outputs": [],
   "source": []
  },
  {
   "cell_type": "code",
   "execution_count": 26,
   "id": "e557084b-7017-4c30-8d19-09a017cc3ed5",
   "metadata": {},
   "outputs": [],
   "source": [
    "from PIL import Image\n",
    " \n",
    "\n",
    "\n",
    "img = Image.open(\"Untitled2.png\")\n",
    "\n",
    "\n",
    "\n",
    "img.show()"
   ]
  },
  {
   "cell_type": "code",
   "execution_count": 2,
   "id": "f3a1fdb1-8fa4-4b63-9679-e8a742a87f48",
   "metadata": {},
   "outputs": [
    {
     "name": "stdout",
     "output_type": "stream",
     "text": [
      "8.0\n"
     ]
    }
   ],
   "source": [
    "myList = (1, 4, 5, 10, 20)\n",
    "\n",
    "print(sum(myList)/len(myList))"
   ]
  },
  {
   "cell_type": "code",
   "execution_count": 3,
   "id": "0e0dacb7-b2ab-4fdb-8b1d-8115dd44ed0a",
   "metadata": {},
   "outputs": [
    {
     "name": "stdout",
     "output_type": "stream",
     "text": [
      "0.4642857142857143\n"
     ]
    }
   ],
   "source": [
    "a = 1/4\n",
    "b=2/7\n",
    "c=1/2\n",
    "\n",
    "print(a-b+c)"
   ]
  },
  {
   "cell_type": "code",
   "execution_count": 4,
   "id": "2d63997d-e061-418b-aa20-237763e2995f",
   "metadata": {},
   "outputs": [
    {
     "name": "stdout",
     "output_type": "stream",
     "text": [
      "12.953000000000001\n"
     ]
    }
   ],
   "source": [
    "print(9.64+3.313)"
   ]
  },
  {
   "cell_type": "markdown",
   "id": "a6b258a1-69e0-4047-acd2-517ebcbb1cb2",
   "metadata": {},
   "source": [
    "C(n,r)=n!/r!(n−r)!\n",
    "\n",
    "n = the number of objects to choose from.\n",
    "\n",
    "r = the number of objects selected."
   ]
  },
  {
   "cell_type": "markdown",
   "id": "72953f1b-4128-4005-9262-ac2ac7e91bd2",
   "metadata": {},
   "source": [
    "There are 5 items: A, B, C, D, and E. How many combinations of 3 can you make from these 5 items?"
   ]
  },
  {
   "cell_type": "code",
   "execution_count": 1,
   "id": "a1011472-1e6b-4f6e-8253-88fafdb4223f",
   "metadata": {},
   "outputs": [],
   "source": [
    "import math"
   ]
  },
  {
   "cell_type": "code",
   "execution_count": 5,
   "id": "389e2ca4-09ba-4a6d-bab7-a17e8f8b6c2e",
   "metadata": {},
   "outputs": [
    {
     "name": "stdout",
     "output_type": "stream",
     "text": [
      "10.0\n"
     ]
    }
   ],
   "source": [
    "comb = math.factorial(5)/(math.factorial(3)*math.factorial(2))\n",
    "print(comb)"
   ]
  },
  {
   "cell_type": "markdown",
   "id": "e4eb2ec0-3758-4764-af06-decc4143492f",
   "metadata": {},
   "source": [
    "A team of three will be chosen from a group of 9 candidates. How many possible teams of three are possible?"
   ]
  },
  {
   "cell_type": "code",
   "execution_count": 7,
   "id": "80d0032d-fca4-496b-af61-96bb2838a178",
   "metadata": {},
   "outputs": [
    {
     "name": "stdout",
     "output_type": "stream",
     "text": [
      "84.0\n"
     ]
    }
   ],
   "source": [
    "comb = math.factorial(9)/(math.factorial(3)*math.factorial(6))\n",
    "print(comb)"
   ]
  },
  {
   "cell_type": "code",
   "execution_count": 9,
   "id": "35986b2a-aa83-456a-a26e-6e90f5f1aee5",
   "metadata": {},
   "outputs": [
    {
     "name": "stdout",
     "output_type": "stream",
     "text": [
      "5040\n"
     ]
    }
   ],
   "source": [
    "print(math.factorial(7))"
   ]
  },
  {
   "cell_type": "code",
   "execution_count": 1,
   "id": "a0c7cada-686f-462b-9de7-b257a9cf777b",
   "metadata": {},
   "outputs": [],
   "source": [
    "import pandas as pd"
   ]
  },
  {
   "cell_type": "code",
   "execution_count": null,
   "id": "98c29c73-6e1a-44a9-9474-dd65668af2ca",
   "metadata": {},
   "outputs": [],
   "source": []
  }
 ],
 "metadata": {
  "kernelspec": {
   "display_name": "Python 3 (ipykernel)",
   "language": "python",
   "name": "python3"
  },
  "language_info": {
   "codemirror_mode": {
    "name": "ipython",
    "version": 3
   },
   "file_extension": ".py",
   "mimetype": "text/x-python",
   "name": "python",
   "nbconvert_exporter": "python",
   "pygments_lexer": "ipython3",
   "version": "3.11.4"
  }
 },
 "nbformat": 4,
 "nbformat_minor": 5
}
